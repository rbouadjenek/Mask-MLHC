{
 "cells": [
  {
   "cell_type": "code",
   "execution_count": 4,
   "metadata": {
    "id": "bEN9hWfZevX_"
   },
   "outputs": [],
   "source": [
    "import tensorflow as tf\n",
    "from keras.datasets import cifar100\n",
    "from tensorflow.keras.layers import Input, Dropout, Flatten, Dense, Activation, Lambda, Conv2D, MaxPool2D, GlobalAveragePooling2D\n",
    "from tensorflow.keras.models import Model\n",
    "from tensorflow import keras\n",
    "import numpy as np\n",
    "import matplotlib.pyplot as plt\n",
    "from tensorflow.keras.utils import plot_model\n",
    "import datetime, os\n",
    "import time\n",
    "import pandas as pd\n",
    "import seaborn as sns\n",
    "from tensorflow.keras.applications import VGG19\n",
    "\n",
    "%load_ext tensorboard"
   ]
  },
  {
   "cell_type": "code",
   "execution_count": 1,
   "metadata": {},
   "outputs": [
    {
     "name": "stderr",
     "output_type": "stream",
     "text": [
      "2021-07-18 22:10:24.017893: I tensorflow/stream_executor/platform/default/dso_loader.cc:53] Successfully opened dynamic library libcudart.so.11.0\n",
      "2021-07-18 22:10:25.076883: I tensorflow/stream_executor/platform/default/dso_loader.cc:53] Successfully opened dynamic library libcuda.so.1\n",
      "2021-07-18 22:10:25.146145: I tensorflow/core/common_runtime/gpu/gpu_device.cc:1733] Found device 0 with properties: \n",
      "pciBusID: 0000:65:00.0 name: GeForce RTX 2080 Ti computeCapability: 7.5\n",
      "coreClock: 1.545GHz coreCount: 68 deviceMemorySize: 10.75GiB deviceMemoryBandwidth: 573.69GiB/s\n",
      "2021-07-18 22:10:25.146234: I tensorflow/stream_executor/platform/default/dso_loader.cc:53] Successfully opened dynamic library libcudart.so.11.0\n",
      "2021-07-18 22:10:25.151745: I tensorflow/stream_executor/platform/default/dso_loader.cc:53] Successfully opened dynamic library libcublas.so.11\n",
      "2021-07-18 22:10:25.151881: I tensorflow/stream_executor/platform/default/dso_loader.cc:53] Successfully opened dynamic library libcublasLt.so.11\n",
      "2021-07-18 22:10:25.154334: I tensorflow/stream_executor/platform/default/dso_loader.cc:53] Successfully opened dynamic library libcufft.so.10\n",
      "2021-07-18 22:10:25.154884: I tensorflow/stream_executor/platform/default/dso_loader.cc:53] Successfully opened dynamic library libcurand.so.10\n",
      "2021-07-18 22:10:25.157012: I tensorflow/stream_executor/platform/default/dso_loader.cc:53] Successfully opened dynamic library libcusolver.so.11\n",
      "2021-07-18 22:10:25.158176: I tensorflow/stream_executor/platform/default/dso_loader.cc:53] Successfully opened dynamic library libcusparse.so.11\n",
      "2021-07-18 22:10:25.158441: I tensorflow/stream_executor/platform/default/dso_loader.cc:53] Successfully opened dynamic library libcudnn.so.8\n",
      "2021-07-18 22:10:25.160230: I tensorflow/core/common_runtime/gpu/gpu_device.cc:1871] Adding visible gpu devices: 0\n",
      "2021-07-18 22:10:25.160721: I tensorflow/core/platform/cpu_feature_guard.cc:142] This TensorFlow binary is optimized with oneAPI Deep Neural Network Library (oneDNN) to use the following CPU instructions in performance-critical operations:  AVX2 AVX512F FMA\n",
      "To enable them in other operations, rebuild TensorFlow with the appropriate compiler flags.\n",
      "2021-07-18 22:10:25.162259: I tensorflow/core/common_runtime/gpu/gpu_device.cc:1733] Found device 0 with properties: \n",
      "pciBusID: 0000:65:00.0 name: GeForce RTX 2080 Ti computeCapability: 7.5\n",
      "coreClock: 1.545GHz coreCount: 68 deviceMemorySize: 10.75GiB deviceMemoryBandwidth: 573.69GiB/s\n",
      "2021-07-18 22:10:25.163635: I tensorflow/core/common_runtime/gpu/gpu_device.cc:1871] Adding visible gpu devices: 0\n",
      "2021-07-18 22:10:25.163692: I tensorflow/stream_executor/platform/default/dso_loader.cc:53] Successfully opened dynamic library libcudart.so.11.0\n",
      "2021-07-18 22:10:25.670750: I tensorflow/core/common_runtime/gpu/gpu_device.cc:1258] Device interconnect StreamExecutor with strength 1 edge matrix:\n",
      "2021-07-18 22:10:25.670778: I tensorflow/core/common_runtime/gpu/gpu_device.cc:1264]      0 \n",
      "2021-07-18 22:10:25.670784: I tensorflow/core/common_runtime/gpu/gpu_device.cc:1277] 0:   N \n",
      "2021-07-18 22:10:25.672299: W tensorflow/core/common_runtime/gpu/gpu_bfc_allocator.cc:39] Overriding allow_growth setting because the TF_FORCE_GPU_ALLOW_GROWTH environment variable is set. Original config value was 0.\n",
      "2021-07-18 22:10:25.672328: I tensorflow/core/common_runtime/gpu/gpu_device.cc:1418] Created TensorFlow device (/job:localhost/replica:0/task:0/device:GPU:0 with 9012 MB memory) -> physical GPU (device: 0, name: GeForce RTX 2080 Ti, pci bus id: 0000:65:00.0, compute capability: 7.5)\n"
     ]
    }
   ],
   "source": [
    "from deakin.edu.au.data import Cifar100\n",
    "import deakin.edu.au.models as models\n",
    "from tensorflow.keras.utils import plot_model\n",
    "from graphviz import Digraph"
   ]
  },
  {
   "cell_type": "code",
   "execution_count": 2,
   "metadata": {
    "colab": {
     "base_uri": "https://localhost:8080/"
    },
    "id": "sF_1dvCGevYB",
    "outputId": "042845cb-4427-42ec-ae72-3306cfc1d097"
   },
   "outputs": [
    {
     "data": {
      "text/plain": [
       "'diagram8.pdf'"
      ]
     },
     "execution_count": 2,
     "metadata": {},
     "output_type": "execute_result"
    }
   ],
   "source": [
    "#Load dataset\n",
    "dataset = Cifar100()\n",
    "num_classes = [dataset.num_classes_l0, dataset.num_classes_l1, dataset.num_classes_l2]\n",
    "u = dataset.draw_taxonomy()\n",
    "u.view()\n"
   ]
  },
  {
   "cell_type": "code",
   "execution_count": 5,
   "metadata": {},
   "outputs": [],
   "source": [
    "batch = 128\n",
    "epochs = 50\n",
    "early_stopping_callback = tf.keras.callbacks.EarlyStopping(monitor='val_loss', patience=5)\n",
    "# logdir = os.path.join(\"logs\", datetime.datetime.now().strftime(\"%Y%m%d-%H%M%S\"))\n",
    "# tensorboard_callback = tf.keras.callbacks.TensorBoard(logdir, histogram_freq=1)\n",
    "# global_accuracy_callback = global_accuracy(dataset.X_val, dataset.y_val)\n"
   ]
  },
  {
   "cell_type": "code",
   "execution_count": 6,
   "metadata": {},
   "outputs": [
    {
     "name": "stdout",
     "output_type": "stream",
     "text": [
      "Model: \"MLPH_model\"\n",
      "__________________________________________________________________________________________________\n",
      "Layer (type)                    Output Shape         Param #     Connected to                     \n",
      "==================================================================================================\n",
      "main_input (InputLayer)         [(None, 32, 32, 3)]  0                                            \n",
      "__________________________________________________________________________________________________\n",
      "vgg19 (Functional)              (None, None, None, 5 20024384    main_input[0][0]                 \n",
      "__________________________________________________________________________________________________\n",
      "flatten (Flatten)               (None, 512)          0           vgg19[0][0]                      \n",
      "__________________________________________________________________________________________________\n",
      "out_level_0 (Dense)             (None, 2)            1026        flatten[0][0]                    \n",
      "__________________________________________________________________________________________________\n",
      "out_level_1 (Dense)             (None, 20)           10260       flatten[0][0]                    \n",
      "__________________________________________________________________________________________________\n",
      "out_level_2 (Dense)             (None, 100)          51300       flatten[0][0]                    \n",
      "==================================================================================================\n",
      "Total params: 20,086,970\n",
      "Trainable params: 20,086,970\n",
      "Non-trainable params: 0\n",
      "__________________________________________________________________________________________________\n"
     ]
    },
    {
     "name": "stderr",
     "output_type": "stream",
     "text": [
      "2021-07-18 21:36:33.731306: I tensorflow/compiler/mlir/mlir_graph_optimization_pass.cc:176] None of the MLIR Optimization Passes are enabled (registered 2)\n",
      "2021-07-18 21:36:33.749197: I tensorflow/core/platform/profile_utils/cpu_utils.cc:114] CPU Frequency: 3600000000 Hz\n"
     ]
    },
    {
     "name": "stdout",
     "output_type": "stream",
     "text": [
      "Epoch 1/50\n"
     ]
    },
    {
     "name": "stderr",
     "output_type": "stream",
     "text": [
      "2021-07-18 21:36:34.728638: I tensorflow/stream_executor/platform/default/dso_loader.cc:53] Successfully opened dynamic library libcudnn.so.8\n",
      "2021-07-18 21:36:35.179896: I tensorflow/stream_executor/cuda/cuda_dnn.cc:359] Loaded cuDNN version 8100\n",
      "2021-07-18 21:36:35.747063: I tensorflow/stream_executor/platform/default/dso_loader.cc:53] Successfully opened dynamic library libcublas.so.11\n",
      "2021-07-18 21:36:36.131390: I tensorflow/stream_executor/platform/default/dso_loader.cc:53] Successfully opened dynamic library libcublasLt.so.11\n"
     ]
    },
    {
     "name": "stdout",
     "output_type": "stream",
     "text": [
      "391/391 [==============================] - 17s 36ms/step - loss: 3.0900 - out_level_0_loss: 0.6535 - out_level_1_loss: 3.3605 - out_level_2_loss: 5.2559 - out_level_0_accuracy: 0.7600 - out_level_1_accuracy: 0.1195 - out_level_2_accuracy: 0.0187 - val_loss: 2.5120 - val_out_level_0_loss: 0.4007 - val_out_level_1_loss: 2.6071 - val_out_level_2_loss: 4.5281 - val_out_level_0_accuracy: 0.8230 - val_out_level_1_accuracy: 0.1958 - val_out_level_2_accuracy: 0.0326\n",
      "Epoch 2/50\n",
      "391/391 [==============================] - 13s 33ms/step - loss: 2.3704 - out_level_0_loss: 0.3579 - out_level_1_loss: 2.3647 - out_level_2_loss: 4.3885 - out_level_0_accuracy: 0.8500 - out_level_1_accuracy: 0.2908 - out_level_2_accuracy: 0.0543 - val_loss: 2.2503 - val_out_level_0_loss: 0.3412 - val_out_level_1_loss: 2.1556 - val_out_level_2_loss: 4.2542 - val_out_level_0_accuracy: 0.8592 - val_out_level_1_accuracy: 0.3502 - val_out_level_2_accuracy: 0.0680\n",
      "Epoch 3/50\n",
      "391/391 [==============================] - 13s 34ms/step - loss: 2.0730 - out_level_0_loss: 0.2991 - out_level_1_loss: 1.9498 - out_level_2_loss: 3.9701 - out_level_0_accuracy: 0.8791 - out_level_1_accuracy: 0.4107 - out_level_2_accuracy: 0.1153 - val_loss: 1.9349 - val_out_level_0_loss: 0.2789 - val_out_level_1_loss: 1.8271 - val_out_level_2_loss: 3.6987 - val_out_level_0_accuracy: 0.8864 - val_out_level_1_accuracy: 0.4398 - val_out_level_2_accuracy: 0.1620\n",
      "Epoch 4/50\n",
      "391/391 [==============================] - 13s 34ms/step - loss: 1.7921 - out_level_0_loss: 0.2613 - out_level_1_loss: 1.6873 - out_level_2_loss: 3.4278 - out_level_0_accuracy: 0.8956 - out_level_1_accuracy: 0.4776 - out_level_2_accuracy: 0.2130 - val_loss: 1.7258 - val_out_level_0_loss: 0.2644 - val_out_level_1_loss: 1.6569 - val_out_level_2_loss: 3.2562 - val_out_level_0_accuracy: 0.8968 - val_out_level_1_accuracy: 0.4896 - val_out_level_2_accuracy: 0.2526\n",
      "Epoch 5/50\n",
      "391/391 [==============================] - 13s 33ms/step - loss: 1.5675 - out_level_0_loss: 0.2376 - out_level_1_loss: 1.5041 - out_level_2_loss: 2.9607 - out_level_0_accuracy: 0.9073 - out_level_1_accuracy: 0.5300 - out_level_2_accuracy: 0.3000 - val_loss: 1.5695 - val_out_level_0_loss: 0.2731 - val_out_level_1_loss: 1.5340 - val_out_level_2_loss: 2.9013 - val_out_level_0_accuracy: 0.8932 - val_out_level_1_accuracy: 0.5278 - val_out_level_2_accuracy: 0.2996\n",
      "Epoch 6/50\n",
      "391/391 [==============================] - 13s 33ms/step - loss: 1.3972 - out_level_0_loss: 0.2101 - out_level_1_loss: 1.3674 - out_level_2_loss: 2.6139 - out_level_0_accuracy: 0.9192 - out_level_1_accuracy: 0.5689 - out_level_2_accuracy: 0.3590 - val_loss: 1.4385 - val_out_level_0_loss: 0.2280 - val_out_level_1_loss: 1.4482 - val_out_level_2_loss: 2.6393 - val_out_level_0_accuracy: 0.9102 - val_out_level_1_accuracy: 0.5506 - val_out_level_2_accuracy: 0.3520\n",
      "Epoch 7/50\n",
      "391/391 [==============================] - 13s 33ms/step - loss: 1.2667 - out_level_0_loss: 0.1899 - out_level_1_loss: 1.2550 - out_level_2_loss: 2.3553 - out_level_0_accuracy: 0.9274 - out_level_1_accuracy: 0.6043 - out_level_2_accuracy: 0.4055 - val_loss: 1.3461 - val_out_level_0_loss: 0.2199 - val_out_level_1_loss: 1.3484 - val_out_level_2_loss: 2.4700 - val_out_level_0_accuracy: 0.9158 - val_out_level_1_accuracy: 0.5838 - val_out_level_2_accuracy: 0.3822\n",
      "Epoch 8/50\n",
      "391/391 [==============================] - 13s 33ms/step - loss: 1.1633 - out_level_0_loss: 0.1708 - out_level_1_loss: 1.1637 - out_level_2_loss: 2.1555 - out_level_0_accuracy: 0.9349 - out_level_1_accuracy: 0.6302 - out_level_2_accuracy: 0.4456 - val_loss: 1.2929 - val_out_level_0_loss: 0.2122 - val_out_level_1_loss: 1.3179 - val_out_level_2_loss: 2.3485 - val_out_level_0_accuracy: 0.9184 - val_out_level_1_accuracy: 0.5954 - val_out_level_2_accuracy: 0.4046\n",
      "Epoch 9/50\n",
      "391/391 [==============================] - 13s 33ms/step - loss: 1.0718 - out_level_0_loss: 0.1556 - out_level_1_loss: 1.0748 - out_level_2_loss: 1.9848 - out_level_0_accuracy: 0.9408 - out_level_1_accuracy: 0.6556 - out_level_2_accuracy: 0.4810 - val_loss: 1.2523 - val_out_level_0_loss: 0.2140 - val_out_level_1_loss: 1.2856 - val_out_level_2_loss: 2.2574 - val_out_level_0_accuracy: 0.9224 - val_out_level_1_accuracy: 0.6094 - val_out_level_2_accuracy: 0.4238\n",
      "Epoch 10/50\n",
      "391/391 [==============================] - 13s 33ms/step - loss: 0.9934 - out_level_0_loss: 0.1423 - out_level_1_loss: 0.9939 - out_level_2_loss: 1.8438 - out_level_0_accuracy: 0.9460 - out_level_1_accuracy: 0.6820 - out_level_2_accuracy: 0.5088 - val_loss: 1.2158 - val_out_level_0_loss: 0.2117 - val_out_level_1_loss: 1.2433 - val_out_level_2_loss: 2.1924 - val_out_level_0_accuracy: 0.9256 - val_out_level_1_accuracy: 0.6254 - val_out_level_2_accuracy: 0.4382\n",
      "Epoch 11/50\n",
      "391/391 [==============================] - 13s 33ms/step - loss: 0.9166 - out_level_0_loss: 0.1244 - out_level_1_loss: 0.9180 - out_level_2_loss: 1.7074 - out_level_0_accuracy: 0.9532 - out_level_1_accuracy: 0.7060 - out_level_2_accuracy: 0.5396 - val_loss: 1.1926 - val_out_level_0_loss: 0.2127 - val_out_level_1_loss: 1.2259 - val_out_level_2_loss: 2.1391 - val_out_level_0_accuracy: 0.9216 - val_out_level_1_accuracy: 0.6298 - val_out_level_2_accuracy: 0.4488\n",
      "Epoch 12/50\n",
      "391/391 [==============================] - 13s 33ms/step - loss: 0.8444 - out_level_0_loss: 0.1100 - out_level_1_loss: 0.8430 - out_level_2_loss: 1.5801 - out_level_0_accuracy: 0.9592 - out_level_1_accuracy: 0.7276 - out_level_2_accuracy: 0.5690 - val_loss: 1.1669 - val_out_level_0_loss: 0.2095 - val_out_level_1_loss: 1.2023 - val_out_level_2_loss: 2.0887 - val_out_level_0_accuracy: 0.9272 - val_out_level_1_accuracy: 0.6372 - val_out_level_2_accuracy: 0.4646\n",
      "Epoch 13/50\n",
      "391/391 [==============================] - 13s 33ms/step - loss: 0.7789 - out_level_0_loss: 0.0953 - out_level_1_loss: 0.7732 - out_level_2_loss: 1.4681 - out_level_0_accuracy: 0.9643 - out_level_1_accuracy: 0.7492 - out_level_2_accuracy: 0.5970 - val_loss: 1.1692 - val_out_level_0_loss: 0.2356 - val_out_level_1_loss: 1.2085 - val_out_level_2_loss: 2.0636 - val_out_level_0_accuracy: 0.9268 - val_out_level_1_accuracy: 0.6416 - val_out_level_2_accuracy: 0.4818\n",
      "Epoch 14/50\n",
      "391/391 [==============================] - 13s 33ms/step - loss: 0.7168 - out_level_0_loss: 0.0838 - out_level_1_loss: 0.7089 - out_level_2_loss: 1.3577 - out_level_0_accuracy: 0.9695 - out_level_1_accuracy: 0.7714 - out_level_2_accuracy: 0.6223 - val_loss: 1.2242 - val_out_level_0_loss: 0.2761 - val_out_level_1_loss: 1.2806 - val_out_level_2_loss: 2.1159 - val_out_level_0_accuracy: 0.9198 - val_out_level_1_accuracy: 0.6386 - val_out_level_2_accuracy: 0.4744\n",
      "Epoch 15/50\n",
      "391/391 [==============================] - 13s 34ms/step - loss: 0.6538 - out_level_0_loss: 0.0723 - out_level_1_loss: 0.6423 - out_level_2_loss: 1.2467 - out_level_0_accuracy: 0.9739 - out_level_1_accuracy: 0.7926 - out_level_2_accuracy: 0.6501 - val_loss: 1.1821 - val_out_level_0_loss: 0.2360 - val_out_level_1_loss: 1.2429 - val_out_level_2_loss: 2.0673 - val_out_level_0_accuracy: 0.9268 - val_out_level_1_accuracy: 0.6520 - val_out_level_2_accuracy: 0.4808\n",
      "Epoch 16/50\n",
      "391/391 [==============================] - 13s 34ms/step - loss: 0.5890 - out_level_0_loss: 0.0590 - out_level_1_loss: 0.5729 - out_level_2_loss: 1.1351 - out_level_0_accuracy: 0.9782 - out_level_1_accuracy: 0.8145 - out_level_2_accuracy: 0.6800 - val_loss: 1.2124 - val_out_level_0_loss: 0.2576 - val_out_level_1_loss: 1.2814 - val_out_level_2_loss: 2.0981 - val_out_level_0_accuracy: 0.9268 - val_out_level_1_accuracy: 0.6442 - val_out_level_2_accuracy: 0.4918\n",
      "Epoch 17/50\n",
      "391/391 [==============================] - 13s 34ms/step - loss: 0.5349 - out_level_0_loss: 0.0517 - out_level_1_loss: 0.5156 - out_level_2_loss: 1.0375 - out_level_0_accuracy: 0.9814 - out_level_1_accuracy: 0.8322 - out_level_2_accuracy: 0.7068 - val_loss: 1.2190 - val_out_level_0_loss: 0.2703 - val_out_level_1_loss: 1.2885 - val_out_level_2_loss: 2.0983 - val_out_level_0_accuracy: 0.9216 - val_out_level_1_accuracy: 0.6610 - val_out_level_2_accuracy: 0.4972\n",
      "Epoch 18/50\n"
     ]
    },
    {
     "name": "stdout",
     "output_type": "stream",
     "text": [
      "391/391 [==============================] - 13s 34ms/step - loss: 0.4723 - out_level_0_loss: 0.0404 - out_level_1_loss: 0.4488 - out_level_2_loss: 0.9278 - out_level_0_accuracy: 0.9863 - out_level_1_accuracy: 0.8555 - out_level_2_accuracy: 0.7351 - val_loss: 1.2492 - val_out_level_0_loss: 0.2851 - val_out_level_1_loss: 1.3244 - val_out_level_2_loss: 2.1381 - val_out_level_0_accuracy: 0.9260 - val_out_level_1_accuracy: 0.6556 - val_out_level_2_accuracy: 0.5010\n",
      "Epoch 19/50\n",
      "391/391 [==============================] - 13s 34ms/step - loss: 0.4186 - out_level_0_loss: 0.0335 - out_level_1_loss: 0.3918 - out_level_2_loss: 0.8305 - out_level_0_accuracy: 0.9888 - out_level_1_accuracy: 0.8732 - out_level_2_accuracy: 0.7607 - val_loss: 1.3012 - val_out_level_0_loss: 0.3032 - val_out_level_1_loss: 1.3828 - val_out_level_2_loss: 2.2174 - val_out_level_0_accuracy: 0.9240 - val_out_level_1_accuracy: 0.6636 - val_out_level_2_accuracy: 0.5050\n",
      "Epoch 20/50\n",
      "391/391 [==============================] - 13s 33ms/step - loss: 0.3635 - out_level_0_loss: 0.0263 - out_level_1_loss: 0.3332 - out_level_2_loss: 0.7310 - out_level_0_accuracy: 0.9914 - out_level_1_accuracy: 0.8937 - out_level_2_accuracy: 0.7888 - val_loss: 1.3368 - val_out_level_0_loss: 0.3218 - val_out_level_1_loss: 1.4232 - val_out_level_2_loss: 2.2654 - val_out_level_0_accuracy: 0.9262 - val_out_level_1_accuracy: 0.6564 - val_out_level_2_accuracy: 0.4996\n",
      "Epoch 21/50\n",
      "391/391 [==============================] - 13s 33ms/step - loss: 0.3156 - out_level_0_loss: 0.0206 - out_level_1_loss: 0.2861 - out_level_2_loss: 0.6402 - out_level_0_accuracy: 0.9932 - out_level_1_accuracy: 0.9082 - out_level_2_accuracy: 0.8154 - val_loss: 1.4340 - val_out_level_0_loss: 0.3724 - val_out_level_1_loss: 1.5448 - val_out_level_2_loss: 2.3846 - val_out_level_0_accuracy: 0.9248 - val_out_level_1_accuracy: 0.6550 - val_out_level_2_accuracy: 0.5036\n",
      "Epoch 22/50\n",
      "391/391 [==============================] - 13s 34ms/step - loss: 0.2679 - out_level_0_loss: 0.0173 - out_level_1_loss: 0.2362 - out_level_2_loss: 0.5501 - out_level_0_accuracy: 0.9945 - out_level_1_accuracy: 0.9241 - out_level_2_accuracy: 0.8426 - val_loss: 1.4759 - val_out_level_0_loss: 0.3793 - val_out_level_1_loss: 1.5954 - val_out_level_2_loss: 2.4529 - val_out_level_0_accuracy: 0.9262 - val_out_level_1_accuracy: 0.6564 - val_out_level_2_accuracy: 0.5046\n",
      "Epoch 23/50\n",
      "391/391 [==============================] - 13s 33ms/step - loss: 0.2250 - out_level_0_loss: 0.0133 - out_level_1_loss: 0.1930 - out_level_2_loss: 0.4687 - out_level_0_accuracy: 0.9958 - out_level_1_accuracy: 0.9396 - out_level_2_accuracy: 0.8634 - val_loss: 1.6325 - val_out_level_0_loss: 0.4380 - val_out_level_1_loss: 1.7783 - val_out_level_2_loss: 2.6813 - val_out_level_0_accuracy: 0.9270 - val_out_level_1_accuracy: 0.6564 - val_out_level_2_accuracy: 0.5032\n",
      "Epoch 24/50\n",
      "391/391 [==============================] - 13s 33ms/step - loss: 0.1872 - out_level_0_loss: 0.0113 - out_level_1_loss: 0.1569 - out_level_2_loss: 0.3935 - out_level_0_accuracy: 0.9965 - out_level_1_accuracy: 0.9520 - out_level_2_accuracy: 0.8875 - val_loss: 1.6528 - val_out_level_0_loss: 0.4349 - val_out_level_1_loss: 1.8087 - val_out_level_2_loss: 2.7148 - val_out_level_0_accuracy: 0.9264 - val_out_level_1_accuracy: 0.6554 - val_out_level_2_accuracy: 0.4982\n",
      "Epoch 25/50\n",
      "391/391 [==============================] - 13s 34ms/step - loss: 0.1484 - out_level_0_loss: 0.0083 - out_level_1_loss: 0.1194 - out_level_2_loss: 0.3174 - out_level_0_accuracy: 0.9974 - out_level_1_accuracy: 0.9646 - out_level_2_accuracy: 0.9100 - val_loss: 1.8032 - val_out_level_0_loss: 0.5137 - val_out_level_1_loss: 1.9842 - val_out_level_2_loss: 2.9118 - val_out_level_0_accuracy: 0.9208 - val_out_level_1_accuracy: 0.6522 - val_out_level_2_accuracy: 0.4990\n",
      "Epoch 26/50\n",
      "391/391 [==============================] - 13s 34ms/step - loss: 0.1265 - out_level_0_loss: 0.0077 - out_level_1_loss: 0.1018 - out_level_2_loss: 0.2701 - out_level_0_accuracy: 0.9977 - out_level_1_accuracy: 0.9700 - out_level_2_accuracy: 0.9247 - val_loss: 1.9243 - val_out_level_0_loss: 0.5519 - val_out_level_1_loss: 2.1312 - val_out_level_2_loss: 3.0898 - val_out_level_0_accuracy: 0.9236 - val_out_level_1_accuracy: 0.6566 - val_out_level_2_accuracy: 0.5068\n",
      "Epoch 27/50\n",
      "391/391 [==============================] - 13s 34ms/step - loss: 0.0987 - out_level_0_loss: 0.0065 - out_level_1_loss: 0.0783 - out_level_2_loss: 0.2114 - out_level_0_accuracy: 0.9976 - out_level_1_accuracy: 0.9772 - out_level_2_accuracy: 0.9424 - val_loss: 1.9414 - val_out_level_0_loss: 0.5542 - val_out_level_1_loss: 2.1547 - val_out_level_2_loss: 3.1155 - val_out_level_0_accuracy: 0.9220 - val_out_level_1_accuracy: 0.6534 - val_out_level_2_accuracy: 0.4996\n",
      "Epoch 28/50\n",
      "391/391 [==============================] - 13s 34ms/step - loss: 0.0865 - out_level_0_loss: 0.0090 - out_level_1_loss: 0.0689 - out_level_2_loss: 0.1817 - out_level_0_accuracy: 0.9967 - out_level_1_accuracy: 0.9800 - out_level_2_accuracy: 0.9511 - val_loss: 2.0887 - val_out_level_0_loss: 0.6165 - val_out_level_1_loss: 2.3032 - val_out_level_2_loss: 3.3464 - val_out_level_0_accuracy: 0.9242 - val_out_level_1_accuracy: 0.6564 - val_out_level_2_accuracy: 0.4978\n",
      "Epoch 29/50\n",
      "391/391 [==============================] - 13s 34ms/step - loss: 0.0706 - out_level_0_loss: 0.0085 - out_level_1_loss: 0.0548 - out_level_2_loss: 0.1485 - out_level_0_accuracy: 0.9972 - out_level_1_accuracy: 0.9848 - out_level_2_accuracy: 0.9602 - val_loss: 2.1033 - val_out_level_0_loss: 0.6044 - val_out_level_1_loss: 2.3578 - val_out_level_2_loss: 3.3477 - val_out_level_0_accuracy: 0.9244 - val_out_level_1_accuracy: 0.6528 - val_out_level_2_accuracy: 0.5026\n",
      "Epoch 30/50\n",
      "391/391 [==============================] - 13s 34ms/step - loss: 0.0663 - out_level_0_loss: 0.0111 - out_level_1_loss: 0.0548 - out_level_2_loss: 0.1330 - out_level_0_accuracy: 0.9962 - out_level_1_accuracy: 0.9839 - out_level_2_accuracy: 0.9645 - val_loss: 2.1891 - val_out_level_0_loss: 0.6310 - val_out_level_1_loss: 2.4543 - val_out_level_2_loss: 3.4821 - val_out_level_0_accuracy: 0.9218 - val_out_level_1_accuracy: 0.6506 - val_out_level_2_accuracy: 0.4934\n",
      "Epoch 31/50\n",
      "391/391 [==============================] - 13s 34ms/step - loss: 0.0418 - out_level_0_loss: 0.0047 - out_level_1_loss: 0.0333 - out_level_2_loss: 0.0874 - out_level_0_accuracy: 0.9983 - out_level_1_accuracy: 0.9914 - out_level_2_accuracy: 0.9791 - val_loss: 2.3978 - val_out_level_0_loss: 0.7189 - val_out_level_1_loss: 2.6865 - val_out_level_2_loss: 3.7878 - val_out_level_0_accuracy: 0.9224 - val_out_level_1_accuracy: 0.6572 - val_out_level_2_accuracy: 0.5018\n",
      "Epoch 32/50\n",
      "391/391 [==============================] - 13s 34ms/step - loss: 0.0368 - out_level_0_loss: 0.0044 - out_level_1_loss: 0.0298 - out_level_2_loss: 0.0763 - out_level_0_accuracy: 0.9985 - out_level_1_accuracy: 0.9924 - out_level_2_accuracy: 0.9821 - val_loss: 2.5538 - val_out_level_0_loss: 0.7347 - val_out_level_1_loss: 2.8870 - val_out_level_2_loss: 4.0396 - val_out_level_0_accuracy: 0.9240 - val_out_level_1_accuracy: 0.6520 - val_out_level_2_accuracy: 0.5018\n",
      "Epoch 33/50\n",
      "391/391 [==============================] - 13s 34ms/step - loss: 0.0419 - out_level_0_loss: 0.0061 - out_level_1_loss: 0.0383 - out_level_2_loss: 0.0812 - out_level_0_accuracy: 0.9978 - out_level_1_accuracy: 0.9885 - out_level_2_accuracy: 0.9795 - val_loss: 2.4151 - val_out_level_0_loss: 0.6600 - val_out_level_1_loss: 2.7155 - val_out_level_2_loss: 3.8697 - val_out_level_0_accuracy: 0.9218 - val_out_level_1_accuracy: 0.6592 - val_out_level_2_accuracy: 0.4952\n",
      "Epoch 34/50\n",
      "391/391 [==============================] - 13s 34ms/step - loss: 0.0433 - out_level_0_loss: 0.0075 - out_level_1_loss: 0.0382 - out_level_2_loss: 0.0843 - out_level_0_accuracy: 0.9973 - out_level_1_accuracy: 0.9890 - out_level_2_accuracy: 0.9789 - val_loss: 2.4343 - val_out_level_0_loss: 0.6677 - val_out_level_1_loss: 2.7645 - val_out_level_2_loss: 3.8706 - val_out_level_0_accuracy: 0.9248 - val_out_level_1_accuracy: 0.6552 - val_out_level_2_accuracy: 0.5016\n",
      "Epoch 35/50\n"
     ]
    },
    {
     "name": "stdout",
     "output_type": "stream",
     "text": [
      "391/391 [==============================] - 13s 33ms/step - loss: 0.0303 - out_level_0_loss: 0.0048 - out_level_1_loss: 0.0277 - out_level_2_loss: 0.0585 - out_level_0_accuracy: 0.9984 - out_level_1_accuracy: 0.9922 - out_level_2_accuracy: 0.9866 - val_loss: 2.6632 - val_out_level_0_loss: 0.7604 - val_out_level_1_loss: 3.0068 - val_out_level_2_loss: 4.2224 - val_out_level_0_accuracy: 0.9254 - val_out_level_1_accuracy: 0.6522 - val_out_level_2_accuracy: 0.4942\n",
      "Epoch 36/50\n",
      "391/391 [==============================] - 13s 34ms/step - loss: 0.0474 - out_level_0_loss: 0.0118 - out_level_1_loss: 0.0449 - out_level_2_loss: 0.0857 - out_level_0_accuracy: 0.9960 - out_level_1_accuracy: 0.9858 - out_level_2_accuracy: 0.9767 - val_loss: 2.4198 - val_out_level_0_loss: 0.6576 - val_out_level_1_loss: 2.7476 - val_out_level_2_loss: 3.8543 - val_out_level_0_accuracy: 0.9276 - val_out_level_1_accuracy: 0.6602 - val_out_level_2_accuracy: 0.4998\n",
      "Epoch 37/50\n",
      "391/391 [==============================] - 13s 34ms/step - loss: 0.0316 - out_level_0_loss: 0.0085 - out_level_1_loss: 0.0291 - out_level_2_loss: 0.0572 - out_level_0_accuracy: 0.9975 - out_level_1_accuracy: 0.9915 - out_level_2_accuracy: 0.9861 - val_loss: 2.5399 - val_out_level_0_loss: 0.6896 - val_out_level_1_loss: 2.8924 - val_out_level_2_loss: 4.0378 - val_out_level_0_accuracy: 0.9230 - val_out_level_1_accuracy: 0.6458 - val_out_level_2_accuracy: 0.4922\n",
      "Epoch 38/50\n",
      "391/391 [==============================] - 13s 34ms/step - loss: 0.0155 - out_level_0_loss: 0.0017 - out_level_1_loss: 0.0136 - out_level_2_loss: 0.0311 - out_level_0_accuracy: 0.9994 - out_level_1_accuracy: 0.9970 - out_level_2_accuracy: 0.9948 - val_loss: 2.8034 - val_out_level_0_loss: 0.7771 - val_out_level_1_loss: 3.2016 - val_out_level_2_loss: 4.4315 - val_out_level_0_accuracy: 0.9244 - val_out_level_1_accuracy: 0.6608 - val_out_level_2_accuracy: 0.5140\n",
      "Epoch 39/50\n",
      "391/391 [==============================] - 13s 34ms/step - loss: 0.0078 - out_level_0_loss: 8.7713e-04 - out_level_1_loss: 0.0068 - out_level_2_loss: 0.0159 - out_level_0_accuracy: 0.9998 - out_level_1_accuracy: 0.9991 - out_level_2_accuracy: 0.9985 - val_loss: 2.9420 - val_out_level_0_loss: 0.7996 - val_out_level_1_loss: 3.3728 - val_out_level_2_loss: 4.6535 - val_out_level_0_accuracy: 0.9266 - val_out_level_1_accuracy: 0.6636 - val_out_level_2_accuracy: 0.5072\n",
      "Epoch 40/50\n",
      "391/391 [==============================] - 13s 34ms/step - loss: 0.0388 - out_level_0_loss: 0.0080 - out_level_1_loss: 0.0399 - out_level_2_loss: 0.0685 - out_level_0_accuracy: 0.9974 - out_level_1_accuracy: 0.9881 - out_level_2_accuracy: 0.9806 - val_loss: 2.4993 - val_out_level_0_loss: 0.6663 - val_out_level_1_loss: 2.8790 - val_out_level_2_loss: 3.9526 - val_out_level_0_accuracy: 0.9264 - val_out_level_1_accuracy: 0.6502 - val_out_level_2_accuracy: 0.4978\n",
      "Epoch 41/50\n",
      "391/391 [==============================] - 13s 34ms/step - loss: 0.0360 - out_level_0_loss: 0.0091 - out_level_1_loss: 0.0341 - out_level_2_loss: 0.0648 - out_level_0_accuracy: 0.9971 - out_level_1_accuracy: 0.9897 - out_level_2_accuracy: 0.9831 - val_loss: 2.5656 - val_out_level_0_loss: 0.7025 - val_out_level_1_loss: 2.9592 - val_out_level_2_loss: 4.0350 - val_out_level_0_accuracy: 0.9246 - val_out_level_1_accuracy: 0.6504 - val_out_level_2_accuracy: 0.5036\n",
      "Epoch 42/50\n",
      "391/391 [==============================] - 14s 35ms/step - loss: 0.0305 - out_level_0_loss: 0.0074 - out_level_1_loss: 0.0294 - out_level_2_loss: 0.0546 - out_level_0_accuracy: 0.9975 - out_level_1_accuracy: 0.9914 - out_level_2_accuracy: 0.9868 - val_loss: 2.6799 - val_out_level_0_loss: 0.7404 - val_out_level_1_loss: 3.0864 - val_out_level_2_loss: 4.2128 - val_out_level_0_accuracy: 0.9270 - val_out_level_1_accuracy: 0.6556 - val_out_level_2_accuracy: 0.5044\n",
      "Epoch 43/50\n",
      "391/391 [==============================] - 14s 35ms/step - loss: 0.0152 - out_level_0_loss: 0.0031 - out_level_1_loss: 0.0151 - out_level_2_loss: 0.0275 - out_level_0_accuracy: 0.9991 - out_level_1_accuracy: 0.9960 - out_level_2_accuracy: 0.9944 - val_loss: 2.7177 - val_out_level_0_loss: 0.7271 - val_out_level_1_loss: 3.1347 - val_out_level_2_loss: 4.2912 - val_out_level_0_accuracy: 0.9272 - val_out_level_1_accuracy: 0.6560 - val_out_level_2_accuracy: 0.5148\n",
      "Epoch 44/50\n",
      "391/391 [==============================] - 13s 34ms/step - loss: 0.0370 - out_level_0_loss: 0.0124 - out_level_1_loss: 0.0356 - out_level_2_loss: 0.0630 - out_level_0_accuracy: 0.9964 - out_level_1_accuracy: 0.9890 - out_level_2_accuracy: 0.9824 - val_loss: 2.4911 - val_out_level_0_loss: 0.6212 - val_out_level_1_loss: 2.8919 - val_out_level_2_loss: 3.9601 - val_out_level_0_accuracy: 0.9176 - val_out_level_1_accuracy: 0.6512 - val_out_level_2_accuracy: 0.4982\n",
      "Epoch 45/50\n",
      "391/391 [==============================] - 13s 34ms/step - loss: 0.0170 - out_level_0_loss: 0.0031 - out_level_1_loss: 0.0156 - out_level_2_loss: 0.0321 - out_level_0_accuracy: 0.9989 - out_level_1_accuracy: 0.9957 - out_level_2_accuracy: 0.9933 - val_loss: 2.7676 - val_out_level_0_loss: 0.7344 - val_out_level_1_loss: 3.1924 - val_out_level_2_loss: 4.3760 - val_out_level_0_accuracy: 0.9292 - val_out_level_1_accuracy: 0.6590 - val_out_level_2_accuracy: 0.5106\n",
      "Epoch 46/50\n",
      "391/391 [==============================] - 13s 34ms/step - loss: 0.0247 - out_level_0_loss: 0.0064 - out_level_1_loss: 0.0246 - out_level_2_loss: 0.0432 - out_level_0_accuracy: 0.9978 - out_level_1_accuracy: 0.9922 - out_level_2_accuracy: 0.9888 - val_loss: 2.7090 - val_out_level_0_loss: 0.7419 - val_out_level_1_loss: 3.1427 - val_out_level_2_loss: 4.2424 - val_out_level_0_accuracy: 0.9226 - val_out_level_1_accuracy: 0.6510 - val_out_level_2_accuracy: 0.4956\n",
      "Epoch 47/50\n",
      "391/391 [==============================] - 13s 34ms/step - loss: 0.0147 - out_level_0_loss: 0.0034 - out_level_1_loss: 0.0130 - out_level_2_loss: 0.0277 - out_level_0_accuracy: 0.9990 - out_level_1_accuracy: 0.9964 - out_level_2_accuracy: 0.9941 - val_loss: 2.8378 - val_out_level_0_loss: 0.8379 - val_out_level_1_loss: 3.2263 - val_out_level_2_loss: 4.4493 - val_out_level_0_accuracy: 0.9194 - val_out_level_1_accuracy: 0.6602 - val_out_level_2_accuracy: 0.5128\n",
      "Epoch 48/50\n",
      "391/391 [==============================] - 13s 34ms/step - loss: 0.0260 - out_level_0_loss: 0.0062 - out_level_1_loss: 0.0265 - out_level_2_loss: 0.0454 - out_level_0_accuracy: 0.9977 - out_level_1_accuracy: 0.9918 - out_level_2_accuracy: 0.9880 - val_loss: 2.7469 - val_out_level_0_loss: 0.7421 - val_out_level_1_loss: 3.2003 - val_out_level_2_loss: 4.2984 - val_out_level_0_accuracy: 0.9282 - val_out_level_1_accuracy: 0.6516 - val_out_level_2_accuracy: 0.5042\n",
      "Epoch 49/50\n",
      "391/391 [==============================] - 13s 34ms/step - loss: 0.0268 - out_level_0_loss: 0.0076 - out_level_1_loss: 0.0283 - out_level_2_loss: 0.0445 - out_level_0_accuracy: 0.9977 - out_level_1_accuracy: 0.9914 - out_level_2_accuracy: 0.9884 - val_loss: 2.6175 - val_out_level_0_loss: 0.6947 - val_out_level_1_loss: 3.0271 - val_out_level_2_loss: 4.1308 - val_out_level_0_accuracy: 0.9226 - val_out_level_1_accuracy: 0.6526 - val_out_level_2_accuracy: 0.5040\n",
      "Epoch 50/50\n",
      "391/391 [==============================] - 13s 34ms/step - loss: 0.0112 - out_level_0_loss: 0.0017 - out_level_1_loss: 0.0107 - out_level_2_loss: 0.0210 - out_level_0_accuracy: 0.9994 - out_level_1_accuracy: 0.9972 - out_level_2_accuracy: 0.9957 - val_loss: 2.8955 - val_out_level_0_loss: 0.7419 - val_out_level_1_loss: 3.3728 - val_out_level_2_loss: 4.5718 - val_out_level_0_accuracy: 0.9274 - val_out_level_1_accuracy: 0.6660 - val_out_level_2_accuracy: 0.5148\n"
     ]
    },
    {
     "data": {
      "image/png": "[encoded data removed]",
      "text/plain": [
       "<IPython.core.display.Image object>"
      ]
     },
     "execution_count": 6,
     "metadata": {},
     "output_type": "execute_result"
    }
   ],
   "source": [
    "# Create the model\n",
    "MLPH_model = models.get_MLPH_model(num_classes, dataset.image_size)\n",
    "MLPH_model.summary()\n",
    "plot_model(MLPH_model)\n",
    "#train model\n",
    "history_MLPH_model = MLPH_model.fit(dataset.X_train, \n",
    "                    dataset.y_train,\n",
    "                    validation_data = (dataset.X_val, dataset.y_val), \n",
    "                    batch_size=batch, \n",
    "                    epochs=epochs,\n",
    "#                     callbacks=[global_accuracy_callback, early_stopping_callback]\n",
    "                    )\n"
   ]
  },
  {
   "cell_type": "code",
   "execution_count": 9,
   "metadata": {},
   "outputs": [
    {
     "data": {
      "text/plain": [
       "dict_keys(['loss', 'out_level_0_loss', 'out_level_1_loss', 'out_level_2_loss', 'out_level_0_accuracy', 'out_level_1_accuracy', 'out_level_2_accuracy', 'val_loss', 'val_out_level_0_loss', 'val_out_level_1_loss', 'val_out_level_2_loss', 'val_out_level_0_accuracy', 'val_out_level_1_accuracy', 'val_out_level_2_accuracy'])"
      ]
     },
     "execution_count": 9,
     "metadata": {},
     "output_type": "execute_result"
    }
   ],
   "source": []
  },
  {
   "cell_type": "code",
   "execution_count": null,
   "metadata": {},
   "outputs": [],
   "source": [
    "# out_f_accuracy = history_MLPH_model.history['out_f_accuracy']\n",
    "# out_c_accuracy = history_MLPH_model.history['out_c_accuracy']\n",
    "# val_out_f_accuracy = history.history['val_out_f_accuracy']\n",
    "# val_out_c_accuracy = history.history['val_out_c_accuracy']\n",
    "# loss = history.history['loss']\n",
    "# val_loss = history.history['val_loss']\n",
    "# epochs = range(1, len(loss) + 1)\n",
    "\n",
    "plt.figure(figsize=(15,4))\n",
    "\n",
    "ax1 = plt.subplot(1, 2, 1)\n",
    "plt.plot(epochs, loss, label='Training loss')\n",
    "plt.plot(epochs, val_loss, label='Validation loss')\n",
    "plt.fill_between(epochs, loss,val_loss,color='g',alpha=.1)\n",
    "\n",
    "plt.title('Training and validation loss')\n",
    "plt.xlabel('Epochs')\n",
    "plt.ylabel('Loss')\n",
    "plt.legend()\n",
    "\n",
    "ax2 = plt.subplot(1, 2, 2)\n",
    "plt.plot(epochs, out_f_accuracy, label='Training f accuracy')\n",
    "plt.plot(epochs, out_c_accuracy, label='Training c accuracy')\n",
    "plt.plot(epochs, val_out_f_accuracy, label='Validation f accuracy')\n",
    "plt.plot(epochs, val_out_c_accuracy, label='Validation c accuracy')\n",
    "# plt.fill_between(epochs, acc,val_acc,color='g',alpha=.1)\n",
    "plt.title('Training and validation accuracy')\n",
    "plt.xlabel('Epochs')\n",
    "plt.ylabel('Accuracy')\n",
    "plt.legend()\n",
    "plt.show()"
   ]
  },
  {
   "cell_type": "code",
   "execution_count": 10,
   "metadata": {},
   "outputs": [
    {
     "name": "stdout",
     "output_type": "stream",
     "text": [
      "Model: \"Model_BCNN1\"\n",
      "_________________________________________________________________\n",
      "Layer (type)                 Output Shape              Param #   \n",
      "=================================================================\n",
      "main_input (InputLayer)      [(None, 32, 32, 3)]       0         \n",
      "_________________________________________________________________\n",
      "vgg19 (Functional)           (None, None, None, 512)   20024384  \n",
      "_________________________________________________________________\n",
      "flatten_1 (Flatten)          (None, 512)               0         \n",
      "_________________________________________________________________\n",
      "out_level_0 (Dense)          (None, 2)                 1026      \n",
      "_________________________________________________________________\n",
      "out_level_1 (Dense)          (None, 20)                60        \n",
      "_________________________________________________________________\n",
      "out_level_2 (Dense)          (None, 100)               2100      \n",
      "=================================================================\n",
      "Total params: 20,027,570\n",
      "Trainable params: 20,027,570\n",
      "Non-trainable params: 0\n",
      "_________________________________________________________________\n"
     ]
    },
    {
     "data": {
      "image/png": "[encoded data removed]",
      "text/plain": [
       "<IPython.core.display.Image object>"
      ]
     },
     "execution_count": 10,
     "metadata": {},
     "output_type": "execute_result"
    }
   ],
   "source": [
    "# Create the model\n",
    "model = models.get_BCNN1(num_classes, dataset.image_size)\n",
    "model.summary()\n",
    "plot_model(model)\n"
   ]
  },
  {
   "cell_type": "code",
   "execution_count": 11,
   "metadata": {},
   "outputs": [
    {
     "name": "stdout",
     "output_type": "stream",
     "text": [
      "Model: \"Model_BCNN1\"\n",
      "_________________________________________________________________\n",
      "Layer (type)                 Output Shape              Param #   \n",
      "=================================================================\n",
      "main_input (InputLayer)      [(None, 32, 32, 3)]       0         \n",
      "_________________________________________________________________\n",
      "vgg19 (Functional)           (None, None, None, 512)   20024384  \n",
      "_________________________________________________________________\n",
      "flatten_2 (Flatten)          (None, 512)               0         \n",
      "_________________________________________________________________\n",
      "out_level_2 (Dense)          (None, 100)               51300     \n",
      "_________________________________________________________________\n",
      "out_level_1 (Dense)          (None, 20)                2020      \n",
      "_________________________________________________________________\n",
      "out_level_0 (Dense)          (None, 2)                 42        \n",
      "=================================================================\n",
      "Total params: 20,077,746\n",
      "Trainable params: 20,077,746\n",
      "Non-trainable params: 0\n",
      "_________________________________________________________________\n"
     ]
    },
    {
     "data": {
      "image/png": "[encoded data removed]",
      "text/plain": [
       "<IPython.core.display.Image object>"
      ]
     },
     "execution_count": 11,
     "metadata": {},
     "output_type": "execute_result"
    }
   ],
   "source": [
    "# Create the model\n",
    "model = models.get_BCNN1(num_classes, dataset.image_size, reverse=True)\n",
    "model.summary()\n",
    "plot_model(model)\n"
   ]
  },
  {
   "cell_type": "code",
   "execution_count": 19,
   "metadata": {},
   "outputs": [
    {
     "name": "stdout",
     "output_type": "stream",
     "text": [
      "Model: \"BCNN2\"\n",
      "__________________________________________________________________________________________________\n",
      "Layer (type)                    Output Shape         Param #     Connected to                     \n",
      "==================================================================================================\n",
      "main_input (InputLayer)         [(None, 32, 32, 3)]  0                                            \n",
      "__________________________________________________________________________________________________\n",
      "vgg19 (Functional)              (None, None, None, 5 20024384    main_input[0][0]                 \n",
      "__________________________________________________________________________________________________\n",
      "flatten_10 (Flatten)            (None, 512)          0           vgg19[3][0]                      \n",
      "__________________________________________________________________________________________________\n",
      "logits_level_0 (Dense)          (None, 2)            1026        flatten_10[0][0]                 \n",
      "__________________________________________________________________________________________________\n",
      "logits_level_1 (Dense)          (None, 20)           60          logits_level_0[0][0]             \n",
      "__________________________________________________________________________________________________\n",
      "logits_level_2 (Dense)          (None, 100)          2100        logits_level_1[0][0]             \n",
      "__________________________________________________________________________________________________\n",
      "out_level_0 (Activation)        (None, 2)            0           logits_level_0[0][0]             \n",
      "__________________________________________________________________________________________________\n",
      "out_level_1 (Activation)        (None, 20)           0           logits_level_1[0][0]             \n",
      "__________________________________________________________________________________________________\n",
      "out_level_2 (Activation)        (None, 100)          0           logits_level_2[0][0]             \n",
      "==================================================================================================\n",
      "Total params: 20,027,570\n",
      "Trainable params: 20,027,570\n",
      "Non-trainable params: 0\n",
      "__________________________________________________________________________________________________\n"
     ]
    },
    {
     "data": {
      "image/png": "[encoded data removed]",
      "text/plain": [
       "<IPython.core.display.Image object>"
      ]
     },
     "execution_count": 19,
     "metadata": {},
     "output_type": "execute_result"
    }
   ],
   "source": [
    "# Create the model\n",
    "model = models.get_BCNN2(num_classes, dataset.image_size)\n",
    "model.summary()\n",
    "plot_model(model)\n"
   ]
  },
  {
   "cell_type": "code",
   "execution_count": 10,
   "metadata": {},
   "outputs": [
    {
     "name": "stdout",
     "output_type": "stream",
     "text": [
      "Model: \"BCNN2\"\n",
      "__________________________________________________________________________________________________\n",
      "Layer (type)                    Output Shape         Param #     Connected to                     \n",
      "==================================================================================================\n",
      "main_input (InputLayer)         [(None, 32, 32, 3)]  0                                            \n",
      "__________________________________________________________________________________________________\n",
      "vgg19 (Functional)              (None, None, None, 5 20024384    main_input[0][0]                 \n",
      "__________________________________________________________________________________________________\n",
      "flatten_16 (Flatten)            (None, 512)          0           vgg19[1][0]                      \n",
      "__________________________________________________________________________________________________\n",
      "logits_level_2 (Dense)          (None, 100)          51300       flatten_16[0][0]                 \n",
      "__________________________________________________________________________________________________\n",
      "logits_level_1 (Dense)          (None, 20)           2020        logits_level_2[0][0]             \n",
      "__________________________________________________________________________________________________\n",
      "logits_level_0 (Dense)          (None, 2)            42          logits_level_1[0][0]             \n",
      "__________________________________________________________________________________________________\n",
      "out_level_2 (Activation)        (None, 100)          0           logits_level_2[0][0]             \n",
      "__________________________________________________________________________________________________\n",
      "out_level_1 (Activation)        (None, 20)           0           logits_level_1[0][0]             \n",
      "__________________________________________________________________________________________________\n",
      "out_level_0 (Activation)        (None, 2)            0           logits_level_0[0][0]             \n",
      "==================================================================================================\n",
      "Total params: 20,077,746\n",
      "Trainable params: 20,077,746\n",
      "Non-trainable params: 0\n",
      "__________________________________________________________________________________________________\n"
     ]
    },
    {
     "data": {
      "image/png": "[encoded data removed]",
      "text/plain": [
       "<IPython.core.display.Image object>"
      ]
     },
     "execution_count": 10,
     "metadata": {},
     "output_type": "execute_result"
    }
   ],
   "source": [
    "# Create the model\n",
    "model = models.get_BCNN2(num_classes, dataset.image_size, reverse=True)\n",
    "model.summary()\n",
    "plot_model(model)\n"
   ]
  },
  {
   "cell_type": "code",
   "execution_count": 11,
   "metadata": {},
   "outputs": [
    {
     "name": "stdout",
     "output_type": "stream",
     "text": [
      "Model: \"mnets\"\n",
      "__________________________________________________________________________________________________\n",
      "Layer (type)                    Output Shape         Param #     Connected to                     \n",
      "==================================================================================================\n",
      "main_input (InputLayer)         [(None, 32, 32, 3)]  0                                            \n",
      "__________________________________________________________________________________________________\n",
      "conv_base0 (Functional)         (None, None, None, 5 20024384    main_input[0][0]                 \n",
      "__________________________________________________________________________________________________\n",
      "conv_base1 (Functional)         (None, None, None, 5 20024384    main_input[0][0]                 \n",
      "__________________________________________________________________________________________________\n",
      "conv_base2 (Functional)         (None, None, None, 5 20024384    main_input[0][0]                 \n",
      "__________________________________________________________________________________________________\n",
      "flatten_17 (Flatten)            (None, 512)          0           conv_base0[0][0]                 \n",
      "__________________________________________________________________________________________________\n",
      "flatten_18 (Flatten)            (None, 512)          0           conv_base1[0][0]                 \n",
      "__________________________________________________________________________________________________\n",
      "flatten_19 (Flatten)            (None, 512)          0           conv_base2[0][0]                 \n",
      "__________________________________________________________________________________________________\n",
      "out_level_0 (Dense)             (None, 2)            1026        flatten_17[0][0]                 \n",
      "__________________________________________________________________________________________________\n",
      "out_level_1 (Dense)             (None, 20)           10260       flatten_18[0][0]                 \n",
      "__________________________________________________________________________________________________\n",
      "out_level_2 (Dense)             (None, 100)          51300       flatten_19[0][0]                 \n",
      "==================================================================================================\n",
      "Total params: 60,135,738\n",
      "Trainable params: 60,135,738\n",
      "Non-trainable params: 0\n",
      "__________________________________________________________________________________________________\n"
     ]
    },
    {
     "data": {
      "image/png": "[encoded data removed]",
      "text/plain": [
       "<IPython.core.display.Image object>"
      ]
     },
     "execution_count": 11,
     "metadata": {},
     "output_type": "execute_result"
    }
   ],
   "source": [
    "# Create the model\n",
    "model = models.get_mnets(num_classes, dataset.image_size, reverse=True)\n",
    "model.summary()\n",
    "plot_model(model)\n"
   ]
  },
  {
   "cell_type": "code",
   "execution_count": null,
   "metadata": {
    "id": "P5i13eJn7_xI"
   },
   "outputs": [],
   "source": [
    "class global_accuracy(keras.callbacks.Callback):\n",
    "    \"\"\"\n",
    "    Each `SquadExample` object contains the character level offsets for each token\n",
    "    in its input paragraph. We use them to get back the span of text corresponding\n",
    "    to the tokens between our predicted start and end tokens.\n",
    "    All the ground-truth answers are also present in each `SquadExample` object.\n",
    "    We calculate the percentage of data points where the span of text obtained\n",
    "    from model predictions matches one of the ground-truth answers.\n",
    "    \"\"\"\n",
    "\n",
    "    def __init__(self, x_eval, y_eval):\n",
    "        self.x_eval = x_eval\n",
    "        self.y_eval = y_eval\n",
    "\n",
    "    def on_epoch_end(self, epoch, logs=None):\n",
    "      accuracy, accuracy_c, accuracy_f, accuracy_c_no_f, accuracy_f_no_c, accuracy_no_f_no_c, accuracy_consistency, consistency = get_metrics(self.model, self.x_eval, self.y_eval)\n",
    "\n",
    "      accuracy_ci = 1.96 * np.std(accuracy) / np.sqrt(len(accuracy))\n",
    "      accuracy = np.mean(accuracy)\n",
    "      \n",
    "      accuracy_c_ci = 1.96 * np.std(accuracy_c) / np.sqrt(len(accuracy_c))\n",
    "      accuracy_c = np.mean(accuracy_c)\n",
    "      \n",
    "      accuracy_f_ci = 1.96 * np.std(accuracy_f) / np.sqrt(len(accuracy_f))\n",
    "      accuracy_f = np.mean(accuracy_f)\n",
    "\n",
    "      accuracy_c_no_f = np.mean(accuracy_c_no_f)\n",
    "\n",
    "      accuracy_f_no_c = np.mean(accuracy_f_no_c)\n",
    "\n",
    "      accuracy_no_f_no_c = np.mean(accuracy_no_f_no_c)\n",
    "\n",
    "      accuracy_consistency = np.mean(accuracy_consistency)\n",
    "\n",
    "      consistency = np.mean(consistency)\n",
    "\n",
    "\n",
    "      print('-'*100)\n",
    "      print(f\"epoch={epoch+1}, global accuracy = {accuracy:.4f}±{accuracy_ci:.4f}, accuracy_c = {accuracy_c:.4f}±{accuracy_c_ci:.4f}, accuracy_f = {accuracy_f:.4f}±{accuracy_f_ci:.4f}, accuracy_c_no_f = {accuracy_c_no_f:.4f}, accuracy_f_no_c = {accuracy_f_no_c:.4f}, accuracy_no_f_no_c = {accuracy_no_f_no_c:.4f}, accuracy_consistency = {accuracy_consistency:.4f}, consistency = {consistency:.4f}\")\n",
    "      print('-'*100)\n",
    "      print('')\n",
    "\n",
    "def get_metrics(model, X, y):\n",
    "  pred_c, pred_f = model.predict(X)\n",
    "  accuracy = []\n",
    "  accuracy_c = []\n",
    "  accuracy_c_no_f = []\n",
    "  accuracy_f = []\n",
    "  accuracy_f_no_c = []\n",
    "  accuracy_no_f_no_c = []\n",
    "  accuracy_consistency = []\n",
    "  consistency = []\n",
    "  for idx, (c, f) in enumerate(zip(pred_c, pred_f)):\n",
    "    c = np.argmax(c)\n",
    "    f = np.argmax(f)\n",
    "    if M[c][f] == 1:\n",
    "      consistency.append(1)\n",
    "    else:\n",
    "      consistency.append(0)\n",
    "\n",
    "    if y[0][idx][0] == c and y[1][idx][0] == f:\n",
    "      accuracy.append(1)\n",
    "      accuracy_c.append(1)\n",
    "      accuracy_f.append(1)\n",
    "      accuracy_c_no_f.append(0)\n",
    "      accuracy_f_no_c.append(0)\n",
    "      accuracy_no_f_no_c.append(0)\n",
    "      accuracy_consistency.append(1)\n",
    "    elif y[0][idx][0] == c and y[1][idx][0] != f:\n",
    "      accuracy.append(0)\n",
    "      accuracy_c.append(1)\n",
    "      accuracy_f.append(0)\n",
    "      accuracy_c_no_f.append(1)\n",
    "      accuracy_f_no_c.append(0)\n",
    "      accuracy_no_f_no_c.append(0)\n",
    "      if M[c][f] == 1:\n",
    "        accuracy_consistency.append(1)\n",
    "      else:\n",
    "        accuracy_consistency.append(0)\n",
    "\n",
    "    elif y[0][idx][0] != c and y[1][idx][0] == f:\n",
    "      accuracy.append(0)\n",
    "      accuracy_c.append(0)\n",
    "      accuracy_f.append(1)\n",
    "      accuracy_c_no_f.append(0)\n",
    "      accuracy_f_no_c.append(1)\n",
    "      accuracy_no_f_no_c.append(0)\n",
    "      accuracy_consistency.append(0)\n",
    "    else:\n",
    "      accuracy.append(0)\n",
    "      accuracy_c.append(0)\n",
    "      accuracy_f.append(0)    \n",
    "      accuracy_c_no_f.append(0)\n",
    "      accuracy_f_no_c.append(0)\n",
    "      accuracy_no_f_no_c.append(1)\n",
    "      accuracy_consistency.append(0)\n",
    "    # break\n",
    "  \n",
    "  return accuracy, accuracy_c, accuracy_f, accuracy_c_no_f, accuracy_f_no_c, accuracy_no_f_no_c, accuracy_consistency, consistency\n",
    "\n"
   ]
  },
  {
   "cell_type": "code",
   "execution_count": null,
   "metadata": {
    "id": "IHkqp9CaN22Y"
   },
   "outputs": [],
   "source": [
    "class Custom_Layer(keras.layers.Layer):\n",
    "    def __init__(self, M, mode='both'):\n",
    "        super(Custom_Layer, self).__init__()\n",
    "        self.M = M\n",
    "        if mode in ['both', 'c_to_f', 'f_to_c']:\n",
    "          self.mode = mode\n",
    "\n",
    "    def build(self, input_shape):\n",
    "        \"\"\"Creates scale variable if use_scale==True.\"\"\"\n",
    "        if isinstance(input_shape, list):\n",
    "          input_dim1 = input_shape[0][1]\n",
    "          input_dim2 = input_shape[0][1]\n",
    "        else:\n",
    "          input_dim1 = input_shape[1]\n",
    "          input_dim2 = input_shape[1]\n",
    "        \n",
    "        units_c = len(self.M)\n",
    "        units_f = len(self.M[0])\n",
    "        self.M = tf.convert_to_tensor(self.M, dtype=tf.float32)\n",
    "\n",
    "        self.W_c = self.add_weight(\n",
    "            shape=(input_dim1, units_c), initializer=\"random_normal\", trainable=True\n",
    "        )\n",
    "        self.b_c = self.add_weight(shape=(units_c,), initializer=\"zeros\", trainable=True)\n",
    "        self.W_f = self.add_weight(\n",
    "            shape=(input_dim2, units_f), initializer=\"random_normal\", trainable=True\n",
    "        )\n",
    "        self.b_f = self.add_weight(shape=(units_f,), initializer=\"zeros\", trainable=True)\n",
    "\n",
    "    def call(self, inputs):\n",
    "      # Code the six equation\n",
    "      if isinstance(inputs, list):\n",
    "        inputs1 = inputs[0]\n",
    "        inputs2 = inputs[1]\n",
    "      else:\n",
    "        inputs1 = inputs\n",
    "        inputs2 = inputs\n",
    "      \n",
    "      z_c = tf.matmul(inputs1, self.W_c) + self.b_c # z^{(i)}_{c}= a^{[l]} \\times W_{c} + b_{c}\n",
    "      z_f = tf.matmul(inputs2, self.W_f) + self.b_f #  z^{(i)}_{f}= a^{[l]} \\times  W_{f}+ b_{f}\n",
    "      if self.mode == 'both' or self.mode == 'f_to_c':\n",
    "        m_c = tf.matmul(tf.nn.softmax(z_f), tf.transpose(self.M)) # m^{(i)}_{c}= softmax(z^{(i)}_{f})\\times M^{T}            \n",
    "        y_c = tf.nn.softmax(z_c * m_c) # \\hat{y}^{(i)}_{c}= softmax(z^{(i)}_{c}\\circ m^{(i)}_{c})\n",
    "      else:\n",
    "        y_c = tf.nn.softmax(z_c)\n",
    "\n",
    "      if self.mode == 'both' or self.mode == 'c_to_f':\n",
    "        m_f = tf.matmul(tf.nn.softmax(z_c), self.M) #  m^{(i)}_{f}= softmax(z^{(i)}_{c})\\times M\n",
    "        y_f = tf.nn.softmax(z_f * m_f) # \\hat{y}^{(i)}_{f}= softmax(z^{(i)}_{f}\\circ m^{(i)}_{f})\n",
    "      else:\n",
    "        y_f = tf.nn.softmax(z_f)\n",
    "\n",
    "      return y_c, y_f\n",
    "\n",
    "    def get_config(self):\n",
    "        config = {'M': self.M, \n",
    "                  'W_c': self.W_c,\n",
    "                  'W_f': self.W_f,\n",
    "                  'b_f': self.b_f,\n",
    "                  'b_f': self.b_f}\n",
    "        base_config = super(Custom_Layer, self).get_config()\n",
    "        return base_config\n",
    "    \n",
    "    @classmethod\n",
    "    def from_config(cls, config):\n",
    "        return cls(**config)"
   ]
  },
  {
   "cell_type": "code",
   "execution_count": null,
   "metadata": {
    "id": "zyX4ZJQWWvyh"
   },
   "outputs": [],
   "source": []
  },
  {
   "cell_type": "code",
   "execution_count": null,
   "metadata": {
    "id": "olwtvly0PR5w"
   },
   "outputs": [],
   "source": [
    "def get_model7(learning_rate=1e-5, pi=0.5, mode='both'):\n",
    "    # Conv base\n",
    "    in_layer = Input(shape=dataset.image_size, name='main_input')\n",
    "    conv_base = keras.applications.VGG19(\n",
    "        include_top=False,\n",
    "        weights=\"imagenet\")(in_layer)\n",
    "    conv_base = Flatten()(conv_base)\n",
    "    # outputs \n",
    "    out_c, out_f = Custom_Layer(M, mode)(conv_base)\n",
    "    # Build the model\n",
    "    model = Model(name='Model_7',\n",
    "            inputs=in_layer,\n",
    "            outputs=[out_c, out_f])\n",
    "    loss = keras.losses.SparseCategoricalCrossentropy()\n",
    "    optimizer = keras.optimizers.Adam(learning_rate=learning_rate)\n",
    "    model.compile(optimizer=optimizer, \n",
    "                  loss=[loss, loss],\n",
    "                  loss_weights=[1-pi, pi],\n",
    "                  metrics=['accuracy'])\n",
    "    return model\n",
    "\n",
    "model = get_model7()\n",
    "model.summary()\n",
    "plot_model(model)\n"
   ]
  },
  {
   "cell_type": "code",
   "execution_count": null,
   "metadata": {
    "id": "tGBWT5Za9ydI"
   },
   "outputs": [],
   "source": [
    "def get_model8(learning_rate=1e-5, pi=0.5, mode='both'):\n",
    "    # Conv base\n",
    "    conv_base1 = keras.applications.VGG19(\n",
    "    include_top=False,\n",
    "    weights=\"imagenet\")\n",
    "    conv_base1._name = 'vgg19_1'\n",
    "    conv_base2 = keras.applications.VGG19(\n",
    "        include_top=False,\n",
    "        weights=\"imagenet\")\n",
    "    conv_base2._name = 'vgg19_2'\n",
    "    in_layer = Input(shape=image_size, name='main_input')\n",
    "    conv_base1 = conv_base1(in_layer)    \n",
    "    conv_base1 = Flatten()(conv_base1)\n",
    "\n",
    "    conv_base2 = conv_base2(in_layer)\n",
    "    conv_base2 = Flatten()(conv_base2)\n",
    "\n",
    "    out_c, out_f = Custom_Layer(M, mode)([conv_base1, conv_base2])\n",
    "    # Build the model\n",
    "    model = Model(name='Model_8',\n",
    "            inputs=in_layer,\n",
    "            outputs=[out_c, out_f])\n",
    "    loss = keras.losses.SparseCategoricalCrossentropy()\n",
    "    optimizer = keras.optimizers.Adam(learning_rate=learning_rate)\n",
    "    model.compile(optimizer=optimizer, \n",
    "                  loss=[loss, loss],\n",
    "                  loss_weights=[1-pi, pi],\n",
    "                  metrics=['accuracy'])\n",
    "    return model\n",
    "\n",
    "# model = get_model8()\n",
    "# model.summary()\n",
    "# plot_model(model)"
   ]
  },
  {
   "cell_type": "code",
   "execution_count": null,
   "metadata": {
    "colab": {
     "base_uri": "https://localhost:8080/",
     "height": 1000
    },
    "id": "rNDYsDs-evYD",
    "outputId": "6af9b741-1eee-4e19-e5f2-b33ff355c2c9",
    "scrolled": true
   },
   "outputs": [],
   "source": [
    "# Create the model\n",
    "model1_pi1 = get_model1(pi=1)\n",
    "model1_pi1.summary()\n",
    "#train model\n",
    "history_model1_pi1 = model1_pi1.fit(X_train, \n",
    "                    y_train,\n",
    "                    validation_data = (X_val, y_val), \n",
    "                    batch_size=batch, \n",
    "                    epochs=epochs,\n",
    "                    callbacks=[global_accuracy_callback, early_stopping_callback]\n",
    "                    )\n",
    "plot_model(model1_pi1)\n",
    "\n"
   ]
  },
  {
   "cell_type": "code",
   "execution_count": null,
   "metadata": {
    "colab": {
     "base_uri": "https://localhost:8080/",
     "height": 1000
    },
    "id": "lMVY75KYiBEZ",
    "outputId": "dbe39786-329f-4604-e934-30d4698d8c11",
    "scrolled": true
   },
   "outputs": [],
   "source": [
    "# Create the model\n",
    "model1_pi0 = get_model1(pi=0)\n",
    "model1_pi0.summary()\n",
    "#train model\n",
    "history_model1_pi0 = model1_pi0.fit(X_train, \n",
    "                    y_train,\n",
    "                    validation_data = (X_val, y_val), \n",
    "                    batch_size=batch, \n",
    "                    epochs=epochs,\n",
    "                    callbacks=[global_accuracy_callback, early_stopping_callback])\n",
    "plot_model(model1_pi0)\n",
    "\n"
   ]
  },
  {
   "cell_type": "code",
   "execution_count": null,
   "metadata": {
    "id": "JgdJipDliSCl"
   },
   "outputs": [],
   "source": [
    "pred_c, _ = model1_pi0.predict(X_test)\n",
    "_, pred_f = model1_pi1.predict(X_test)\n",
    "\n",
    "accuracy_f = []\n",
    "accuracy_c = []\n",
    "consistency = []\n",
    "consistency2 = []\n",
    "consistency3 = []\n",
    "for idx, (c, f) in enumerate(zip(pred_c, pred_f)):\n",
    "  pred_c = np.argmax(c)\n",
    "  pred_f = np.argmax(f)\n",
    "  true_c = y_test[0][idx][0]\n",
    "  true_f = y_test[1][idx][0]\n",
    "  if true_c == pred_c:\n",
    "    accuracy_c.append(100)\n",
    "  else:\n",
    "    accuracy_c.append(0)\n",
    "  if true_f == pred_f:\n",
    "    accuracy_f.append(100)\n",
    "  else:\n",
    "    accuracy_f.append(0)\n",
    "    if mapping_fine_to_cluster[pred_f] != pred_c and true_c == pred_c:\n",
    "      consistency2.append(100)\n",
    "    else:\n",
    "      consistency2.append(0)\n",
    "\n",
    "\n",
    "    if mapping_fine_to_cluster[pred_f] != true_c:\n",
    "      consistency3.append(100)\n",
    "    else:\n",
    "      consistency3.append(0)\n",
    "\n",
    "  if M[pred_c][pred_f] == 0:\n",
    "    consistency.append(100)\n",
    "  else:\n",
    "    consistency.append(0)\n"
   ]
  },
  {
   "cell_type": "code",
   "execution_count": null,
   "metadata": {
    "colab": {
     "base_uri": "https://localhost:8080/",
     "height": 292
    },
    "id": "X9MHRySfoNS2",
    "outputId": "c6ec66c8-0988-412c-e3ef-08e3841510e5"
   },
   "outputs": [],
   "source": [
    "data = pd.DataFrame(columns=['algo','accuracy'])\n",
    "data_list = list(zip(['Coarse-grained\\n classifier']*len(accuracy_c), accuracy_c))\n",
    "data = data.append(pd.DataFrame(data_list, columns=['algo','accuracy']),ignore_index=True)\n",
    "\n",
    "data_list = list(zip(['Fine-grained\\n classifier']*len(accuracy_f), accuracy_f))\n",
    "data = data.append(pd.DataFrame(data_list, columns=['algo','accuracy']),ignore_index=True)\n",
    "\n",
    "plt.figure(figsize=(5.5, 3.8))\n",
    "params = {'legend.fontsize': 18,\n",
    "          'axes.labelsize': 20,\n",
    "          'axes.titlesize': 14,\n",
    "          'xtick.labelsize': 20,\n",
    "          'ytick.labelsize': 18,\n",
    "          'axes.titlepad': 25,\n",
    "          'font.size': 24}\n",
    "plt.rcParams.update(params)\n",
    "\n",
    "ax = sns.barplot(x=\"algo\", y=\"accuracy\", data=data, ci=95, capsize=.2)\n",
    "# ax.text(.5,.87,f\"p-value = {pvalue:.4f} ≮ 0.05\",\n",
    "#         horizontalalignment='center',\n",
    "#         transform=ax.transAxes,\n",
    "#        bbox=dict(facecolor='white', edgecolor='none'))\n",
    "ax.grid(color='black', linestyle='--', linewidth=1)\n",
    "ax.set_axisbelow(True)\n",
    "\n",
    "plt.xlabel(\"\")\n",
    "plt.ylabel(\"% correct predictions\")\n",
    "# plt.title(\"Box plot of #candidates per cycle and system\")\n",
    "\n",
    "plt.ylim(0, 100)\n",
    "plt.xticks(rotation=0)\n",
    "# plt.savefig('plots/em_SQuAD2.0.eps', bbox_inches = 'tight')\n",
    "plt.show()"
   ]
  },
  {
   "cell_type": "code",
   "execution_count": null,
   "metadata": {
    "colab": {
     "base_uri": "https://localhost:8080/",
     "height": 270
    },
    "id": "T7kX_iQsoNb1",
    "outputId": "07fb39f4-983b-4ef1-d99f-9db29f7622e0"
   },
   "outputs": [],
   "source": [
    "data = pd.DataFrame(columns=['algo','consistency'])\n",
    "\n",
    "data_list = list(zip(['XXX']*len(consistency), consistency))\n",
    "data = data.append(pd.DataFrame(data_list, columns=['algo','consistency']),ignore_index=True)\n",
    "\n",
    "plt.figure(figsize=(2, 3.8))\n",
    "params = {'legend.fontsize': 18,\n",
    "          'axes.labelsize': 20,\n",
    "          'axes.titlesize': 14,\n",
    "          'xtick.labelsize': 20,\n",
    "          'ytick.labelsize': 18,\n",
    "          'axes.titlepad': 25,\n",
    "          'font.size': 24}\n",
    "plt.rcParams.update(params)\n",
    "ax = sns.barplot(x=\"algo\", y=\"consistency\", data=data, ci=95, capsize=.2)\n",
    "# ax.text(.5,.87,f\"p-value = {pvalue:.4f} ≮ 0.05\",\n",
    "#         horizontalalignment='center',\n",
    "#         transform=ax.transAxes,\n",
    "#        bbox=dict(facecolor='white', edgecolor='none'))\n",
    "ax.grid(color='black', linestyle='--', linewidth=1)\n",
    "ax.set_axisbelow(True)\n",
    "\n",
    "plt.xlabel(\"\")\n",
    "plt.ylabel(\"% inconsistent preds\")\n",
    "# plt.title(\"Box plot of #candidates per cycle and system\")\n",
    "\n",
    "plt.ylim(0, 100)\n",
    "plt.xticks(rotation=0)\n",
    "# plt.savefig('plots/em_SQuAD2.0.eps', bbox_inches = 'tight')\n",
    "plt.show()"
   ]
  },
  {
   "cell_type": "code",
   "execution_count": null,
   "metadata": {
    "colab": {
     "base_uri": "https://localhost:8080/",
     "height": 270
    },
    "id": "v6fVBJlTx_Mn",
    "outputId": "4cc26249-6e42-4900-85ea-c1fc1734db16"
   },
   "outputs": [],
   "source": [
    "data = pd.DataFrame(columns=['algo','consistency2'])\n",
    "\n",
    "data_list = list(zip(['XXX']*len(consistency2), consistency2))\n",
    "data = data.append(pd.DataFrame(data_list, columns=['algo','consistency2']),ignore_index=True)\n",
    "\n",
    "plt.figure(figsize=(2, 3.8))\n",
    "params = {'legend.fontsize': 18,\n",
    "          'axes.labelsize': 20,\n",
    "          'axes.titlesize': 14,\n",
    "          'xtick.labelsize': 20,\n",
    "          'ytick.labelsize': 18,\n",
    "          'axes.titlepad': 25,\n",
    "          'font.size': 24}\n",
    "plt.rcParams.update(params)\n",
    "ax = sns.barplot(x=\"algo\", y=\"consistency2\", data=data, ci=95, capsize=.2)\n",
    "# ax.text(.5,.87,f\"p-value = {pvalue:.4f} ≮ 0.05\",\n",
    "#         horizontalalignment='center',\n",
    "#         transform=ax.transAxes,\n",
    "#        bbox=dict(facecolor='white', edgecolor='none'))\n",
    "ax.grid(color='black', linestyle='--', linewidth=1)\n",
    "ax.set_axisbelow(True)\n",
    "\n",
    "plt.xlabel(\"\")\n",
    "plt.ylabel(\"% inconsistent preds\")\n",
    "# plt.title(\"Box plot of #candidates per cycle and system\")\n",
    "plt.ylim(0, 100)\n",
    "plt.xticks(rotation=0)\n",
    "# plt.savefig('plots/em_SQuAD2.0.eps', bbox_inches = 'tight')\n",
    "plt.show()"
   ]
  },
  {
   "cell_type": "code",
   "execution_count": null,
   "metadata": {
    "colab": {
     "base_uri": "https://localhost:8080/",
     "height": 270
    },
    "id": "UvX4Q8vlzSJt",
    "outputId": "49668fa2-f323-46ba-ef92-28e8b2d9fe2a"
   },
   "outputs": [],
   "source": [
    "data = pd.DataFrame(columns=['algo','consistency3'])\n",
    "\n",
    "data_list = list(zip(['XXX']*len(consistency3), consistency3))\n",
    "data = data.append(pd.DataFrame(data_list, columns=['algo','consistency3']),ignore_index=True)\n",
    "\n",
    "plt.figure(figsize=(2, 3.8))\n",
    "params = {'legend.fontsize': 18,\n",
    "          'axes.labelsize': 20,\n",
    "          'axes.titlesize': 14,\n",
    "          'xtick.labelsize': 20,\n",
    "          'ytick.labelsize': 18,\n",
    "          'axes.titlepad': 25,\n",
    "          'font.size': 24}\n",
    "plt.rcParams.update(params)\n",
    "ax = sns.barplot(x=\"algo\", y=\"consistency3\", data=data, ci=95, capsize=.2)\n",
    "# ax.text(.5,.87,f\"p-value = {pvalue:.4f} ≮ 0.05\",\n",
    "#         horizontalalignment='center',\n",
    "#         transform=ax.transAxes,\n",
    "#        bbox=dict(facecolor='white', edgecolor='none'))\n",
    "ax.grid(color='black', linestyle='--', linewidth=1)\n",
    "ax.set_axisbelow(True)\n",
    "\n",
    "plt.xlabel(\"\")\n",
    "plt.ylabel(\"% inconsistent preds\")\n",
    "# plt.title(\"Box plot of #candidates per cycle and system\")\n",
    "plt.ylim(0, 100)\n",
    "plt.xticks(rotation=0)\n",
    "# plt.savefig('plots/em_SQuAD2.0.eps', bbox_inches = 'tight')\n",
    "plt.show()"
   ]
  },
  {
   "cell_type": "code",
   "execution_count": null,
   "metadata": {
    "colab": {
     "base_uri": "https://localhost:8080/",
     "height": 1000
    },
    "id": "5SE6IpP90EKU",
    "outputId": "a840dfcf-62b7-4e82-db18-c3ff15497673"
   },
   "outputs": [],
   "source": [
    "# Create the model\n",
    "model1_pi0_5 = get_model1(pi=0.5)\n",
    "model1_pi0_5.summary()\n",
    "#train model\n",
    "history_model11_pi0_5 = model1_pi0_5.fit(X_train, \n",
    "                    y_train,\n",
    "                    validation_data = (X_val, y_val), \n",
    "                    batch_size=batch, \n",
    "                    epochs=epochs,\n",
    "                    callbacks=[global_accuracy_callback, early_stopping_callback])\n",
    "plot_model(model1_pi0_5)\n"
   ]
  },
  {
   "cell_type": "code",
   "execution_count": null,
   "metadata": {
    "colab": {
     "base_uri": "https://localhost:8080/",
     "height": 1000
    },
    "id": "qvGw5Sz311X0",
    "outputId": "5e978c84-faf8-4d8e-f8b0-158120b368c0"
   },
   "outputs": [],
   "source": [
    "# Create the model\n",
    "model2 = get_model2(pi=0.5)\n",
    "model2.summary()\n",
    "#train model\n",
    "history_model2 = model2.fit(X_train, \n",
    "                    y_train,\n",
    "                    validation_data = (X_val, y_val), \n",
    "                    batch_size=batch, \n",
    "                    epochs=epochs,\n",
    "                    callbacks=[global_accuracy_callback, early_stopping_callback])\n",
    "plot_model(model2)\n"
   ]
  },
  {
   "cell_type": "code",
   "execution_count": null,
   "metadata": {
    "colab": {
     "base_uri": "https://localhost:8080/",
     "height": 1000
    },
    "id": "PSIEZZAj11jf",
    "outputId": "0a528f39-7c69-40c5-d56b-e5e29e858af0"
   },
   "outputs": [],
   "source": [
    "# Create the model\n",
    "model3 = get_model3(pi=0.5)\n",
    "model3.summary()\n",
    "#train model\n",
    "history_model3 = model3.fit(X_train, \n",
    "                    y_train,\n",
    "                    validation_data = (X_val, y_val), \n",
    "                    batch_size=batch, \n",
    "                    epochs=epochs,\n",
    "                    callbacks=[global_accuracy_callback, early_stopping_callback])\n",
    "plot_model(model3)\n"
   ]
  },
  {
   "cell_type": "code",
   "execution_count": null,
   "metadata": {
    "colab": {
     "base_uri": "https://localhost:8080/",
     "height": 1000
    },
    "id": "LfejO7hZ139a",
    "outputId": "6c0370aa-381b-4018-dec6-1825a04e2618"
   },
   "outputs": [],
   "source": [
    "# Create the model\n",
    "model4 = get_model4(pi=0.5)\n",
    "model4.summary()\n",
    "#train model\n",
    "history_model4 = model4.fit(X_train, \n",
    "                    y_train,\n",
    "                    validation_data = (X_val, y_val), \n",
    "                    batch_size=batch, \n",
    "                    epochs=epochs,\n",
    "                    callbacks=[global_accuracy_callback, early_stopping_callback])\n",
    "plot_model(model4)\n"
   ]
  },
  {
   "cell_type": "code",
   "execution_count": null,
   "metadata": {
    "colab": {
     "base_uri": "https://localhost:8080/",
     "height": 1000
    },
    "id": "vQhWdwzlVT6J",
    "outputId": "5d8c66f8-599e-4e7e-cd08-3288c7ee5883"
   },
   "outputs": [],
   "source": [
    "# Create the model\n",
    "model5 = get_model5(pi=0.5)\n",
    "model5.summary()\n",
    "#train model\n",
    "history_model5 = model5.fit(X_train, \n",
    "                    y_train,\n",
    "                    validation_data = (X_val, y_val), \n",
    "                    batch_size=batch, \n",
    "                    epochs=epochs,\n",
    "                    callbacks=[global_accuracy_callback, early_stopping_callback])\n",
    "plot_model(model5)\n"
   ]
  },
  {
   "cell_type": "code",
   "execution_count": null,
   "metadata": {
    "colab": {
     "base_uri": "https://localhost:8080/",
     "height": 1000
    },
    "id": "VepbZ-sqAVxF",
    "outputId": "e7db72f5-18da-467b-d4d4-c97611a7be69"
   },
   "outputs": [],
   "source": [
    "# Create the model\n",
    "model6 = get_model6(pi=0.5)\n",
    "model6.summary()\n",
    "#train model\n",
    "history_model6 = model6.fit(X_train, \n",
    "                    y_train,\n",
    "                    validation_data = (X_val, y_val), \n",
    "                    batch_size=batch, \n",
    "                    epochs=epochs,\n",
    "                    callbacks=[global_accuracy_callback, early_stopping_callback])\n",
    "plot_model(model6)\n",
    "\n"
   ]
  },
  {
   "cell_type": "code",
   "execution_count": null,
   "metadata": {
    "colab": {
     "base_uri": "https://localhost:8080/",
     "height": 1000
    },
    "id": "lEe-epHapiqa",
    "outputId": "397e1390-64c6-40c7-c7f7-ffd062d6bb24"
   },
   "outputs": [],
   "source": [
    "# Create the model\n",
    "model7_pi_0_1 = get_model7(pi=0.1)\n",
    "model7_pi_0_1.summary()\n",
    "#train model\n",
    "history_model7_pi_0_1 = model7_pi_0_1.fit(X_train, \n",
    "                    y_train,\n",
    "                    validation_data = (X_val, y_val), \n",
    "                    batch_size=batch, \n",
    "                    epochs=epochs,\n",
    "                    callbacks=[global_accuracy_callback, early_stopping_callback])\n",
    "plot_model(model7_pi_0_1)\n"
   ]
  },
  {
   "cell_type": "code",
   "execution_count": null,
   "metadata": {
    "colab": {
     "base_uri": "https://localhost:8080/",
     "height": 1000
    },
    "id": "0ijWxoedpi2r",
    "outputId": "1df9a373-9df2-4650-a12c-be5f8aeaa5b3"
   },
   "outputs": [],
   "source": [
    "# Create the model\n",
    "model7_pi_0_3 = get_model7(pi=0.3)\n",
    "model7_pi_0_3.summary()\n",
    "#train model\n",
    "history_model7_pi_0_3 = model7_pi_0_3.fit(X_train, \n",
    "                    y_train,\n",
    "                    validation_data = (X_val, y_val), \n",
    "                    batch_size=batch, \n",
    "                    epochs=epochs,\n",
    "                    callbacks=[global_accuracy_callback, early_stopping_callback])\n",
    "plot_model(model7_pi_0_3)\n"
   ]
  },
  {
   "cell_type": "code",
   "execution_count": null,
   "metadata": {
    "colab": {
     "base_uri": "https://localhost:8080/",
     "height": 1000
    },
    "id": "fXTrN-JMpjCb",
    "outputId": "05e407b9-f51e-48a1-da9f-54de8fff1ab7"
   },
   "outputs": [],
   "source": [
    "# Create the model\n",
    "model7_pi_0_5 = get_model7(pi=0.5)\n",
    "model7_pi_0_5.summary()\n",
    "#train model\n",
    "history_model7_pi_0_5 = model7_pi_0_5.fit(X_train, \n",
    "                    y_train,\n",
    "                    validation_data = (X_val, y_val), \n",
    "                    batch_size=batch, \n",
    "                    epochs=epochs,\n",
    "                    callbacks=[global_accuracy_callback, early_stopping_callback])\n",
    "plot_model(model7_pi_0_5)\n"
   ]
  },
  {
   "cell_type": "code",
   "execution_count": null,
   "metadata": {
    "colab": {
     "base_uri": "https://localhost:8080/",
     "height": 1000
    },
    "id": "Id_wgfdaqJ18",
    "outputId": "be77caee-185e-4b2d-914f-4a86cb1af97d"
   },
   "outputs": [],
   "source": [
    "# Create the model\n",
    "model7_pi_0_7 = get_model7(pi=0.7)\n",
    "model7_pi_0_7.summary()\n",
    "#train model\n",
    "history_model7_pi_0_7 = model7_pi_0_7.fit(X_train, \n",
    "                    y_train,\n",
    "                    validation_data = (X_val, y_val), \n",
    "                    batch_size=batch, \n",
    "                    epochs=epochs,\n",
    "                    callbacks=[global_accuracy_callback, early_stopping_callback])\n",
    "plot_model(model7_pi_0_7)\n"
   ]
  },
  {
   "cell_type": "code",
   "execution_count": null,
   "metadata": {
    "colab": {
     "base_uri": "https://localhost:8080/",
     "height": 1000
    },
    "id": "BGeIclsLqJ4C",
    "outputId": "82c4068e-6628-4ef0-c06e-865e3d38e174"
   },
   "outputs": [],
   "source": [
    "# Create the model\n",
    "model7_pi_0_9 = get_model7(pi=0.9)\n",
    "model7_pi_0_9.summary()\n",
    "#train model\n",
    "history_model7_pi_0_9 = model7_pi_0_9.fit(X_train, \n",
    "                    y_train,\n",
    "                    validation_data = (X_val, y_val), \n",
    "                    batch_size=batch, \n",
    "                    epochs=epochs,\n",
    "                    callbacks=[global_accuracy_callback, early_stopping_callback])\n",
    "plot_model(model7_pi_0_9)\n"
   ]
  },
  {
   "cell_type": "code",
   "execution_count": null,
   "metadata": {
    "colab": {
     "base_uri": "https://localhost:8080/",
     "height": 1000
    },
    "id": "O-FcFVKucwL7",
    "outputId": "0ed52c6a-282a-401b-ec03-4cf8fd5cad3c"
   },
   "outputs": [],
   "source": [
    "# Create the model\n",
    "model7_c_to_f_pi_0_1 = get_model7(pi=0.1, mode='c_to_f')\n",
    "model7_c_to_f_pi_0_1.summary()\n",
    "#train model\n",
    "history_model7_c_to_f_pi_0_1 = model7_c_to_f_pi_0_1.fit(X_train, \n",
    "                    y_train,\n",
    "                    validation_data = (X_val, y_val), \n",
    "                    batch_size=batch, \n",
    "                    epochs=epochs,\n",
    "                    callbacks=[global_accuracy_callback, early_stopping_callback])\n",
    "plot_model(model7_c_to_f_pi_0_1)\n"
   ]
  },
  {
   "cell_type": "code",
   "execution_count": null,
   "metadata": {
    "colab": {
     "base_uri": "https://localhost:8080/",
     "height": 1000
    },
    "id": "9wGZot_ayxkF",
    "outputId": "d1b4b8cc-9b71-4e5f-eed8-fa7a2972d22f"
   },
   "outputs": [],
   "source": [
    "# Create the model\n",
    "model7_c_to_f_pi_0_3 = get_model7(pi=0.3, mode='c_to_f')\n",
    "model7_c_to_f_pi_0_3.summary()\n",
    "#train model\n",
    "history_model7_c_to_f_pi_0_3 = model7_c_to_f_pi_0_3.fit(X_train, \n",
    "                    y_train,\n",
    "                    validation_data = (X_val, y_val), \n",
    "                    batch_size=batch, \n",
    "                    epochs=epochs,\n",
    "                    callbacks=[global_accuracy_callback, early_stopping_callback])\n",
    "plot_model(model7_c_to_f_pi_0_3)\n"
   ]
  },
  {
   "cell_type": "code",
   "execution_count": null,
   "metadata": {
    "colab": {
     "base_uri": "https://localhost:8080/",
     "height": 1000
    },
    "id": "TXtZBX52yxqE",
    "outputId": "1df8c1fa-2cb0-40ec-bb12-55b1919ada5f"
   },
   "outputs": [],
   "source": [
    "# Create the model\n",
    "model7_c_to_f_pi_0_5 = get_model7(pi=0.5, mode='c_to_f')\n",
    "model7_c_to_f_pi_0_5.summary()\n",
    "#train model\n",
    "history_model7_c_to_f_pi_0_5 = model7_c_to_f_pi_0_5.fit(X_train, \n",
    "                    y_train,\n",
    "                    validation_data = (X_val, y_val), \n",
    "                    batch_size=batch, \n",
    "                    epochs=epochs,\n",
    "                    callbacks=[global_accuracy_callback, early_stopping_callback])\n",
    "plot_model(model7_c_to_f_pi_0_5)\n"
   ]
  },
  {
   "cell_type": "code",
   "execution_count": null,
   "metadata": {
    "colab": {
     "base_uri": "https://localhost:8080/",
     "height": 1000
    },
    "id": "OCay9eAKyxs9",
    "outputId": "212d27e1-ceed-4285-ee2f-19cd58929600"
   },
   "outputs": [],
   "source": [
    "# Create the model\n",
    "model7_c_to_f_pi_0_7 = get_model7(pi=0.7, mode='c_to_f')\n",
    "model7_c_to_f_pi_0_7.summary()\n",
    "#train model\n",
    "history_model7_c_to_f_pi_0_7 = model7_c_to_f_pi_0_7.fit(X_train, \n",
    "                    y_train,\n",
    "                    validation_data = (X_val, y_val), \n",
    "                    batch_size=batch, \n",
    "                    epochs=epochs,\n",
    "                    callbacks=[global_accuracy_callback, early_stopping_callback])\n",
    "plot_model(model7_c_to_f_pi_0_7)\n"
   ]
  },
  {
   "cell_type": "code",
   "execution_count": null,
   "metadata": {
    "colab": {
     "base_uri": "https://localhost:8080/",
     "height": 1000
    },
    "id": "cflSFnMvzIPP",
    "outputId": "2187b209-0a50-4329-cfcb-a389da2441e5"
   },
   "outputs": [],
   "source": [
    "# Create the model\n",
    "model7_c_to_f_pi_0_9 = get_model7(pi=0.9, mode='c_to_f')\n",
    "model7_c_to_f_pi_0_9.summary()\n",
    "#train model\n",
    "history_model7_c_to_f_pi_0_9 = model7_c_to_f_pi_0_9.fit(X_train, \n",
    "                    y_train,\n",
    "                    validation_data = (X_val, y_val), \n",
    "                    batch_size=batch, \n",
    "                    epochs=epochs,\n",
    "                    callbacks=[global_accuracy_callback, early_stopping_callback])\n",
    "plot_model(model7_c_to_f_pi_0_9)\n"
   ]
  },
  {
   "cell_type": "code",
   "execution_count": null,
   "metadata": {
    "colab": {
     "base_uri": "https://localhost:8080/",
     "height": 1000
    },
    "id": "wDTk8tADcwW9",
    "outputId": "8dd3435e-d5ab-4aa5-beb0-906cd884dd64"
   },
   "outputs": [],
   "source": [
    "# Create the model\n",
    "model7_f_to_c_pi_0_1 = get_model7(pi=0.1, mode='f_to_c')\n",
    "model7_f_to_c_pi_0_1.summary()\n",
    "#train model\n",
    "history_model7_f_to_c_pi_0_1 = model7_f_to_c_pi_0_1.fit(X_train, \n",
    "                    y_train,\n",
    "                    validation_data = (X_val, y_val), \n",
    "                    batch_size=batch, \n",
    "                    epochs=epochs,\n",
    "                    callbacks=[global_accuracy_callback, early_stopping_callback])\n",
    "plot_model(model7_f_to_c_pi_0_1)\n"
   ]
  },
  {
   "cell_type": "code",
   "execution_count": null,
   "metadata": {
    "colab": {
     "base_uri": "https://localhost:8080/",
     "height": 1000
    },
    "id": "-c5nWciPzqmR",
    "outputId": "7ae85def-23fa-4436-b641-3f0a9db0da91"
   },
   "outputs": [],
   "source": [
    "# Create the model\n",
    "model7_f_to_c_pi_0_3 = get_model7(pi=0.3, mode='f_to_c')\n",
    "model7_f_to_c_pi_0_3.summary()\n",
    "#train model\n",
    "history_model7_f_to_c_pi_0_3 = model7_f_to_c_pi_0_3.fit(X_train, \n",
    "                    y_train,\n",
    "                    validation_data = (X_val, y_val), \n",
    "                    batch_size=batch, \n",
    "                    epochs=epochs,\n",
    "                    callbacks=[global_accuracy_callback, early_stopping_callback])\n",
    "plot_model(model7_f_to_c_pi_0_3)\n"
   ]
  },
  {
   "cell_type": "code",
   "execution_count": null,
   "metadata": {
    "colab": {
     "base_uri": "https://localhost:8080/",
     "height": 1000
    },
    "id": "ObqdIcXVzqy6",
    "outputId": "a846c060-2a8f-40f0-a627-30f65eeb790f"
   },
   "outputs": [],
   "source": [
    "# Create the model\n",
    "model7_f_to_c_pi_0_5 = get_model7(pi=0.5, mode='f_to_c')\n",
    "model7_f_to_c_pi_0_5.summary()\n",
    "#train model\n",
    "history_model7_f_to_c_pi_0_5 = model7_f_to_c_pi_0_5.fit(X_train, \n",
    "                    y_train,\n",
    "                    validation_data = (X_val, y_val), \n",
    "                    batch_size=batch, \n",
    "                    epochs=epochs,\n",
    "                    callbacks=[global_accuracy_callback, early_stopping_callback])\n",
    "plot_model(model7_f_to_c_pi_0_5)"
   ]
  },
  {
   "cell_type": "code",
   "execution_count": null,
   "metadata": {
    "colab": {
     "base_uri": "https://localhost:8080/",
     "height": 1000
    },
    "id": "eNgU_Ki2zq8D",
    "outputId": "8a3553e1-f68a-4b64-a917-7a3541cbd971"
   },
   "outputs": [],
   "source": [
    "# Create the model\n",
    "model7_f_to_c_pi_0_7 = get_model7(pi=0.7, mode='f_to_c')\n",
    "model7_f_to_c_pi_0_7.summary()\n",
    "#train model\n",
    "history_model7_f_to_c_pi_0_7 = model7_f_to_c_pi_0_7.fit(X_train, \n",
    "                    y_train,\n",
    "                    validation_data = (X_val, y_val), \n",
    "                    batch_size=batch, \n",
    "                    epochs=epochs,\n",
    "                    callbacks=[global_accuracy_callback, early_stopping_callback])\n",
    "plot_model(model7_f_to_c_pi_0_7)\n"
   ]
  },
  {
   "cell_type": "code",
   "execution_count": null,
   "metadata": {
    "colab": {
     "base_uri": "https://localhost:8080/",
     "height": 1000
    },
    "id": "jgwpZYDAzrE2",
    "outputId": "63aeeca8-c0a6-4ccc-b653-cefed1ffab70"
   },
   "outputs": [],
   "source": [
    "# Create the model\n",
    "model7_f_to_c_pi_0_9 = get_model7(pi=0.9, mode='f_to_c')\n",
    "model7_f_to_c_pi_0_9.summary()\n",
    "#train model\n",
    "history_model7_f_to_c_pi_0_9 = model7_f_to_c_pi_0_9.fit(X_train, \n",
    "                    y_train,\n",
    "                    validation_data = (X_val, y_val), \n",
    "                    batch_size=batch, \n",
    "                    epochs=epochs,\n",
    "                    callbacks=[global_accuracy_callback, early_stopping_callback])\n",
    "plot_model(model7_f_to_c_pi_0_9)\n"
   ]
  },
  {
   "cell_type": "code",
   "execution_count": null,
   "metadata": {
    "colab": {
     "base_uri": "https://localhost:8080/",
     "height": 1000
    },
    "id": "2aRjwYOv-dxP",
    "outputId": "24caf3bd-c40b-431e-f7aa-77d5dc9f348b"
   },
   "outputs": [],
   "source": [
    "# # # Create the model\n",
    "model8 = get_model8(pi=0.5)\n",
    "model8.summary()\n",
    "plot_model(model8)\n",
    "#train model\n",
    "history_model8 = model8.fit(X_train, \n",
    "                    y_train,\n",
    "                    validation_data = (X_val, y_val), \n",
    "                    batch_size=batch, \n",
    "                    epochs=epochs,\n",
    "                    callbacks=[global_accuracy_callback, early_stopping_callback])\n",
    "plot_model(model8)\n",
    "\n"
   ]
  },
  {
   "cell_type": "code",
   "execution_count": null,
   "metadata": {
    "colab": {
     "base_uri": "https://localhost:8080/",
     "height": 1000
    },
    "id": "WSwH1QSbjWBy",
    "outputId": "5351250d-e5e2-42c1-e033-0196c98c5eaa"
   },
   "outputs": [],
   "source": [
    "# # # Create the model\n",
    "model8_c_to_f = get_model8(pi=0.5, mode='c_to_f')\n",
    "model8_c_to_f.summary()\n",
    "plot_model(model8_c_to_f)\n",
    "#train model\n",
    "history_model8_c_to_f = model8_c_to_f.fit(X_train, \n",
    "                    y_train,\n",
    "                    validation_data = (X_val, y_val), \n",
    "                    batch_size=batch, \n",
    "                    epochs=epochs,\n",
    "                    callbacks=[global_accuracy_callback, early_stopping_callback])\n",
    "plot_model(model8_c_to_f)\n",
    "\n"
   ]
  },
  {
   "cell_type": "code",
   "execution_count": null,
   "metadata": {
    "colab": {
     "base_uri": "https://localhost:8080/",
     "height": 1000
    },
    "id": "brGDti2ajWHL",
    "outputId": "5e50e24c-af13-43fc-9cb1-f992e4524fd9"
   },
   "outputs": [],
   "source": [
    "# # # Create the model\n",
    "model8_f_to_c = get_model8(pi=0.5, mode='f_to_c')\n",
    "model8_f_to_c.summary()\n",
    "plot_model(model8_f_to_c)\n",
    "#train model\n",
    "history_model8_f_to_c = model8_f_to_c.fit(X_train, \n",
    "                    y_train,\n",
    "                    validation_data = (X_val, y_val), \n",
    "                    batch_size=batch, \n",
    "                    epochs=epochs,\n",
    "                    callbacks=[global_accuracy_callback, early_stopping_callback])\n",
    "plot_model(model8_f_to_c)\n",
    "\n"
   ]
  },
  {
   "cell_type": "code",
   "execution_count": null,
   "metadata": {
    "id": "md-AGkB8SUJ7"
   },
   "outputs": [],
   "source": [
    "data = pd.DataFrame(columns=['algo','accuracy','accuracy_c', 'accuracy_f', 'accuracy_consistency', 'consistency'])\n",
    "\n",
    "# accuracy, accuracy_c, accuracy_f, accuracy_c_no_f, accuracy_f_no_c, accuracy_no_f_no_c, accuracy_consistency, consistency = get_metrics(model1_pi1, X_test, y_test)\n",
    "# data_list = list(zip(['model1_pi1']*len(accuracy), accuracy, accuracy_c, accuracy_f, accuracy_consistency, consistency))\n",
    "# data = data.append(pd.DataFrame(data_list, columns=['algo','accuracy','accuracy_c', 'accuracy_f', 'accuracy_consistency', 'consistency']),ignore_index=True)\n",
    "\n",
    "# accuracy, accuracy_c, accuracy_f, accuracy_c_no_f, accuracy_f_no_c, accuracy_no_f_no_c, accuracy_consistency, consistency = get_metrics(model1_pi0, X_test, y_test)\n",
    "# data_list = list(zip(['model1_pi0']*len(accuracy), accuracy, accuracy_c, accuracy_f, accuracy_consistency, consistency))\n",
    "# data = data.append(pd.DataFrame(data_list, columns=['algo','accuracy','accuracy_c', 'accuracy_f', 'accuracy_consistency', 'consistency']),ignore_index=True)\n",
    "\n",
    "accuracy, accuracy_c, accuracy_f, accuracy_c_no_f, accuracy_f_no_c, accuracy_no_f_no_c, accuracy_consistency, consistency = get_metrics(model1_pi0_5, X_test, y_test)\n",
    "data_list = list(zip(['model1_pi0.5']*len(accuracy), accuracy, accuracy_c, accuracy_f, accuracy_consistency, consistency))\n",
    "data = data.append(pd.DataFrame(data_list, columns=['algo','accuracy','accuracy_c', 'accuracy_f', 'accuracy_consistency', 'consistency']),ignore_index=True)\n",
    "\n",
    "# accuracy, accuracy_c, accuracy_f, accuracy_c_no_f, accuracy_f_no_c, accuracy_no_f_no_c, accuracy_consistency, consistency = get_metrics(model2, X_test, y_test)\n",
    "# data_list = list(zip(['model2']*len(accuracy), accuracy, accuracy_c, accuracy_f, accuracy_consistency, consistency))\n",
    "# data = data.append(pd.DataFrame(data_list, columns=['algo','accuracy','accuracy_c', 'accuracy_f', 'accuracy_consistency', 'consistency']),ignore_index=True)\n",
    "\n",
    "# accuracy, accuracy_c, accuracy_f, accuracy_c_no_f, accuracy_f_no_c, accuracy_no_f_no_c, accuracy_consistency, consistency = get_metrics(model3, X_test, y_test)\n",
    "# data_list = list(zip(['model3']*len(accuracy), accuracy, accuracy_c, accuracy_f, accuracy_consistency, consistency))\n",
    "# data = data.append(pd.DataFrame(data_list, columns=['algo','accuracy','accuracy_c', 'accuracy_f', 'accuracy_consistency', 'consistency']),ignore_index=True)\n",
    "\n",
    "# accuracy, accuracy_c, accuracy_f, accuracy_c_no_f, accuracy_f_no_c, accuracy_no_f_no_c, accuracy_consistency, consistency = get_metrics(model4, X_test, y_test)\n",
    "# data_list = list(zip(['model4']*len(accuracy), accuracy, accuracy_c, accuracy_f, accuracy_consistency, consistency))\n",
    "# data = data.append(pd.DataFrame(data_list, columns=['algo','accuracy','accuracy_c', 'accuracy_f', 'accuracy_consistency', 'consistency']),ignore_index=True)\n",
    "\n",
    "accuracy, accuracy_c, accuracy_f, accuracy_c_no_f, accuracy_f_no_c, accuracy_no_f_no_c, accuracy_consistency, consistency = get_metrics(model5, X_test, y_test)\n",
    "data_list = list(zip(['model5']*len(accuracy), accuracy, accuracy_c, accuracy_f, accuracy_consistency, consistency))\n",
    "data = data.append(pd.DataFrame(data_list, columns=['algo','accuracy','accuracy_c', 'accuracy_f', 'accuracy_consistency', 'consistency']),ignore_index=True)\n",
    "\n",
    "accuracy, accuracy_c, accuracy_f, accuracy_c_no_f, accuracy_f_no_c, accuracy_no_f_no_c, accuracy_consistency, consistency = get_metrics(model6, X_test, y_test)\n",
    "data_list = list(zip(['model6']*len(accuracy), accuracy, accuracy_c, accuracy_f, accuracy_consistency, consistency))\n",
    "data = data.append(pd.DataFrame(data_list, columns=['algo','accuracy','accuracy_c', 'accuracy_f', 'accuracy_consistency', 'consistency']),ignore_index=True)\n",
    "\n",
    "\n",
    "accuracy, accuracy_c, accuracy_f, accuracy_c_no_f, accuracy_f_no_c, accuracy_no_f_no_c, accuracy_consistency, consistency = get_metrics(model7_pi_0_1, X_test, y_test)\n",
    "data_list = list(zip(['model7_pi_0_1']*len(accuracy), accuracy, accuracy_c, accuracy_f, accuracy_consistency, consistency))\n",
    "data = data.append(pd.DataFrame(data_list, columns=['algo','accuracy','accuracy_c', 'accuracy_f', 'accuracy_consistency', 'consistency']),ignore_index=True)\n",
    "\n",
    "accuracy, accuracy_c, accuracy_f, accuracy_c_no_f, accuracy_f_no_c, accuracy_no_f_no_c, accuracy_consistency, consistency = get_metrics(model7_pi_0_3, X_test, y_test)\n",
    "data_list = list(zip(['model7_pi_0_3']*len(accuracy), accuracy, accuracy_c, accuracy_f, accuracy_consistency, consistency))\n",
    "data = data.append(pd.DataFrame(data_list, columns=['algo','accuracy','accuracy_c', 'accuracy_f', 'accuracy_consistency', 'consistency']),ignore_index=True)\n",
    "\n",
    "accuracy, accuracy_c, accuracy_f, accuracy_c_no_f, accuracy_f_no_c, accuracy_no_f_no_c, accuracy_consistency, consistency = get_metrics(model7_pi_0_5, X_test, y_test)\n",
    "data_list = list(zip(['model7_pi_0_5']*len(accuracy), accuracy, accuracy_c, accuracy_f, accuracy_consistency, consistency))\n",
    "data = data.append(pd.DataFrame(data_list, columns=['algo','accuracy','accuracy_c', 'accuracy_f', 'accuracy_consistency', 'consistency']),ignore_index=True)\n",
    "\n",
    "accuracy, accuracy_c, accuracy_f, accuracy_c_no_f, accuracy_f_no_c, accuracy_no_f_no_c, accuracy_consistency, consistency = get_metrics(model7_pi_0_7, X_test, y_test)\n",
    "data_list = list(zip(['model7_pi_0_7']*len(accuracy), accuracy, accuracy_c, accuracy_f, accuracy_consistency, consistency))\n",
    "data = data.append(pd.DataFrame(data_list, columns=['algo','accuracy','accuracy_c', 'accuracy_f', 'accuracy_consistency', 'consistency']),ignore_index=True)\n",
    "\n",
    "accuracy, accuracy_c, accuracy_f, accuracy_c_no_f, accuracy_f_no_c, accuracy_no_f_no_c, accuracy_consistency, consistency = get_metrics(model7_pi_0_9, X_test, y_test)\n",
    "data_list = list(zip(['model7_pi_0_9']*len(accuracy), accuracy, accuracy_c, accuracy_f, accuracy_consistency, consistency))\n",
    "data = data.append(pd.DataFrame(data_list, columns=['algo','accuracy','accuracy_c', 'accuracy_f', 'accuracy_consistency', 'consistency']),ignore_index=True)\n",
    "\n",
    "accuracy, accuracy_c, accuracy_f, accuracy_c_no_f, accuracy_f_no_c, accuracy_no_f_no_c, accuracy_consistency, consistency = get_metrics(model7_c_to_f_pi_0_1, X_test, y_test)\n",
    "data_list = list(zip(['model7_c_to_f_pi_0_1']*len(accuracy), accuracy, accuracy_c, accuracy_f, accuracy_consistency, consistency))\n",
    "data = data.append(pd.DataFrame(data_list, columns=['algo','accuracy','accuracy_c', 'accuracy_f', 'accuracy_consistency', 'consistency']),ignore_index=True)\n",
    "\n",
    "accuracy, accuracy_c, accuracy_f, accuracy_c_no_f, accuracy_f_no_c, accuracy_no_f_no_c, accuracy_consistency, consistency = get_metrics(model7_c_to_f_pi_0_3, X_test, y_test)\n",
    "data_list = list(zip(['model7_c_to_f_pi_0_3']*len(accuracy), accuracy, accuracy_c, accuracy_f, accuracy_consistency, consistency))\n",
    "data = data.append(pd.DataFrame(data_list, columns=['algo','accuracy','accuracy_c', 'accuracy_f', 'accuracy_consistency', 'consistency']),ignore_index=True)\n",
    "\n",
    "accuracy, accuracy_c, accuracy_f, accuracy_c_no_f, accuracy_f_no_c, accuracy_no_f_no_c, accuracy_consistency, consistency = get_metrics(model7_c_to_f_pi_0_5, X_test, y_test)\n",
    "data_list = list(zip(['model7_c_to_f_pi_0_5']*len(accuracy), accuracy, accuracy_c, accuracy_f, accuracy_consistency, consistency))\n",
    "data = data.append(pd.DataFrame(data_list, columns=['algo','accuracy','accuracy_c', 'accuracy_f', 'accuracy_consistency', 'consistency']),ignore_index=True)\n",
    "\n",
    "accuracy, accuracy_c, accuracy_f, accuracy_c_no_f, accuracy_f_no_c, accuracy_no_f_no_c, accuracy_consistency, consistency = get_metrics(model7_c_to_f_pi_0_7, X_test, y_test)\n",
    "data_list = list(zip(['model7_c_to_f_pi_0_7']*len(accuracy), accuracy, accuracy_c, accuracy_f, accuracy_consistency, consistency))\n",
    "data = data.append(pd.DataFrame(data_list, columns=['algo','accuracy','accuracy_c', 'accuracy_f', 'accuracy_consistency', 'consistency']),ignore_index=True)\n",
    "\n",
    "accuracy, accuracy_c, accuracy_f, accuracy_c_no_f, accuracy_f_no_c, accuracy_no_f_no_c, accuracy_consistency, consistency = get_metrics(model7_c_to_f_pi_0_9, X_test, y_test)\n",
    "data_list = list(zip(['model7_c_to_f_pi_0_9']*len(accuracy), accuracy, accuracy_c, accuracy_f, accuracy_consistency, consistency))\n",
    "data = data.append(pd.DataFrame(data_list, columns=['algo','accuracy','accuracy_c', 'accuracy_f', 'accuracy_consistency', 'consistency']),ignore_index=True)\n",
    "\n",
    "accuracy, accuracy_c, accuracy_f, accuracy_c_no_f, accuracy_f_no_c, accuracy_no_f_no_c, accuracy_consistency, consistency = get_metrics(model7_f_to_c_pi_0_1, X_test, y_test)\n",
    "data_list = list(zip(['model7_f_to_c_pi_0_1']*len(accuracy), accuracy, accuracy_c, accuracy_f, accuracy_consistency, consistency))\n",
    "data = data.append(pd.DataFrame(data_list, columns=['algo','accuracy','accuracy_c', 'accuracy_f', 'accuracy_consistency', 'consistency']),ignore_index=True)\n",
    "\n",
    "accuracy, accuracy_c, accuracy_f, accuracy_c_no_f, accuracy_f_no_c, accuracy_no_f_no_c, accuracy_consistency, consistency = get_metrics(model7_f_to_c_pi_0_3, X_test, y_test)\n",
    "data_list = list(zip(['model7_f_to_c_pi_0_3']*len(accuracy), accuracy, accuracy_c, accuracy_f, accuracy_consistency, consistency))\n",
    "data = data.append(pd.DataFrame(data_list, columns=['algo','accuracy','accuracy_c', 'accuracy_f', 'accuracy_consistency', 'consistency']),ignore_index=True)\n",
    "\n",
    "accuracy, accuracy_c, accuracy_f, accuracy_c_no_f, accuracy_f_no_c, accuracy_no_f_no_c, accuracy_consistency, consistency = get_metrics(model7_f_to_c_pi_0_5, X_test, y_test)\n",
    "data_list = list(zip(['model7_f_to_c_pi_0_5']*len(accuracy), accuracy, accuracy_c, accuracy_f, accuracy_consistency, consistency))\n",
    "data = data.append(pd.DataFrame(data_list, columns=['algo','accuracy','accuracy_c', 'accuracy_f', 'accuracy_consistency', 'consistency']),ignore_index=True)\n",
    "\n",
    "accuracy, accuracy_c, accuracy_f, accuracy_c_no_f, accuracy_f_no_c, accuracy_no_f_no_c, accuracy_consistency, consistency = get_metrics(model7_f_to_c_pi_0_7, X_test, y_test)\n",
    "data_list = list(zip(['model7_f_to_c_pi_0_7']*len(accuracy), accuracy, accuracy_c, accuracy_f, accuracy_consistency, consistency))\n",
    "data = data.append(pd.DataFrame(data_list, columns=['algo','accuracy','accuracy_c', 'accuracy_f', 'accuracy_consistency', 'consistency']),ignore_index=True)\n",
    "\n",
    "accuracy, accuracy_c, accuracy_f, accuracy_c_no_f, accuracy_f_no_c, accuracy_no_f_no_c, accuracy_consistency, consistency = get_metrics(model7_f_to_c_pi_0_9, X_test, y_test)\n",
    "data_list = list(zip(['model7_f_to_c_pi_0_9']*len(accuracy), accuracy, accuracy_c, accuracy_f, accuracy_consistency, consistency))\n",
    "data = data.append(pd.DataFrame(data_list, columns=['algo','accuracy','accuracy_c', 'accuracy_f', 'accuracy_consistency', 'consistency']),ignore_index=True)\n",
    "\n",
    "\n",
    "\n",
    "\n",
    "\n",
    "accuracy, accuracy_c, accuracy_f, accuracy_c_no_f, accuracy_f_no_c, accuracy_no_f_no_c, accuracy_consistency, consistency = get_metrics(model8, X_test, y_test)\n",
    "data_list = list(zip(['model8']*len(accuracy), accuracy, accuracy_c, accuracy_f, accuracy_consistency, consistency))\n",
    "data = data.append(pd.DataFrame(data_list, columns=['algo','accuracy','accuracy_c', 'accuracy_f', 'accuracy_consistency', 'consistency']),ignore_index=True)\n",
    "\n",
    "accuracy, accuracy_c, accuracy_f, accuracy_c_no_f, accuracy_f_no_c, accuracy_no_f_no_c, accuracy_consistency, consistency = get_metrics(model8_c_to_f, X_test, y_test)\n",
    "data_list = list(zip(['model8_c_to_f']*len(accuracy), accuracy, accuracy_c, accuracy_f, accuracy_consistency, consistency))\n",
    "data = data.append(pd.DataFrame(data_list, columns=['algo','accuracy','accuracy_c', 'accuracy_f', 'accuracy_consistency', 'consistency']),ignore_index=True)\n",
    "\n",
    "accuracy, accuracy_c, accuracy_f, accuracy_c_no_f, accuracy_f_no_c, accuracy_no_f_no_c, accuracy_consistency, consistency = get_metrics(model8_f_to_c, X_test, y_test)\n",
    "data_list = list(zip(['model8_f_to_c']*len(accuracy), accuracy, accuracy_c, accuracy_f, accuracy_consistency, consistency))\n",
    "data = data.append(pd.DataFrame(data_list, columns=['algo','accuracy','accuracy_c', 'accuracy_f', 'accuracy_consistency', 'consistency']),ignore_index=True)\n"
   ]
  },
  {
   "cell_type": "code",
   "execution_count": null,
   "metadata": {
    "colab": {
     "base_uri": "https://localhost:8080/",
     "height": 463
    },
    "id": "3rl7SEZQW0Uf",
    "outputId": "9914ea07-b4d4-44ed-8844-ec8209eeaaec"
   },
   "outputs": [],
   "source": [
    "# statistic, pvalue = stats.ttest_ind(acc2, acc_baseline2)\n",
    "plt.figure(figsize=(20, 3.8))\n",
    "\n",
    "ax = sns.barplot(x=\"algo\", y=\"accuracy\", data=data, ci=95, capsize=.2)\n",
    "# ax.text(.5,.87,f\"p-value = {pvalue:.4f} ≮ 0.05\",\n",
    "#         horizontalalignment='center',\n",
    "#         transform=ax.transAxes,\n",
    "#        bbox=dict(facecolor='white', edgecolor='none'))\n",
    "ax.grid(color='black', linestyle='--', linewidth=1)\n",
    "ax.set_axisbelow(True)\n",
    "\n",
    "plt.xlabel(\"\")\n",
    "plt.ylabel(\"Accuracy\")\n",
    "# plt.title(\"Box plot of #candidates per cycle and system\")\n",
    "params = {'legend.fontsize': 18,\n",
    "          'axes.labelsize': 20,\n",
    "          'axes.titlesize': 14,\n",
    "          'xtick.labelsize': 20,\n",
    "          'ytick.labelsize': 18,\n",
    "          'axes.titlepad': 25,\n",
    "          'font.size': 24}\n",
    "plt.rcParams.update(params)\n",
    "plt.ylim(0.3, 0.52)\n",
    "plt.xticks(rotation=90)\n",
    "# plt.savefig('plots/em_SQuAD2.0.eps', bbox_inches = 'tight')\n",
    "plt.show()"
   ]
  },
  {
   "cell_type": "code",
   "execution_count": null,
   "metadata": {
    "colab": {
     "base_uri": "https://localhost:8080/",
     "height": 470
    },
    "id": "qVOFmBgTXMyX",
    "outputId": "a28ebde5-1776-4d97-9ab4-68b528ecd07c"
   },
   "outputs": [],
   "source": [
    "# statistic, pvalue = stats.ttest_ind(acc2, acc_baseline2)\n",
    "plt.figure(figsize=(20, 3.8))\n",
    "\n",
    "ax = sns.barplot(x=\"algo\", y=\"accuracy_c\", data=data, ci=95, capsize=.2)\n",
    "# ax.text(.5,.87,f\"p-value = {pvalue:.4f} ≮ 0.05\",\n",
    "#         horizontalalignment='center',\n",
    "#         transform=ax.transAxes,\n",
    "#        bbox=dict(facecolor='white', edgecolor='none'))\n",
    "ax.grid(color='black', linestyle='--', linewidth=1)\n",
    "ax.set_axisbelow(True)\n",
    "\n",
    "plt.xlabel(\"\")\n",
    "plt.ylabel(\"Accuracy_c\")\n",
    "# plt.title(\"Box plot of #candidates per cycle and system\")\n",
    "params = {'legend.fontsize': 18,\n",
    "          'axes.labelsize': 20,\n",
    "          'axes.titlesize': 14,\n",
    "          'xtick.labelsize': 20,\n",
    "          'ytick.labelsize': 18,\n",
    "          'axes.titlepad': 25,\n",
    "          'font.size': 24}\n",
    "plt.rcParams.update(params)\n",
    "plt.ylim(0.7, 0.85)\n",
    "plt.xticks(rotation=90)\n",
    "# plt.savefig('plots/em_SQuAD2.0.eps', bbox_inches = 'tight')\n",
    "plt.show()"
   ]
  },
  {
   "cell_type": "code",
   "execution_count": null,
   "metadata": {
    "colab": {
     "base_uri": "https://localhost:8080/",
     "height": 470
    },
    "id": "7mPbqzo9XM1C",
    "outputId": "a44e26fe-0f2f-4639-bdb1-aa78958616e0"
   },
   "outputs": [],
   "source": [
    "# statistic, pvalue = stats.ttest_ind(acc2, acc_baseline2)\n",
    "plt.figure(figsize=(20, 3.8))\n",
    "\n",
    "ax = sns.barplot(x=\"algo\", y=\"accuracy_f\", data=data, ci=95, capsize=.2)\n",
    "# ax.text(.5,.87,f\"p-value = {pvalue:.4f} ≮ 0.05\",\n",
    "#         horizontalalignment='center',\n",
    "#         transform=ax.transAxes,\n",
    "#        bbox=dict(facecolor='white', edgecolor='none'))\n",
    "ax.grid(color='black', linestyle='--', linewidth=1)\n",
    "ax.set_axisbelow(True)\n",
    "\n",
    "plt.xlabel(\"\")\n",
    "plt.ylabel(\"Accuracy_f\")\n",
    "# plt.title(\"Box plot of #candidates per cycle and system\")\n",
    "params = {'legend.fontsize': 18,\n",
    "          'axes.labelsize': 20,\n",
    "          'axes.titlesize': 14,\n",
    "          'xtick.labelsize': 20,\n",
    "          'ytick.labelsize': 18,\n",
    "          'axes.titlepad': 25,\n",
    "          'font.size': 24}\n",
    "plt.rcParams.update(params)\n",
    "plt.ylim(0.4, 0.55)\n",
    "plt.xticks(rotation=90)\n",
    "# plt.savefig('plots/em_SQuAD2.0.eps', bbox_inches = 'tight')\n",
    "plt.show()"
   ]
  },
  {
   "cell_type": "code",
   "execution_count": null,
   "metadata": {
    "colab": {
     "base_uri": "https://localhost:8080/",
     "height": 470
    },
    "id": "69so7jS3RMut",
    "outputId": "f6fcc7b3-bfe5-4f7b-9833-d7d87740d9c2"
   },
   "outputs": [],
   "source": [
    "# statistic, pvalue = stats.ttest_ind(acc2, acc_baseline2)\n",
    "plt.figure(figsize=(20, 3.8))\n",
    "\n",
    "ax = sns.barplot(x=\"algo\", y=\"accuracy_consistency\", data=data, ci=95, capsize=.2)\n",
    "# ax.text(.5,.87,f\"p-value = {pvalue:.4f} ≮ 0.05\",\n",
    "#         horizontalalignment='center',\n",
    "#         transform=ax.transAxes,\n",
    "#        bbox=dict(facecolor='white', edgecolor='none'))\n",
    "ax.grid(color='black', linestyle='--', linewidth=1)\n",
    "ax.set_axisbelow(True)\n",
    "\n",
    "plt.xlabel(\"\")\n",
    "plt.ylabel(\"accuracy_consistency\")\n",
    "# plt.title(\"Box plot of #candidates per cycle and system\")\n",
    "params = {'legend.fontsize': 18,\n",
    "          'axes.labelsize': 20,\n",
    "          'axes.titlesize': 14,\n",
    "          'xtick.labelsize': 20,\n",
    "          'ytick.labelsize': 18,\n",
    "          'axes.titlepad': 25,\n",
    "          'font.size': 24}\n",
    "plt.rcParams.update(params)\n",
    "plt.ylim(0.65, 0.85)\n",
    "plt.xticks(rotation=90)\n",
    "# plt.savefig('plots/em_SQuAD2.0.eps', bbox_inches = 'tight')\n",
    "plt.show()"
   ]
  },
  {
   "cell_type": "code",
   "execution_count": null,
   "metadata": {
    "colab": {
     "base_uri": "https://localhost:8080/",
     "height": 470
    },
    "id": "6C_2Adj1Sy4O",
    "outputId": "8a393bb6-0fe2-4730-e966-565e029f6595"
   },
   "outputs": [],
   "source": [
    "# statistic, pvalue = stats.ttest_ind(acc2, acc_baseline2)\n",
    "plt.figure(figsize=(20, 3.8))\n",
    "\n",
    "ax = sns.barplot(x=\"algo\", y=\"consistency\", data=data, ci=95, capsize=.2)\n",
    "# ax.text(.5,.87,f\"p-value = {pvalue:.4f} ≮ 0.05\",\n",
    "#         horizontalalignment='center',\n",
    "#         transform=ax.transAxes,\n",
    "#        bbox=dict(facecolor='white', edgecolor='none'))\n",
    "ax.grid(color='black', linestyle='--', linewidth=1)\n",
    "ax.set_axisbelow(True)\n",
    "\n",
    "plt.xlabel(\"\")\n",
    "plt.ylabel(\"consistency\")\n",
    "# plt.title(\"Box plot of #candidates per cycle and system\")\n",
    "params = {'legend.fontsize': 18,\n",
    "          'axes.labelsize': 20,\n",
    "          'axes.titlesize': 14,\n",
    "          'xtick.labelsize': 20,\n",
    "          'ytick.labelsize': 18,\n",
    "          'axes.titlepad': 25,\n",
    "          'font.size': 24}\n",
    "plt.rcParams.update(params)\n",
    "plt.ylim(0.7, 1.)\n",
    "plt.xticks(rotation=90)\n",
    "# plt.savefig('plots/em_SQuAD2.0.eps', bbox_inches = 'tight')\n",
    "plt.show()\n"
   ]
  },
  {
   "cell_type": "code",
   "execution_count": null,
   "metadata": {
    "id": "XopvCXaNevYD"
   },
   "outputs": [],
   "source": [
    "out_f_accuracy = history.history['out_f_accuracy']\n",
    "out_c_accuracy = history.history['out_c_accuracy']\n",
    "val_out_f_accuracy = history.history['val_out_f_accuracy']\n",
    "val_out_c_accuracy = history.history['val_out_c_accuracy']\n",
    "loss = history.history['loss']\n",
    "val_loss = history.history['val_loss']\n",
    "epochs = range(1, len(loss) + 1)\n",
    "\n",
    "plt.figure(figsize=(15,4))\n",
    "\n",
    "ax1 = plt.subplot(1, 2, 1)\n",
    "plt.plot(epochs, loss, label='Training loss')\n",
    "plt.plot(epochs, val_loss, label='Validation loss')\n",
    "plt.fill_between(epochs, loss,val_loss,color='g',alpha=.1)\n",
    "\n",
    "plt.title('Training and validation loss')\n",
    "plt.xlabel('Epochs')\n",
    "plt.ylabel('Loss')\n",
    "plt.legend()\n",
    "\n",
    "ax2 = plt.subplot(1, 2, 2)\n",
    "plt.plot(epochs, out_f_accuracy, label='Training f accuracy')\n",
    "plt.plot(epochs, out_c_accuracy, label='Training c accuracy')\n",
    "plt.plot(epochs, val_out_f_accuracy, label='Validation f accuracy')\n",
    "plt.plot(epochs, val_out_c_accuracy, label='Validation c accuracy')\n",
    "# plt.fill_between(epochs, acc,val_acc,color='g',alpha=.1)\n",
    "plt.title('Training and validation accuracy')\n",
    "plt.xlabel('Epochs')\n",
    "plt.ylabel('Accuracy')\n",
    "plt.legend()\n",
    "plt.show()"
   ]
  },
  {
   "cell_type": "code",
   "execution_count": null,
   "metadata": {
    "id": "e0Z6iS28tWRH"
   },
   "outputs": [],
   "source": [
    "def nin(input_shape):\n",
    "    # Define Network in Network model\n",
    "    input = Input(shape=input_shape)\n",
    "    x = Conv2D(filters=192, kernel_size=(5,5), activation='relu')(input)\n",
    "    x = Conv2D(filters=160, kernel_size=(1,1), activation='relu')(x)\n",
    "    x = Conv2D(filters=96, kernel_size=(1,1), activation='relu')(x)\n",
    "    x = MaxPool2D(2, strides=2, padding='same')(x)\n",
    "    x = Dropout(0.5)(x)\n",
    "\n",
    "    x = Conv2D(filters=192, kernel_size=(5,5), activation='relu')(x)\n",
    "    x = Conv2D(filters=192, kernel_size=(1,1), activation='relu')(x)\n",
    "    x = Conv2D(filters=192, kernel_size=(1,1), activation='relu')(x)\n",
    "    x = MaxPool2D(2, strides=2, padding='same')(x)\n",
    "    x = Dropout(0.5)(x)\n",
    "\n",
    "    x = Conv2D(filters=192, kernel_size=(3,3), activation='relu')(x)\n",
    "    x = Conv2D(filters=192, kernel_size=(1,1), activation='relu')(x)\n",
    "    x = Conv2D(filters=10, kernel_size=(1,1), activation='relu')(x)\n",
    "\n",
    "    output = GlobalAveragePooling2D()(x)\n",
    "\n",
    "    model = Model(input, output)\n",
    "\n",
    "    return model \n",
    "\n",
    "\n",
    "    \n",
    "model = nin(input_shape=(28,28,1))\n",
    "\n",
    "model.summary()\n"
   ]
  },
  {
   "cell_type": "code",
   "execution_count": null,
   "metadata": {
    "id": "pNH2BmV6t8yl"
   },
   "outputs": [],
   "source": [
    "conv_base = keras.applications.VGG19(\n",
    "        include_top=False,\n",
    "        weights=\"imagenet\")\n",
    "type(model)"
   ]
  }
 ],
 "metadata": {
  "accelerator": "GPU",
  "colab": {
   "machine_shape": "hm",
   "name": "H_CNN_1.ipynb",
   "provenance": []
  },
  "kernelspec": {
   "display_name": "Python 3",
   "language": "python",
   "name": "python3"
  },
  "language_info": {
   "codemirror_mode": {
    "name": "ipython",
    "version": 3
   },
   "file_extension": ".py",
   "mimetype": "text/x-python",
   "name": "python",
   "nbconvert_exporter": "python",
   "pygments_lexer": "ipython3",
   "version": "3.8.10"
  },
  "latex_envs": {
   "LaTeX_envs_menu_present": true,
   "autoclose": false,
   "autocomplete": true,
   "bibliofile": "biblio.bib",
   "cite_by": "apalike",
   "current_citInitial": 1,
   "eqLabelWithNumbers": true,
   "eqNumInitial": 1,
   "hotkeys": {
    "equation": "Ctrl-E",
    "itemize": "Ctrl-I"
   },
   "labels_anchors": false,
   "latex_user_defs": false,
   "report_style_numbering": false,
   "user_envs_cfg": false
  },
  "toc": {
   "base_numbering": 1,
   "nav_menu": {},
   "number_sections": true,
   "sideBar": true,
   "skip_h1_title": false,
   "title_cell": "Table of Contents",
   "title_sidebar": "Contents",
   "toc_cell": false,
   "toc_position": {},
   "toc_section_display": true,
   "toc_window_display": false
  }
 },
 "nbformat": 4,
 "nbformat_minor": 1
}
