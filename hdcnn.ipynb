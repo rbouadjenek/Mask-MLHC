{
 "cells": [
  {
   "cell_type": "markdown",
   "metadata": {
    "id": "XG4I9hubcr37"
   },
   "source": [
    "# Hierarchically Deep Convolutional Neural Network For Image Recognition"
   ]
  },
  {
   "cell_type": "markdown",
   "metadata": {
    "id": "JlqGd9JGcr38"
   },
   "source": [
    "## Setup and Imports"
   ]
  },
  {
   "cell_type": "markdown",
   "metadata": {
    "id": "QG2f_Rwmcr38"
   },
   "source": [
    "**Import Packages**"
   ]
  },
  {
   "cell_type": "code",
   "execution_count": 1,
   "metadata": {
    "id": "GcebOKoxcr38"
   },
   "outputs": [],
   "source": [
    "import tensorflow as tf\n",
    "from keras.datasets import cifar100\n",
    "from tensorflow.keras.layers import Input, Dropout, Flatten, Dense, Activation, Lambda, Conv2D, MaxPool2D, GlobalAveragePooling2D\n",
    "from tensorflow.keras.models import Model\n",
    "from tensorflow import keras\n",
    "import numpy as np\n",
    "import matplotlib.pyplot as plt\n",
    "from tensorflow.keras.utils import plot_model\n",
    "import datetime, os\n",
    "import time\n",
    "import pandas as pd\n",
    "import seaborn as sns\n"
   ]
  },
  {
   "cell_type": "markdown",
   "metadata": {
    "id": "GQ_zeav5cr39"
   },
   "source": [
    "**Define Global Variables**"
   ]
  },
  {
   "cell_type": "markdown",
   "metadata": {
    "id": "eDyuQY8-cr3-"
   },
   "source": [
    "## Import and Preprocess Dataset"
   ]
  },
  {
   "cell_type": "markdown",
   "metadata": {
    "id": "Y1rl8a9Mcr3-"
   },
   "source": [
    "**Import Cifar100 Data Set**"
   ]
  },
  {
   "cell_type": "code",
   "execution_count": 2,
   "metadata": {
    "id": "KUUloeghdn2a"
   },
   "outputs": [],
   "source": [
    "#Load dataset\n",
    "(X_c_train, y_c_train), (X_c_test, y_c_test) = cifar100.load_data(label_mode='coarse')\n",
    "(X_f_train, y_f_train), (X_f_test, y_f_test) = cifar100.load_data(label_mode='fine')\n",
    "\n",
    "#######################\n",
    "# Clusters are obtained from:\n",
    "# https://github.com/stephenyan1231/caffe-public/blob/hdcnn/examples/cifar100/hdcnn/python/cifar100_NIN_raw.ipynb\n",
    "# Mapping fine -> cluster\n",
    "mapping_fine_to_cluster = {0: 5,1: 2,2: 3,3: 6,4: 6,5: 0,6: 2,7: 2,8: 8,9: 1,10:1,11:3,12:8,13:8,14:2,15:6,16:1,17:8,18:2,19:6,20:0,21:3,22:1,23:7,24:2,25:0,26:2,27:6,28:1,29:6,30:6,31:6,32:6,33:4,34:6,35:3,36:6,37:8,38:6,39:1,40:1,41:8,42:6,43:6,44:2,45:2,46:3,47:4,48:8,49:7,50:6,51:5,52:4,53:5,54:5,55:6,56:4,57:5,58:8,59:4,60:7,61:1,62:5,63:6,64:6,65:6,66:6,67:6,68:7,69:1,70:5,71:7,72:6,73:2,74:6,75:6,76:1,77:2,78:2,79:2,80:6,81:8,82:2,83:5,84:0,85:8,86:1,87:0,88:6,89:8,90:8,91:2,92:5,93:6,94:0,95:6,96:4,97:6,98:3,99:2}\n",
    "def map_fine_to_cluster(y_f):\n",
    "  y_cluster = []\n",
    "  for f in  y_f:\n",
    "    k = f[0]\n",
    "    c = np.array([mapping_fine_to_cluster[k]])\n",
    "    y_cluster.append(c)\n",
    "  return np.array(y_cluster)\n",
    "  \n",
    "y_c_train = map_fine_to_cluster(y_f_train)\n",
    "y_c_test = map_fine_to_cluster(y_f_test)\n",
    "########################\n",
    "\n",
    "\n",
    "X_train = X_f_train\n",
    "X_val = X_f_test[:5000]\n",
    "X_test = X_f_test[5000:]\n",
    "\n",
    "y_train = [y_c_train, y_f_train]\n",
    "y_val = [y_c_test[:5000], y_f_test[:5000]]\n",
    "y_test = [y_c_test[5000:], y_f_test[5000:]]\n",
    "\n",
    "image_size = X_train[0].shape\n",
    "\n",
    "num_classes_c = len(set([v[0] for v in y_c_train]))\n",
    "num_classes_f = len(set([v[0] for v in y_f_train]))\n",
    "\n",
    "# Encode matrix M\n",
    "M = [[0 for x in range(num_classes_f)] for y in range(num_classes_c)] \n",
    "for (c, f) in zip(y_c_train, y_f_train):\n",
    "  c = c[0]\n",
    "  f = f[0]\n",
    "  M[c][f] = 1\n",
    "\n",
    "loss = keras.losses.SparseCategoricalCrossentropy()"
   ]
  },
  {
   "cell_type": "markdown",
   "metadata": {
    "id": "_No-t9NFcr4D"
   },
   "source": [
    "## Single Classifier Training"
   ]
  },
  {
   "cell_type": "markdown",
   "metadata": {
    "id": "IY1RK3Ybcr4D"
   },
   "source": [
    "**Constructing CNN**"
   ]
  },
  {
   "cell_type": "code",
   "execution_count": 38,
   "metadata": {
    "id": "pz_Oy_nVcr4D"
   },
   "outputs": [],
   "source": [
    "from keras import optimizers\n",
    "from keras.layers import Input, Conv2D, Dropout, MaxPooling2D, Flatten, Dense\n",
    "from keras.models import Model\n",
    "\n",
    "def get_model():\n",
    "  in_layer = Input(shape=(32, 32, 3), dtype='float32', name='main_input')\n",
    "\n",
    "  net = Conv2D(384, 3, strides=1, padding='same', activation='elu')(in_layer)\n",
    "  net = MaxPooling2D((2, 2), padding='valid')(net)\n",
    "\n",
    "  net = Conv2D(384, 1, strides=1, padding='same', activation='elu')(net)\n",
    "  net = Conv2D(384, 2, strides=1, padding='same', activation='elu')(net)\n",
    "  net = Conv2D(640, 2, strides=1, padding='same', activation='elu')(net)\n",
    "  net = Conv2D(640, 2, strides=1, padding='same', activation='elu')(net)\n",
    "  net = Dropout(.2)(net)\n",
    "  net = MaxPooling2D((2, 2), padding='valid')(net)\n",
    "\n",
    "  net = Conv2D(640, 1, strides=1, padding='same', activation='elu')(net)\n",
    "  net = Conv2D(768, 2, strides=1, padding='same', activation='elu')(net)\n",
    "  net = Conv2D(768, 2, strides=1, padding='same', activation='elu')(net)\n",
    "  net = Conv2D(768, 2, strides=1, padding='same', activation='elu')(net)\n",
    "  net = Dropout(.3)(net)\n",
    "  net = MaxPooling2D((2, 2), padding='valid')(net)\n",
    "\n",
    "  net = Conv2D(768, 1, strides=1, padding='same', activation='elu')(net)\n",
    "  net = Conv2D(896, 2, strides=1, padding='same', activation='elu')(net)\n",
    "  net = Conv2D(896, 2, strides=1, padding='same', activation='elu')(net)\n",
    "  net = Dropout(.4)(net)\n",
    "  net = MaxPooling2D((2, 2), padding='valid')(net)\n",
    "\n",
    "  net = Conv2D(896, 3, strides=1, padding='same', activation='elu')(net)\n",
    "  net = Conv2D(1024, 2, strides=1, padding='same', activation='elu')(net)\n",
    "  net = Conv2D(1024, 2, strides=1, padding='same', activation='elu')(net)\n",
    "  net = Dropout(.5)(net)\n",
    "  net = MaxPooling2D((2, 2), padding='valid')(net)\n",
    "\n",
    "  net = Conv2D(1024, 1, strides=1, padding='same', activation='elu')(net)\n",
    "  net = Conv2D(1152, 2, strides=1, padding='same', activation='elu')(net)\n",
    "  net = Dropout(.6)(net)\n",
    "  net = MaxPooling2D((2, 2), padding='same')(net)\n",
    "\n",
    "  net = Flatten()(net)\n",
    "  net = Dense(1152, activation='elu')(net)\n",
    "  net = Dense(num_classes_f, activation='softmax')(net)\n",
    "  model = Model(inputs=in_layer, outputs=net)\n",
    "\n",
    "  sgd_coarse = optimizers.SGD(learning_rate=0.01, decay=1e-6, momentum=0.9, nesterov=True)\n",
    "  model.compile(optimizer= sgd_coarse, loss=loss, metrics=['accuracy'])\n",
    "\n",
    "  return model\n"
   ]
  },
  {
   "cell_type": "markdown",
   "metadata": {
    "id": "OMbI4Z60cr4E"
   },
   "source": [
    "**Compile Model**"
   ]
  },
  {
   "cell_type": "code",
   "execution_count": 40,
   "metadata": {
    "colab": {
     "base_uri": "https://localhost:8080/"
    },
    "id": "vBnsWBT1cr4E",
    "outputId": "a4193e8f-084f-4cb8-8939-f4452305c35d"
   },
   "outputs": [
    {
     "name": "stdout",
     "output_type": "stream",
     "text": [
      "Model: \"model_5\"\n",
      "_________________________________________________________________\n",
      "Layer (type)                 Output Shape              Param #   \n",
      "=================================================================\n",
      "main_input (InputLayer)      [(None, 32, 32, 3)]       0         \n",
      "_________________________________________________________________\n",
      "conv2d_51 (Conv2D)           (None, 32, 32, 384)       10752     \n",
      "_________________________________________________________________\n",
      "max_pooling2d_18 (MaxPooling (None, 16, 16, 384)       0         \n",
      "_________________________________________________________________\n",
      "conv2d_52 (Conv2D)           (None, 16, 16, 384)       147840    \n",
      "_________________________________________________________________\n",
      "conv2d_53 (Conv2D)           (None, 16, 16, 384)       590208    \n",
      "_________________________________________________________________\n",
      "conv2d_54 (Conv2D)           (None, 16, 16, 640)       983680    \n",
      "_________________________________________________________________\n",
      "conv2d_55 (Conv2D)           (None, 16, 16, 640)       1639040   \n",
      "_________________________________________________________________\n",
      "dropout_15 (Dropout)         (None, 16, 16, 640)       0         \n",
      "_________________________________________________________________\n",
      "max_pooling2d_19 (MaxPooling (None, 8, 8, 640)         0         \n",
      "_________________________________________________________________\n",
      "conv2d_56 (Conv2D)           (None, 8, 8, 640)         410240    \n",
      "_________________________________________________________________\n",
      "conv2d_57 (Conv2D)           (None, 8, 8, 768)         1966848   \n",
      "_________________________________________________________________\n",
      "conv2d_58 (Conv2D)           (None, 8, 8, 768)         2360064   \n",
      "_________________________________________________________________\n",
      "conv2d_59 (Conv2D)           (None, 8, 8, 768)         2360064   \n",
      "_________________________________________________________________\n",
      "dropout_16 (Dropout)         (None, 8, 8, 768)         0         \n",
      "_________________________________________________________________\n",
      "max_pooling2d_20 (MaxPooling (None, 4, 4, 768)         0         \n",
      "_________________________________________________________________\n",
      "conv2d_60 (Conv2D)           (None, 4, 4, 768)         590592    \n",
      "_________________________________________________________________\n",
      "conv2d_61 (Conv2D)           (None, 4, 4, 896)         2753408   \n",
      "_________________________________________________________________\n",
      "conv2d_62 (Conv2D)           (None, 4, 4, 896)         3212160   \n",
      "_________________________________________________________________\n",
      "dropout_17 (Dropout)         (None, 4, 4, 896)         0         \n",
      "_________________________________________________________________\n",
      "max_pooling2d_21 (MaxPooling (None, 2, 2, 896)         0         \n",
      "_________________________________________________________________\n",
      "conv2d_63 (Conv2D)           (None, 2, 2, 896)         7226240   \n",
      "_________________________________________________________________\n",
      "conv2d_64 (Conv2D)           (None, 2, 2, 1024)        3671040   \n",
      "_________________________________________________________________\n",
      "conv2d_65 (Conv2D)           (None, 2, 2, 1024)        4195328   \n",
      "_________________________________________________________________\n",
      "dropout_18 (Dropout)         (None, 2, 2, 1024)        0         \n",
      "_________________________________________________________________\n",
      "max_pooling2d_22 (MaxPooling (None, 1, 1, 1024)        0         \n",
      "_________________________________________________________________\n",
      "conv2d_66 (Conv2D)           (None, 1, 1, 1024)        1049600   \n",
      "_________________________________________________________________\n",
      "conv2d_67 (Conv2D)           (None, 1, 1, 1152)        4719744   \n",
      "_________________________________________________________________\n",
      "dropout_19 (Dropout)         (None, 1, 1, 1152)        0         \n",
      "_________________________________________________________________\n",
      "max_pooling2d_23 (MaxPooling (None, 1, 1, 1152)        0         \n",
      "_________________________________________________________________\n",
      "flatten_3 (Flatten)          (None, 1152)              0         \n",
      "_________________________________________________________________\n",
      "dense_6 (Dense)              (None, 1152)              1328256   \n",
      "_________________________________________________________________\n",
      "dense_7 (Dense)              (None, 100)               115300    \n",
      "=================================================================\n",
      "Total params: 39,330,404\n",
      "Trainable params: 39,330,404\n",
      "Non-trainable params: 0\n",
      "_________________________________________________________________\n"
     ]
    }
   ],
   "source": [
    "model = get_model()\n",
    "model.summary()\n"
   ]
  },
  {
   "cell_type": "markdown",
   "metadata": {
    "id": "Sku0C-xvcr4E"
   },
   "source": [
    "**Train Model**"
   ]
  },
  {
   "cell_type": "code",
   "execution_count": 43,
   "metadata": {
    "colab": {
     "base_uri": "https://localhost:8080/"
    },
    "id": "7ydWs8Q5cr4F",
    "outputId": "fcc13c45-a9be-4961-cae3-b6a08b907c25"
   },
   "outputs": [
    {
     "name": "stdout",
     "output_type": "stream",
     "text": [
      "Epoch 1/100\n",
      "391/391 [==============================] - 88s 218ms/step - loss: 4.5357 - accuracy: 0.0194 - val_loss: 3.9079 - val_accuracy: 0.0954\n",
      "Epoch 2/100\n",
      "391/391 [==============================] - 84s 216ms/step - loss: 3.8573 - accuracy: 0.0915 - val_loss: 3.4484 - val_accuracy: 0.1702\n",
      "Epoch 3/100\n",
      "391/391 [==============================] - 84s 216ms/step - loss: 3.3648 - accuracy: 0.1763 - val_loss: 3.0495 - val_accuracy: 0.2506\n",
      "Epoch 4/100\n",
      "391/391 [==============================] - 84s 216ms/step - loss: 2.9760 - accuracy: 0.2464 - val_loss: 2.9135 - val_accuracy: 0.2910\n",
      "Epoch 5/100\n",
      "391/391 [==============================] - 84s 216ms/step - loss: 2.6577 - accuracy: 0.3110 - val_loss: 2.7930 - val_accuracy: 0.3356\n",
      "Epoch 6/100\n",
      "391/391 [==============================] - 84s 216ms/step - loss: 2.3722 - accuracy: 0.3699 - val_loss: 2.5223 - val_accuracy: 0.3874\n",
      "Epoch 7/100\n",
      "391/391 [==============================] - 84s 216ms/step - loss: 2.1677 - accuracy: 0.4184 - val_loss: 2.4902 - val_accuracy: 0.4162\n",
      "Epoch 8/100\n",
      "391/391 [==============================] - 84s 216ms/step - loss: 1.9884 - accuracy: 0.4511 - val_loss: 2.6858 - val_accuracy: 0.4146\n",
      "Epoch 9/100\n",
      "391/391 [==============================] - 84s 216ms/step - loss: 1.8205 - accuracy: 0.4914 - val_loss: 2.6137 - val_accuracy: 0.4386\n",
      "Epoch 10/100\n",
      "391/391 [==============================] - 84s 216ms/step - loss: 1.6715 - accuracy: 0.5287 - val_loss: 2.6354 - val_accuracy: 0.4596\n",
      "Epoch 11/100\n",
      "391/391 [==============================] - 84s 216ms/step - loss: 1.5431 - accuracy: 0.5604 - val_loss: 2.7115 - val_accuracy: 0.4712\n",
      "Epoch 12/100\n",
      "391/391 [==============================] - 84s 216ms/step - loss: 1.4205 - accuracy: 0.5890 - val_loss: 2.3650 - val_accuracy: 0.5006\n",
      "Epoch 13/100\n",
      "391/391 [==============================] - 84s 216ms/step - loss: 1.2875 - accuracy: 0.6278 - val_loss: 2.5774 - val_accuracy: 0.4800\n",
      "Epoch 14/100\n",
      "391/391 [==============================] - 84s 216ms/step - loss: 1.1991 - accuracy: 0.6479 - val_loss: 2.7887 - val_accuracy: 0.4950\n",
      "Epoch 15/100\n",
      "391/391 [==============================] - 84s 216ms/step - loss: 1.0772 - accuracy: 0.6802 - val_loss: 2.7993 - val_accuracy: 0.5010\n",
      "Epoch 16/100\n",
      "391/391 [==============================] - 84s 216ms/step - loss: 0.9998 - accuracy: 0.7011 - val_loss: 2.7838 - val_accuracy: 0.5116\n",
      "Epoch 17/100\n",
      "391/391 [==============================] - 84s 216ms/step - loss: 0.9293 - accuracy: 0.7193 - val_loss: 3.0609 - val_accuracy: 0.4844\n"
     ]
    },
    {
     "data": {
      "text/plain": [
       "<keras.callbacks.History at 0x7f101cb06350>"
      ]
     },
     "execution_count": 43,
     "metadata": {
      "tags": []
     },
     "output_type": "execute_result"
    }
   ],
   "source": [
    "batch = 128\n",
    "model = get_model()\n",
    "early_stopping_callback = tf.keras.callbacks.EarlyStopping(monitor='val_loss', patience=5)\n",
    "history = model.fit(X_train, \n",
    "          np.array(y_train[1]),\n",
    "          validation_data=(X_val, np.array(y_val[1])),\n",
    "          batch_size=batch, \n",
    "          epochs=100,\n",
    "          callbacks=[early_stopping_callback])\n"
   ]
  },
  {
   "cell_type": "markdown",
   "metadata": {
    "id": "hLcAGjiOcr4F"
   },
   "source": [
    "### Load Most Recent Model"
   ]
  },
  {
   "cell_type": "code",
   "execution_count": 45,
   "metadata": {
    "id": "nOB7Jlsicr4F"
   },
   "outputs": [],
   "source": [
    "for i in range(len(model.layers)):\n",
    "    model.layers[i].trainable=False"
   ]
  },
  {
   "cell_type": "code",
   "execution_count": 52,
   "metadata": {
    "colab": {
     "base_uri": "https://localhost:8080/"
    },
    "id": "mLALKxnBsnB7",
    "outputId": "5bae8475-14fd-4323-d526-2b10d8b20144"
   },
   "outputs": [
    {
     "data": {
      "text/plain": [
       "<KerasTensor: shape=(None, 32, 32, 3) dtype=float32 (created by layer 'main_input')>"
      ]
     },
     "execution_count": 52,
     "metadata": {
      "tags": []
     },
     "output_type": "execute_result"
    }
   ],
   "source": [
    "model.layers[0].input"
   ]
  },
  {
   "cell_type": "markdown",
   "metadata": {
    "id": "ZGf7TQoIcr4F"
   },
   "source": [
    "## Fine-Tuning for Coarse Classifier"
   ]
  },
  {
   "cell_type": "code",
   "execution_count": 54,
   "metadata": {
    "id": "qfzO9aGEcr4G"
   },
   "outputs": [],
   "source": [
    "net = Conv2D(1024, 1, strides=1, padding='same', activation='elu')(model.layers[-8].output)\n",
    "net = Conv2D(1152, 2, strides=1, padding='same', activation='elu')(net)\n",
    "net = Dropout(.6)(net)\n",
    "net = MaxPooling2D((2, 2), padding='same')(net)\n",
    "\n",
    "net = Flatten()(net)\n",
    "net = Dense(1152, activation='elu')(net)\n",
    "out_coarse = Dense(num_classes_c, activation='softmax')(net)\n",
    "\n",
    "model_c = Model(inputs=model.layers[0].input, outputs=out_coarse)\n",
    "model_c.compile(optimizer= sgd_coarse, loss=loss, metrics=['accuracy'])\n",
    "\n",
    "for i in range(len(model_c.layers)-1):\n",
    "    model_c.layers[i].set_weights(model.layers[i].get_weights())\n"
   ]
  },
  {
   "cell_type": "code",
   "execution_count": 56,
   "metadata": {
    "colab": {
     "base_uri": "https://localhost:8080/"
    },
    "id": "wKeZ-5dRcr4G",
    "outputId": "e49ff169-9882-497f-c0b6-600668b3eeb0"
   },
   "outputs": [
    {
     "name": "stdout",
     "output_type": "stream",
     "text": [
      "Epoch 1/100\n",
      "391/391 [==============================] - 34s 80ms/step - loss: 0.4788 - accuracy: 0.8359 - val_loss: 1.2484 - val_accuracy: 0.7656\n",
      "Epoch 2/100\n",
      "391/391 [==============================] - 31s 79ms/step - loss: 0.2823 - accuracy: 0.9021 - val_loss: 1.2151 - val_accuracy: 0.7662\n",
      "Epoch 3/100\n",
      "391/391 [==============================] - 31s 78ms/step - loss: 0.2569 - accuracy: 0.9107 - val_loss: 1.2315 - val_accuracy: 0.7714\n",
      "Epoch 4/100\n",
      "391/391 [==============================] - 31s 78ms/step - loss: 0.2569 - accuracy: 0.9119 - val_loss: 1.2622 - val_accuracy: 0.7660\n",
      "Epoch 5/100\n",
      "391/391 [==============================] - 31s 79ms/step - loss: 0.2515 - accuracy: 0.9134 - val_loss: 1.2921 - val_accuracy: 0.7706\n",
      "Epoch 6/100\n",
      "391/391 [==============================] - 31s 78ms/step - loss: 0.2448 - accuracy: 0.9151 - val_loss: 1.2640 - val_accuracy: 0.7752\n",
      "Epoch 7/100\n",
      "391/391 [==============================] - 30s 78ms/step - loss: 0.2403 - accuracy: 0.9156 - val_loss: 1.2983 - val_accuracy: 0.7744\n"
     ]
    }
   ],
   "source": [
    "sgd_fine = optimizers.SGD(learning_rate=0.001, decay=1e-6, momentum=0.9, nesterov=True)\n",
    "model_c.compile(optimizer=sgd_fine, loss=loss, metrics=['accuracy'])\n",
    "history_c = model_c.fit(X_train, \n",
    "            np.array(y_train[0]), \n",
    "            batch_size=batch, \n",
    "            epochs=100, \n",
    "            validation_data=(X_val, np.array(y_val[0])), \n",
    "            callbacks=[early_stopping_callback])\n"
   ]
  },
  {
   "cell_type": "markdown",
   "metadata": {
    "id": "1qEpzrvPcr4G"
   },
   "source": [
    "## Fine-Tuning for Fine Classifiers"
   ]
  },
  {
   "cell_type": "markdown",
   "metadata": {
    "id": "7kKTBCXpcr4G"
   },
   "source": [
    "### Construct Fine Classifiers"
   ]
  },
  {
   "cell_type": "code",
   "execution_count": 57,
   "metadata": {
    "id": "IzW-UNQ0cr4G"
   },
   "outputs": [],
   "source": [
    "def fine_model():\n",
    "    net = Conv2D(1024, 1, strides=1, padding='same', activation='elu')(model.layers[-8].output)\n",
    "    net = Conv2D(1152, 2, strides=1, padding='same', activation='elu')(net)\n",
    "    net = Dropout(.6)(net)\n",
    "    net = MaxPooling2D((2, 2), padding='same')(net)\n",
    "\n",
    "    net = Flatten()(net)\n",
    "    net = Dense(1152, activation='elu')(net)\n",
    "    out_fine = Dense(num_classes_f, activation='softmax')(net)\n",
    "    model_fine = Model(inputs=model.layers[0].input, outputs=out_fine)\n",
    "    model_fine.compile(optimizer= sgd_coarse,\n",
    "              loss=loss,\n",
    "              metrics=['accuracy'])\n",
    "    \n",
    "    for i in range(len(model_fine.layers)-1):\n",
    "        model_fine.layers[i].set_weights(model.layers[i].get_weights())\n",
    "    return model_fine"
   ]
  },
  {
   "cell_type": "code",
   "execution_count": 60,
   "metadata": {
    "id": "jVIRkw2Vcr4H"
   },
   "outputs": [],
   "source": [
    "fine_models = {'models' : [{} for i in range(num_classes_c)], 'yhf' : [{} for i in range(num_classes_c)]}\n",
    "for i in range(num_classes_c):\n",
    "    model_i = fine_model()\n",
    "    fine_models['models'][i] = model_i"
   ]
  },
  {
   "cell_type": "markdown",
   "metadata": {
    "id": "QOmDzIBbcr4H"
   },
   "source": [
    "### Train Fine Classifiers on Respective Data"
   ]
  },
  {
   "cell_type": "code",
   "execution_count": 61,
   "metadata": {
    "id": "s1ujkgxscr4H"
   },
   "outputs": [],
   "source": [
    "def get_error(y,yh):\n",
    "    # Threshold \n",
    "    yht = np.zeros(np.shape(yh))\n",
    "    yht[np.arange(len(yh)), yh.argmax(1)] = 1\n",
    "    # Evaluate Error\n",
    "    error = np.count_nonzero(np.count_nonzero(y-yht,1))/len(y)\n",
    "    return error"
   ]
  },
  {
   "cell_type": "code",
   "execution_count": null,
   "metadata": {
    "id": "maozN5nYcr4H"
   },
   "outputs": [],
   "source": [
    "for i in range(coarse_categories):\n",
    "    index= 0\n",
    "    step = 5\n",
    "    stop = 5\n",
    "    \n",
    "    # Get all training data for the coarse category\n",
    "    ix = np.where([(y_train[:,j]==1) for j in [k for k, e in enumerate(fine2coarse[:,i]) if e != 0]])[1]\n",
    "    x_tix = x_train[ix]\n",
    "    y_tix = y_train[ix]\n",
    "    \n",
    "    # Get all validation data for the coarse category\n",
    "    ix_v = np.where([(y_val[:,j]==1) for j in [k for k, e in enumerate(fine2coarse[:,i]) if e != 0]])[1]\n",
    "    x_vix = x_val[ix_v]\n",
    "    y_vix = y_val[ix_v]\n",
    "    \n",
    "    while index < stop:\n",
    "        fine_models['models'][i].fit(x_tix, y_tix, batch_size=batch, initial_epoch=index, epochs=index+step, validation_data=(x_vix, y_vix))\n",
    "        index += step\n",
    "    \n",
    "    fine_models['models'][i].compile(optimizer=sgd_fine, loss='categorical_crossentropy', metrics=['accuracy'])\n",
    "    stop = 10\n",
    "\n",
    "    while index < stop:\n",
    "        fine_models['models'][i].fit(x_tix, y_tix, batch_size=batch, initial_epoch=index, epochs=index+step, validation_data=(x_vix, y_vix))\n",
    "        index += step\n",
    "        \n",
    "    yh_f = fine_models['models'][i].predict(x_val[ix_v], batch_size=batch)\n",
    "    print('Fine Classifier '+str(i)+' Error: '+str(get_error(y_val[ix_v],yh_f))) "
   ]
  },
  {
   "cell_type": "markdown",
   "metadata": {
    "collapsed": true,
    "id": "gLDf7bmicr4H"
   },
   "source": [
    "## Probabilistic Averaging"
   ]
  },
  {
   "cell_type": "code",
   "execution_count": null,
   "metadata": {
    "id": "D8UyGFM5cr4H"
   },
   "outputs": [],
   "source": [
    "def eval_hdcnn(X, y):\n",
    "    yh = np.zeros(np.shape(y))\n",
    "    \n",
    "    yh_s = model.predict(X, batch_size=batch)\n",
    "    \n",
    "    print('Single Classifier Error: '+str(get_error(y,yh_s)))\n",
    "    \n",
    "    yh_c = model_c.predict(X, batch_size=batch)\n",
    "    y_c = np.dot(y,fine2coarse)\n",
    "    \n",
    "    print('Coarse Classifier Error: '+str(get_error(y_c,yh_c)))\n",
    "\n",
    "    for i in range(coarse_categories):\n",
    "        if i%5 == 0:\n",
    "            print(\"Evaluating Fine Classifier: \", str(i))\n",
    "        #fine_models['yhf'][i] = fine_models['models'][i].predict(X, batch_size=batch)\n",
    "        yh += np.multiply(yh_c[:,i].reshape((len(y)),1), fine_models['yhf'][i])\n",
    "    \n",
    "    print('Overall Error: '+str(get_error(y,yh)))\n",
    "    return yh"
   ]
  },
  {
   "cell_type": "code",
   "execution_count": null,
   "metadata": {
    "id": "601NhCM9cr4I"
   },
   "outputs": [],
   "source": [
    "yh = eval_hdcnn(x_val,y_val)"
   ]
  },
  {
   "cell_type": "code",
   "execution_count": null,
   "metadata": {
    "id": "qXK6R6Pecr4I"
   },
   "outputs": [],
   "source": []
  }
 ],
 "metadata": {
  "accelerator": "GPU",
  "colab": {
   "machine_shape": "hm",
   "name": "hdcnn.ipynb",
   "provenance": []
  },
  "kernelspec": {
   "display_name": "Python 3",
   "language": "python",
   "name": "python3"
  },
  "language_info": {
   "codemirror_mode": {
    "name": "ipython",
    "version": 3
   },
   "file_extension": ".py",
   "mimetype": "text/x-python",
   "name": "python",
   "nbconvert_exporter": "python",
   "pygments_lexer": "ipython3",
   "version": "3.8.10"
  },
  "toc": {
   "colors": {
    "hover_highlight": "#DAA520",
    "running_highlight": "#FF0000",
    "selected_highlight": "#FFD700"
   },
   "moveMenuLeft": true,
   "nav_menu": {
    "height": "12px",
    "width": "252px"
   },
   "navigate_menu": true,
   "number_sections": true,
   "sideBar": true,
   "threshold": 4,
   "toc_cell": false,
   "toc_section_display": "block",
   "toc_window_display": false,
   "widenNotebook": false
  }
 },
 "nbformat": 4,
 "nbformat_minor": 1
}
