{
  "nbformat": 4,
  "nbformat_minor": 0,
  "metadata": {
    "kernelspec": {
      "display_name": "Python 3",
      "language": "python",
      "name": "python3"
    },
    "language_info": {
      "codemirror_mode": {
        "name": "ipython",
        "version": 3
      },
      "file_extension": ".py",
      "mimetype": "text/x-python",
      "name": "python",
      "nbconvert_exporter": "python",
      "pygments_lexer": "ipython3",
      "version": "3.8.10"
    },
    "latex_envs": {
      "LaTeX_envs_menu_present": true,
      "autoclose": false,
      "autocomplete": true,
      "bibliofile": "biblio.bib",
      "cite_by": "apalike",
      "current_citInitial": 1,
      "eqLabelWithNumbers": true,
      "eqNumInitial": 1,
      "hotkeys": {
        "equation": "Ctrl-E",
        "itemize": "Ctrl-I"
      },
      "labels_anchors": false,
      "latex_user_defs": false,
      "report_style_numbering": false,
      "user_envs_cfg": false
    },
    "toc": {
      "base_numbering": 1,
      "nav_menu": {},
      "number_sections": true,
      "sideBar": true,
      "skip_h1_title": false,
      "title_cell": "Table of Contents",
      "title_sidebar": "Contents",
      "toc_cell": false,
      "toc_position": {},
      "toc_section_display": true,
      "toc_window_display": false
    },
    "colab": {
      "name": "H_CNN_1.ipynb",
      "provenance": [],
      "machine_shape": "hm"
    },
    "accelerator": "GPU"
  },
  "cells": [
    {
      "cell_type": "code",
      "metadata": {
        "id": "bEN9hWfZevX_"
      },
      "source": [
        "import tensorflow as tf\n",
        "from keras.datasets import cifar100\n",
        "from tensorflow.keras.layers import Input, Dropout, Flatten, Dense, Activation\n",
        "from tensorflow.keras.models import Model\n",
        "from tensorflow import keras\n",
        "import numpy as np\n",
        "import matplotlib.pyplot as plt\n",
        "from tensorflow.keras.utils import plot_model\n",
        "import datetime, os\n",
        "\n",
        "%load_ext tensorboard"
      ],
      "execution_count": null,
      "outputs": []
    },
    {
      "cell_type": "code",
      "metadata": {
        "id": "sF_1dvCGevYB"
      },
      "source": [
        "#Load dataset\n",
        "(X_c_train, y_c_train), (X_c_test, y_c_test) = cifar100.load_data(label_mode='coarse')\n",
        "(X_f_train, y_f_train), (X_f_test, y_f_test) = cifar100.load_data(label_mode='fine')\n",
        "\n",
        "X_train = X_f_train\n",
        "X_val = X_f_test[:5000]\n",
        "X_test = X_f_test[5000:]\n",
        "\n",
        "y_train = [y_c_train, y_f_train]\n",
        "y_val = [y_c_test[:5000], y_f_test[:5000]]\n",
        "y_test = [y_c_test[5000:], y_f_test[5000:]]\n",
        "\n",
        "image_size = X_train[0].shape\n",
        "\n",
        "num_classes_c = len(set([v[0] for v in y_c_train]))\n",
        "num_classes_f = len(set([v[0] for v in y_f_train]))\n",
        "\n"
      ],
      "execution_count": null,
      "outputs": []
    },
    {
      "cell_type": "code",
      "metadata": {
        "id": "z41UrvmkevYC"
      },
      "source": [
        "def get_model1():\n",
        "    # Conv base\n",
        "    in_layer = Input(shape=image_size, dtype='float32', name='main_input')\n",
        "    conv_base = keras.applications.VGG19(\n",
        "        include_top=False,\n",
        "        weights=\"imagenet\")(in_layer)\n",
        "    conv_base = Flatten()(conv_base)\n",
        "    # coarse output\n",
        "    out_c = Dense(num_classes_c, activation=\"softmax\", name='out_c')(conv_base)\n",
        "    # fine output \n",
        "    out_f = Dense(num_classes_f, activation=\"softmax\", name='out_f')(conv_base)\n",
        "    # Build the model\n",
        "    model = Model(name='Model_1',\n",
        "            inputs=in_layer,\n",
        "            outputs=[out_c, out_f])\n",
        "    loss = keras.losses.SparseCategoricalCrossentropy()\n",
        "    optimizer = keras.optimizers.Adam(learning_rate=1e-5)\n",
        "    model.compile(optimizer=optimizer, \n",
        "                  loss=[loss, loss],\n",
        "                  loss_weights=[0.2, 0.8],\n",
        "                  metrics=['accuracy'])\n",
        "    return model\n",
        "\n",
        "model = get_model1()\n",
        "model.summary()\n",
        "plot_model(model)"
      ],
      "execution_count": null,
      "outputs": []
    },
    {
      "cell_type": "code",
      "metadata": {
        "id": "rstblJoBfX4Z"
      },
      "source": [
        "def get_model2():\n",
        "    # Conv base\n",
        "    in_layer = Input(shape=image_size, dtype='float32', name='main_input')\n",
        "    conv_base = keras.applications.VGG19(\n",
        "        include_top=False,\n",
        "        weights=\"imagenet\")(in_layer)\n",
        "    conv_base = Flatten()(conv_base)\n",
        "    # coarse output\n",
        "    out_c = Dense(num_classes_c, activation=\"softmax\", name='out_c')(conv_base)\n",
        "    # fine output \n",
        "    out_f = Dense(num_classes_f, activation=\"softmax\", name='out_f')(out_c)\n",
        "    # Build the model\n",
        "    model = Model(name='Model_2',\n",
        "            inputs=in_layer,\n",
        "            outputs=[out_c, out_f])\n",
        "    loss = keras.losses.SparseCategoricalCrossentropy()\n",
        "    optimizer = keras.optimizers.Adam(learning_rate=1e-5)\n",
        "    model.compile(optimizer=optimizer, \n",
        "                  loss=[loss, loss],\n",
        "                  loss_weights=[0.5, 0.5],\n",
        "                  metrics=['accuracy'])\n",
        "    return model\n",
        "\n",
        "model = get_model2()\n",
        "model.summary()\n",
        "plot_model(model)"
      ],
      "execution_count": null,
      "outputs": []
    },
    {
      "cell_type": "code",
      "metadata": {
        "id": "-aqJmY3xg1Wp"
      },
      "source": [
        "def get_model3():\n",
        "    # Conv base\n",
        "    in_layer = Input(shape=image_size, dtype='float32', name='main_input')\n",
        "    conv_base = keras.applications.VGG19(\n",
        "        include_top=False,\n",
        "        weights=\"imagenet\")(in_layer)\n",
        "    conv_base = Flatten()(conv_base)\n",
        "    # coarse output\n",
        "    logits_c = Dense(num_classes_c, name='logits_c')(conv_base)\n",
        "    out_c = Activation(keras.activations.softmax, name='out_c')(logits_c)\n",
        "    \n",
        "    # fine output \n",
        "    relu_c = Activation(keras.activations.relu, name='relu_c')(logits_c)\n",
        "    out_f = Dense(num_classes_f, activation=\"softmax\", name='out_f')(relu_c)\n",
        "    # Build the model\n",
        "    model = Model(name='Model_3',\n",
        "            inputs=in_layer,\n",
        "            outputs=[out_c, out_f])\n",
        "    loss = keras.losses.SparseCategoricalCrossentropy()\n",
        "    optimizer = keras.optimizers.Adam(learning_rate=1e-5)\n",
        "    model.compile(optimizer=optimizer, \n",
        "                  loss=[loss, loss],\n",
        "                  loss_weights=[0.5, 0.5],\n",
        "                  metrics=['accuracy'])\n",
        "    return model\n",
        "\n",
        "model = get_model3()\n",
        "model.summary()\n",
        "plot_model(model)\n"
      ],
      "execution_count": null,
      "outputs": []
    },
    {
      "cell_type": "code",
      "metadata": {
        "id": "CuYsZI1Dqfn2"
      },
      "source": [
        "def get_model4():\n",
        "    # Conv base\n",
        "    in_layer = Input(shape=image_size, dtype='float32', name='main_input')\n",
        "    conv_base = keras.applications.VGG19(\n",
        "        include_top=False,\n",
        "        weights=\"imagenet\")(in_layer)\n",
        "    conv_base = Flatten()(conv_base)\n",
        "    # coarse output\n",
        "    logits_f = Dense(num_classes_f, name='logits_f')(conv_base)\n",
        "    out_f = Activation(keras.activations.softmax, name='out_f')(logits_f)\n",
        "    \n",
        "    # fine output \n",
        "    relu_f = Activation(keras.activations.relu, name='relu_f')(logits_f)\n",
        "    out_c = Dense(num_classes_c, activation=\"softmax\", name='out_c')(relu_f)\n",
        "\n",
        "\n",
        "    \n",
        "    # Build the model\n",
        "    model = Model(name='Model_4',\n",
        "            inputs=in_layer,\n",
        "            outputs=[out_c, out_f])\n",
        "    loss = keras.losses.SparseCategoricalCrossentropy()\n",
        "    optimizer = keras.optimizers.Adam(learning_rate=1e-5)\n",
        "    model.compile(optimizer=optimizer, \n",
        "                  loss=[loss, loss],\n",
        "                  loss_weights=[0.5, 0.5],\n",
        "                  metrics=['accuracy'])\n",
        "    return model\n",
        "\n",
        "model = get_model4()\n",
        "model.summary()\n",
        "plot_model(model)\n"
      ],
      "execution_count": null,
      "outputs": []
    },
    {
      "cell_type": "code",
      "metadata": {
        "id": "rNDYsDs-evYD"
      },
      "source": [
        "# Create the model\n",
        "model = get_model1()\n",
        "model.summary()\n",
        "plot_model(model)\n",
        "#train model\n",
        "logdir = os.path.join(\"logs\", datetime.datetime.now().strftime(\"%Y%m%d-%H%M%S\"))\n",
        "tensorboard_callback = tf.keras.callbacks.TensorBoard(logdir, histogram_freq=1)\n",
        "batch = 128\n",
        "history = model.fit(X_train, \n",
        "                    y_train,\n",
        "                    validation_data = (X_val, y_val), \n",
        "                    batch_size=batch, \n",
        "                    epochs=20,\n",
        "                    callbacks=[tensorboard_callback])\n",
        "\n",
        "model.evaluate(X_test, y_test)"
      ],
      "execution_count": null,
      "outputs": []
    },
    {
      "cell_type": "code",
      "metadata": {
        "id": "XopvCXaNevYD"
      },
      "source": [
        "out_f_accuracy = history.history['out_f_accuracy']\n",
        "out_c_accuracy = history.history['out_c_accuracy']\n",
        "val_out_f_accuracy = history.history['val_out_f_accuracy']\n",
        "val_out_c_accuracy = history.history['val_out_c_accuracy']\n",
        "loss = history.history['loss']\n",
        "val_loss = history.history['val_loss']\n",
        "epochs = range(1, len(loss) + 1)\n",
        "\n",
        "plt.figure(figsize=(15,4))\n",
        "\n",
        "ax1 = plt.subplot(1, 2, 1)\n",
        "plt.plot(epochs, loss, label='Training loss')\n",
        "plt.plot(epochs, val_loss, label='Validation loss')\n",
        "plt.fill_between(epochs, loss,val_loss,color='g',alpha=.1)\n",
        "\n",
        "plt.title('Training and validation loss')\n",
        "plt.xlabel('Epochs')\n",
        "plt.ylabel('Loss')\n",
        "plt.legend()\n",
        "\n",
        "ax2 = plt.subplot(1, 2, 2)\n",
        "plt.plot(epochs, out_f_accuracy, label='Training f accuracy')\n",
        "plt.plot(epochs, out_c_accuracy, label='Training c accuracy')\n",
        "plt.plot(epochs, val_out_f_accuracy, label='Validation f accuracy')\n",
        "plt.plot(epochs, val_out_c_accuracy, label='Validation c accuracy')\n",
        "# plt.fill_between(epochs, acc,val_acc,color='g',alpha=.1)\n",
        "plt.title('Training and validation accuracy')\n",
        "plt.xlabel('Epochs')\n",
        "plt.ylabel('Accuracy')\n",
        "plt.legend()\n",
        "plt.show()"
      ],
      "execution_count": null,
      "outputs": []
    },
    {
      "cell_type": "code",
      "metadata": {
        "id": "Qw0QamQVoga8"
      },
      "source": [
        ""
      ],
      "execution_count": null,
      "outputs": []
    }
  ]
}