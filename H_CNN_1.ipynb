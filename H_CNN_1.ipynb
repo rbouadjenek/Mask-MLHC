{
 "cells": [
  {
   "cell_type": "code",
   "execution_count": 1,
   "metadata": {},
   "outputs": [
    {
     "name": "stderr",
     "output_type": "stream",
     "text": [
      "Using TensorFlow backend.\n"
     ]
    }
   ],
   "source": [
    "import tensorflow as tf\n",
    "import keras\n",
    "import keras.backend as K\n",
    "from keras import optimizers\n",
    "from keras import initializers\n",
    "from keras.layers import Input, Conv2D, Dropout, MaxPooling2D, Flatten, Dense,AveragePooling2D\n",
    "from keras.datasets import cifar100\n",
    "from keras.models import Model"
   ]
  },
  {
   "cell_type": "code",
   "execution_count": 24,
   "metadata": {},
   "outputs": [],
   "source": [
    "#Load dataset\n",
    "(X, y_c), (x_test, y_c_test) = cifar100.load_data(label_mode='coarse')\n",
    "(X, y), (x_test, y_test) = cifar100.load_data(label_mode='fine')\n",
    "\n",
    "y_c = keras.utils.to_categorical(y_c, num_classes = num_classes_c)\n",
    "y = keras.utils.to_categorical(y, num_classes = num_classes_f)\n",
    "\n",
    "num_classes_c=20\n",
    "num_classes_f=100"
   ]
  },
  {
   "cell_type": "code",
   "execution_count": 37,
   "metadata": {},
   "outputs": [
    {
     "name": "stdout",
     "output_type": "stream",
     "text": [
      "Model: \"model_6\"\n",
      "__________________________________________________________________________________________________\n",
      "Layer (type)                    Output Shape         Param #     Connected to                     \n",
      "==================================================================================================\n",
      "main_input (InputLayer)         (None, 32, 32, 3)    0                                            \n",
      "__________________________________________________________________________________________________\n",
      "conv2d_21 (Conv2D)              (None, 30, 30, 32)   896         main_input[0][0]                 \n",
      "__________________________________________________________________________________________________\n",
      "max_pooling2d_21 (MaxPooling2D) (None, 15, 15, 32)   0           conv2d_21[0][0]                  \n",
      "__________________________________________________________________________________________________\n",
      "conv2d_22 (Conv2D)              (None, 13, 13, 64)   18496       max_pooling2d_21[0][0]           \n",
      "__________________________________________________________________________________________________\n",
      "max_pooling2d_22 (MaxPooling2D) (None, 6, 6, 64)     0           conv2d_22[0][0]                  \n",
      "__________________________________________________________________________________________________\n",
      "flatten_21 (Flatten)            (None, 2304)         0           max_pooling2d_22[0][0]           \n",
      "__________________________________________________________________________________________________\n",
      "flatten_22 (Flatten)            (None, 2304)         0           max_pooling2d_22[0][0]           \n",
      "__________________________________________________________________________________________________\n",
      "dropout_21 (Dropout)            (None, 2304)         0           flatten_21[0][0]                 \n",
      "__________________________________________________________________________________________________\n",
      "dropout_22 (Dropout)            (None, 2304)         0           flatten_22[0][0]                 \n",
      "__________________________________________________________________________________________________\n",
      "dense_1 (Dense)                 (None, 20)           46100       dropout_21[0][0]                 \n",
      "__________________________________________________________________________________________________\n",
      "dense_2 (Dense)                 (None, 100)          230500      dropout_22[0][0]                 \n",
      "==================================================================================================\n",
      "Total params: 295,992\n",
      "Trainable params: 295,992\n",
      "Non-trainable params: 0\n",
      "__________________________________________________________________________________________________\n"
     ]
    }
   ],
   "source": [
    "#Shared layers\n",
    "in_layer = Input(shape=(32, 32, 3), dtype='float32', name='main_input')\n",
    "\n",
    "#block 1\n",
    "net = Conv2D(32,kernel_size=(3, 3), activation=\"relu\")(in_layer)\n",
    "net = MaxPooling2D(pool_size=(2, 2)) (net)\n",
    "net = Conv2D(64,kernel_size=(3, 3), activation=\"relu\")(net)\n",
    "net = MaxPooling2D(pool_size=(2, 2))(net)\n",
    "\n",
    "#coarse model\n",
    "net_c = Flatten()(net)\n",
    "net_c = Dropout(0.5)(net_c)\n",
    "net_c = Dense(num_classes_c, activation=\"softmax\")(net_c)\n",
    "\n",
    "\n",
    "#fine model \n",
    "\n",
    "net_f = Flatten()(net)\n",
    "net_f = Dropout(0.5)(net_f)\n",
    "net_f = Dense(num_classes_f, activation=\"softmax\")(net_f)\n",
    "\n",
    "# Two additional 'inputs' for the labels\n",
    "label_layer_1 = Input((20,))\n",
    "label_layer_2 = Input((100,))\n",
    "\n",
    "# Construct your custom loss as a tensor\n",
    "#using categorical crossentropy\n",
    "cce = tf.keras.losses.CategoricalCrossentropy(reduction=tf.keras.losses.Reduction.SUM)\n",
    "loss = cce(net_c, label_layer_1) + 0.5*cce(net_f, label_layer_2)\n",
    "\n",
    "model = Model(inputs=[in_layer,label_layer_1, label_layer_2],outputs=[net_c,net_f])\n",
    "\n",
    "# Add loss to model\n",
    "model.add_loss(loss)\n",
    "\n",
    "model.summary()"
   ]
  },
  {
   "cell_type": "code",
   "execution_count": null,
   "metadata": {},
   "outputs": [],
   "source": [
    "sgd_coarse = optimizers.SGD(lr=0.01, decay=1e-6, momentum=0.9, nesterov=True)\n",
    "model.compile(optimizer= sgd_coarse, metrics=['accuracy'])\n",
    "batch = 64\n",
    "#train model\n",
    "model.fit([X,y_c,y], batch_size=batch,epochs=10)"
   ]
  },
  {
   "cell_type": "code",
   "execution_count": null,
   "metadata": {},
   "outputs": [],
   "source": []
  }
 ],
 "metadata": {
  "kernelspec": {
   "display_name": "Python 3",
   "language": "python",
   "name": "python3"
  },
  "language_info": {
   "codemirror_mode": {
    "name": "ipython",
    "version": 3
   },
   "file_extension": ".py",
   "mimetype": "text/x-python",
   "name": "python",
   "nbconvert_exporter": "python",
   "pygments_lexer": "ipython3",
   "version": "3.7.7"
  }
 },
 "nbformat": 4,
 "nbformat_minor": 2
}
