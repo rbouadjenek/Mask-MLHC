{
  "nbformat": 4,
  "nbformat_minor": 0,
  "metadata": {
    "kernelspec": {
      "display_name": "Python 3",
      "language": "python",
      "name": "python3"
    },
    "language_info": {
      "codemirror_mode": {
        "name": "ipython",
        "version": 3
      },
      "file_extension": ".py",
      "mimetype": "text/x-python",
      "name": "python",
      "nbconvert_exporter": "python",
      "pygments_lexer": "ipython3",
      "version": "3.8.10"
    },
    "latex_envs": {
      "LaTeX_envs_menu_present": true,
      "autoclose": false,
      "autocomplete": true,
      "bibliofile": "biblio.bib",
      "cite_by": "apalike",
      "current_citInitial": 1,
      "eqLabelWithNumbers": true,
      "eqNumInitial": 1,
      "hotkeys": {
        "equation": "Ctrl-E",
        "itemize": "Ctrl-I"
      },
      "labels_anchors": false,
      "latex_user_defs": false,
      "report_style_numbering": false,
      "user_envs_cfg": false
    },
    "toc": {
      "base_numbering": 1,
      "nav_menu": {},
      "number_sections": true,
      "sideBar": true,
      "skip_h1_title": false,
      "title_cell": "Table of Contents",
      "title_sidebar": "Contents",
      "toc_cell": false,
      "toc_position": {},
      "toc_section_display": true,
      "toc_window_display": false
    },
    "colab": {
      "name": "H_CNN_1.ipynb",
      "provenance": [],
      "machine_shape": "hm"
    },
    "accelerator": "GPU"
  },
  "cells": [
    {
      "cell_type": "code",
      "metadata": {
        "id": "bEN9hWfZevX_"
      },
      "source": [
        "import tensorflow as tf\n",
        "from keras.datasets import cifar100\n",
        "from tensorflow.keras.layers import Input, Dropout, Flatten, Dense, Activation, Lambda\n",
        "from tensorflow.keras.models import Model\n",
        "from tensorflow import keras\n",
        "import numpy as np\n",
        "import matplotlib.pyplot as plt\n",
        "from tensorflow.keras.utils import plot_model\n",
        "import datetime, os\n",
        "\n",
        "%load_ext tensorboard"
      ],
      "execution_count": 1,
      "outputs": []
    },
    {
      "cell_type": "code",
      "metadata": {
        "id": "sF_1dvCGevYB"
      },
      "source": [
        "#Load dataset\n",
        "(X_c_train, y_c_train), (X_c_test, y_c_test) = cifar100.load_data(label_mode='coarse')\n",
        "(X_f_train, y_f_train), (X_f_test, y_f_test) = cifar100.load_data(label_mode='fine')\n",
        "\n",
        "X_train = X_f_train\n",
        "X_val = X_f_test[:5000]\n",
        "X_test = X_f_test[5000:]\n",
        "\n",
        "y_train = [y_c_train, y_f_train]\n",
        "y_val = [y_c_test[:5000], y_f_test[:5000]]\n",
        "y_test = [y_c_test[5000:], y_f_test[5000:]]\n",
        "\n",
        "image_size = X_train[0].shape\n",
        "\n",
        "num_classes_c = len(set([v[0] for v in y_c_train]))\n",
        "num_classes_f = len(set([v[0] for v in y_f_train]))\n",
        "\n"
      ],
      "execution_count": 2,
      "outputs": []
    },
    {
      "cell_type": "code",
      "metadata": {
        "id": "z41UrvmkevYC",
        "outputId": "8dc501fd-c3c0-4ac0-d3e8-452cbb685654",
        "colab": {
          "base_uri": "https://localhost:8080/",
          "height": 675
        }
      },
      "source": [
        "def get_model1(pi=0.5):\n",
        "    # Conv base\n",
        "    in_layer = Input(shape=image_size, name='main_input')\n",
        "    conv_base = keras.applications.VGG19(\n",
        "        include_top=False,\n",
        "        weights=\"imagenet\")(in_layer)\n",
        "    conv_base = Flatten()(conv_base)\n",
        "    # coarse output\n",
        "    out_c = Dense(num_classes_c, activation=\"softmax\", name='out_c')(conv_base)\n",
        "    # fine output \n",
        "    out_f = Dense(num_classes_f, activation=\"softmax\", name='out_f')(conv_base)\n",
        "    # Build the model\n",
        "    model = Model(name='Model_1',\n",
        "            inputs=in_layer,\n",
        "            outputs=[out_c, out_f])\n",
        "    loss = keras.losses.SparseCategoricalCrossentropy()\n",
        "    optimizer = keras.optimizers.Adam(learning_rate=1e-5)\n",
        "    model.compile(optimizer=optimizer, \n",
        "                  loss=[loss, loss],\n",
        "                  loss_weights=[1-pi, pi],\n",
        "                  metrics=['accuracy'])\n",
        "    return model\n",
        "\n",
        "model = get_model1()\n",
        "model.summary()\n",
        "plot_model(model)"
      ],
      "execution_count": 18,
      "outputs": [
        {
          "output_type": "stream",
          "text": [
            "Model: \"Model_1\"\n",
            "__________________________________________________________________________________________________\n",
            "Layer (type)                    Output Shape         Param #     Connected to                     \n",
            "==================================================================================================\n",
            "main_input (InputLayer)         [(None, 32, 32, 3)]  0                                            \n",
            "__________________________________________________________________________________________________\n",
            "vgg19 (Functional)              (None, None, None, 5 20024384    main_input[0][0]                 \n",
            "__________________________________________________________________________________________________\n",
            "flatten_12 (Flatten)            (None, 512)          0           vgg19[0][0]                      \n",
            "__________________________________________________________________________________________________\n",
            "out_c (Dense)                   (None, 20)           10260       flatten_12[0][0]                 \n",
            "__________________________________________________________________________________________________\n",
            "out_f (Dense)                   (None, 100)          51300       flatten_12[0][0]                 \n",
            "==================================================================================================\n",
            "Total params: 20,085,944\n",
            "Trainable params: 20,085,944\n",
            "Non-trainable params: 0\n",
            "__________________________________________________________________________________________________\n"
          ],
          "name": "stdout"
        },
        {
          "output_type": "execute_result",
          "data": {
            "image/png": "[encoded data removed]",
            "text/plain": [
              "<IPython.core.display.Image object>"
            ]
          },
          "metadata": {
            "tags": []
          },
          "execution_count": 18
        }
      ]
    },
    {
      "cell_type": "code",
      "metadata": {
        "id": "rstblJoBfX4Z",
        "outputId": "92e92d28-adf5-475b-8c76-5a3ae52ccf4c",
        "colab": {
          "base_uri": "https://localhost:8080/",
          "height": 772
        }
      },
      "source": [
        "def get_model2(pi=0.5):\n",
        "    # Conv base\n",
        "    in_layer = Input(shape=image_size, name='main_input')\n",
        "    conv_base = keras.applications.VGG19(\n",
        "        include_top=False,\n",
        "        weights=\"imagenet\")(in_layer)\n",
        "    conv_base = Flatten()(conv_base)\n",
        "    # coarse output\n",
        "    out_c = Dense(num_classes_c, activation=\"softmax\", name='out_c')(conv_base)\n",
        "    # fine output \n",
        "    out_f = Dense(num_classes_f, activation=\"softmax\", name='out_f')(out_c)\n",
        "    # Build the model\n",
        "    model = Model(name='Model_2',\n",
        "            inputs=in_layer,\n",
        "            outputs=[out_c, out_f])\n",
        "    loss = keras.losses.SparseCategoricalCrossentropy()\n",
        "    optimizer = keras.optimizers.Adam(learning_rate=1e-5)\n",
        "    model.compile(optimizer=optimizer, \n",
        "                  loss=[loss, loss],\n",
        "                  loss_weights=[1-pi, pi],\n",
        "                  metrics=['accuracy'])\n",
        "    return model\n",
        "\n",
        "model = get_model2()\n",
        "model.summary()\n",
        "plot_model(model)"
      ],
      "execution_count": 19,
      "outputs": [
        {
          "output_type": "stream",
          "text": [
            "Model: \"Model_2\"\n",
            "_________________________________________________________________\n",
            "Layer (type)                 Output Shape              Param #   \n",
            "=================================================================\n",
            "main_input (InputLayer)      [(None, 32, 32, 3)]       0         \n",
            "_________________________________________________________________\n",
            "vgg19 (Functional)           (None, None, None, 512)   20024384  \n",
            "_________________________________________________________________\n",
            "flatten_13 (Flatten)         (None, 512)               0         \n",
            "_________________________________________________________________\n",
            "out_c (Dense)                (None, 20)                10260     \n",
            "_________________________________________________________________\n",
            "out_f (Dense)                (None, 100)               2100      \n",
            "=================================================================\n",
            "Total params: 20,036,744\n",
            "Trainable params: 20,036,744\n",
            "Non-trainable params: 0\n",
            "_________________________________________________________________\n"
          ],
          "name": "stdout"
        },
        {
          "output_type": "execute_result",
          "data": {
            "image/png": "[encoded data removed]",
            "text/plain": [
              "<IPython.core.display.Image object>"
            ]
          },
          "metadata": {
            "tags": []
          },
          "execution_count": 19
        }
      ]
    },
    {
      "cell_type": "code",
      "metadata": {
        "id": "-aqJmY3xg1Wp",
        "outputId": "2703614b-fd07-4ee4-a08c-c7f0a87385a2",
        "colab": {
          "base_uri": "https://localhost:8080/",
          "height": 938
        }
      },
      "source": [
        "def get_model3(pi=0.5):\n",
        "    # Conv base\n",
        "    in_layer = Input(shape=image_size, name='main_input')\n",
        "    conv_base = keras.applications.VGG19(\n",
        "        include_top=False,\n",
        "        weights=\"imagenet\")(in_layer)\n",
        "    conv_base = Flatten()(conv_base)\n",
        "    # coarse output\n",
        "    logits_c = Dense(num_classes_c, name='logits_c')(conv_base)\n",
        "    out_c = Activation(keras.activations.softmax, name='out_c')(logits_c)\n",
        "    \n",
        "    # fine output \n",
        "    relu_c = Activation(keras.activations.relu, name='relu_c')(logits_c)\n",
        "    out_f = Dense(num_classes_f, activation=\"softmax\", name='out_f')(relu_c)\n",
        "    # Build the model\n",
        "    model = Model(name='Model_3',\n",
        "            inputs=in_layer,\n",
        "            outputs=[out_c, out_f])\n",
        "    loss = keras.losses.SparseCategoricalCrossentropy()\n",
        "    optimizer = keras.optimizers.Adam(learning_rate=1e-5)\n",
        "    model.compile(optimizer=optimizer, \n",
        "                  loss=[loss, loss],\n",
        "                  loss_weights=[1-pi, pi],\n",
        "                  metrics=['accuracy'])\n",
        "    return model\n",
        "\n",
        "model = get_model3()\n",
        "model.summary()\n",
        "plot_model(model)\n"
      ],
      "execution_count": 20,
      "outputs": [
        {
          "output_type": "stream",
          "text": [
            "Model: \"Model_3\"\n",
            "__________________________________________________________________________________________________\n",
            "Layer (type)                    Output Shape         Param #     Connected to                     \n",
            "==================================================================================================\n",
            "main_input (InputLayer)         [(None, 32, 32, 3)]  0                                            \n",
            "__________________________________________________________________________________________________\n",
            "vgg19 (Functional)              (None, None, None, 5 20024384    main_input[0][0]                 \n",
            "__________________________________________________________________________________________________\n",
            "flatten_14 (Flatten)            (None, 512)          0           vgg19[0][0]                      \n",
            "__________________________________________________________________________________________________\n",
            "logits_c (Dense)                (None, 20)           10260       flatten_14[0][0]                 \n",
            "__________________________________________________________________________________________________\n",
            "relu_c (Activation)             (None, 20)           0           logits_c[0][0]                   \n",
            "__________________________________________________________________________________________________\n",
            "out_c (Activation)              (None, 20)           0           logits_c[0][0]                   \n",
            "__________________________________________________________________________________________________\n",
            "out_f (Dense)                   (None, 100)          2100        relu_c[0][0]                     \n",
            "==================================================================================================\n",
            "Total params: 20,036,744\n",
            "Trainable params: 20,036,744\n",
            "Non-trainable params: 0\n",
            "__________________________________________________________________________________________________\n"
          ],
          "name": "stdout"
        },
        {
          "output_type": "execute_result",
          "data": {
            "image/png": "[encoded data removed]",
            "text/plain": [
              "<IPython.core.display.Image object>"
            ]
          },
          "metadata": {
            "tags": []
          },
          "execution_count": 20
        }
      ]
    },
    {
      "cell_type": "code",
      "metadata": {
        "id": "CuYsZI1Dqfn2",
        "outputId": "e085d280-21cb-46d4-f3e3-a148dfbde2bf",
        "colab": {
          "base_uri": "https://localhost:8080/",
          "height": 938
        }
      },
      "source": [
        "def get_model4(pi=0.5):\n",
        "    # Conv base\n",
        "    in_layer = Input(shape=image_size, name='main_input')\n",
        "    conv_base = keras.applications.VGG19(\n",
        "        include_top=False,\n",
        "        weights=\"imagenet\")(in_layer)\n",
        "    conv_base = Flatten()(conv_base)\n",
        "    # coarse output\n",
        "    logits_f = Dense(num_classes_f, name='logits_f')(conv_base)\n",
        "    relu_f = Activation(keras.activations.relu, name='relu_f')(logits_f)\n",
        "    out_c = Dense(num_classes_c, activation=\"softmax\", name='out_c')(relu_f)\n",
        "    # fine output \n",
        "    out_f = Activation(keras.activations.softmax, name='out_f')(logits_f)\n",
        "    # Build the model\n",
        "    model = Model(name='Model_4',\n",
        "            inputs=in_layer,\n",
        "            outputs=[out_c, out_f])\n",
        "    loss = keras.losses.SparseCategoricalCrossentropy()\n",
        "    optimizer = keras.optimizers.Adam(learning_rate=1e-5)\n",
        "    model.compile(optimizer=optimizer, \n",
        "                  loss=[loss, loss],\n",
        "                  loss_weights=[1-pi, pi],\n",
        "                  metrics=['accuracy'])\n",
        "    return model\n",
        "\n",
        "model = get_model4()\n",
        "model.summary()\n",
        "plot_model(model)\n"
      ],
      "execution_count": 26,
      "outputs": [
        {
          "output_type": "stream",
          "text": [
            "Model: \"Model_4\"\n",
            "__________________________________________________________________________________________________\n",
            "Layer (type)                    Output Shape         Param #     Connected to                     \n",
            "==================================================================================================\n",
            "main_input (InputLayer)         [(None, 32, 32, 3)]  0                                            \n",
            "__________________________________________________________________________________________________\n",
            "vgg19 (Functional)              (None, None, None, 5 20024384    main_input[0][0]                 \n",
            "__________________________________________________________________________________________________\n",
            "flatten_20 (Flatten)            (None, 512)          0           vgg19[0][0]                      \n",
            "__________________________________________________________________________________________________\n",
            "logits_f (Dense)                (None, 100)          51300       flatten_20[0][0]                 \n",
            "__________________________________________________________________________________________________\n",
            "relu_f (Activation)             (None, 100)          0           logits_f[0][0]                   \n",
            "__________________________________________________________________________________________________\n",
            "out_c (Dense)                   (None, 20)           2020        relu_f[0][0]                     \n",
            "__________________________________________________________________________________________________\n",
            "out_f (Activation)              (None, 100)          0           logits_f[0][0]                   \n",
            "==================================================================================================\n",
            "Total params: 20,077,704\n",
            "Trainable params: 20,077,704\n",
            "Non-trainable params: 0\n",
            "__________________________________________________________________________________________________\n"
          ],
          "name": "stdout"
        },
        {
          "output_type": "execute_result",
          "data": {
            "image/png": "[encoded data removed]",
            "text/plain": [
              "<IPython.core.display.Image object>"
            ]
          },
          "metadata": {
            "tags": []
          },
          "execution_count": 26
        }
      ]
    },
    {
      "cell_type": "code",
      "metadata": {
        "id": "rNDYsDs-evYD",
        "outputId": "07824f33-2cf5-4c02-9a15-b6bdd1580fa1",
        "colab": {
          "base_uri": "https://localhost:8080/"
        }
      },
      "source": [
        "# Create the model\n",
        "model = get_model1(1)\n",
        "model.summary()\n",
        "plot_model(model)\n",
        "#train model\n",
        "logdir = os.path.join(\"logs\", datetime.datetime.now().strftime(\"%Y%m%d-%H%M%S\"))\n",
        "tensorboard_callback = tf.keras.callbacks.TensorBoard(logdir, histogram_freq=1)\n",
        "batch = 128\n",
        "history = model.fit(X_train, \n",
        "                    y_train,\n",
        "                    validation_data = (X_val, y_val), \n",
        "                    batch_size=batch, \n",
        "                    epochs=20,\n",
        "                    callbacks=[tensorboard_callback])\n",
        "\n",
        "# model.evaluate(X_test, y_test)\n"
      ],
      "execution_count": 24,
      "outputs": [
        {
          "output_type": "stream",
          "text": [
            "Model: \"Model_1\"\n",
            "__________________________________________________________________________________________________\n",
            "Layer (type)                    Output Shape         Param #     Connected to                     \n",
            "==================================================================================================\n",
            "main_input (InputLayer)         [(None, 32, 32, 3)]  0                                            \n",
            "__________________________________________________________________________________________________\n",
            "vgg19 (Functional)              (None, None, None, 5 20024384    main_input[0][0]                 \n",
            "__________________________________________________________________________________________________\n",
            "flatten_18 (Flatten)            (None, 512)          0           vgg19[0][0]                      \n",
            "__________________________________________________________________________________________________\n",
            "out_c (Dense)                   (None, 20)           10260       flatten_18[0][0]                 \n",
            "__________________________________________________________________________________________________\n",
            "out_f (Dense)                   (None, 100)          51300       flatten_18[0][0]                 \n",
            "==================================================================================================\n",
            "Total params: 20,085,944\n",
            "Trainable params: 20,085,944\n",
            "Non-trainable params: 0\n",
            "__________________________________________________________________________________________________\n",
            "Epoch 1/20\n",
            "391/391 [==============================] - 18s 43ms/step - loss: 5.2092 - out_c_loss: 3.7149 - out_f_loss: 5.2092 - out_c_accuracy: 0.0383 - out_f_accuracy: 0.0232 - val_loss: 4.4479 - val_out_c_loss: 3.1945 - val_out_f_loss: 4.4479 - val_out_c_accuracy: 0.0344 - val_out_f_accuracy: 0.0490\n",
            "Epoch 2/20\n",
            "391/391 [==============================] - 16s 41ms/step - loss: 4.2332 - out_c_loss: 3.5301 - out_f_loss: 4.2332 - out_c_accuracy: 0.0458 - out_f_accuracy: 0.0866 - val_loss: 3.9771 - val_out_c_loss: 4.0168 - val_out_f_loss: 3.9771 - val_out_c_accuracy: 0.0538 - val_out_f_accuracy: 0.1310\n",
            "Epoch 3/20\n",
            "391/391 [==============================] - 16s 41ms/step - loss: 3.7534 - out_c_loss: 4.4074 - out_f_loss: 3.7534 - out_c_accuracy: 0.0578 - out_f_accuracy: 0.1691 - val_loss: 3.5511 - val_out_c_loss: 4.9919 - val_out_f_loss: 3.5511 - val_out_c_accuracy: 0.0540 - val_out_f_accuracy: 0.2078\n",
            "Epoch 4/20\n",
            "391/391 [==============================] - 16s 41ms/step - loss: 3.2779 - out_c_loss: 5.3861 - out_f_loss: 3.2779 - out_c_accuracy: 0.0612 - out_f_accuracy: 0.2539 - val_loss: 3.1485 - val_out_c_loss: 5.6797 - val_out_f_loss: 3.1485 - val_out_c_accuracy: 0.0622 - val_out_f_accuracy: 0.2704\n",
            "Epoch 5/20\n",
            "391/391 [==============================] - 16s 41ms/step - loss: 2.8420 - out_c_loss: 6.3823 - out_f_loss: 2.8420 - out_c_accuracy: 0.0616 - out_f_accuracy: 0.3321 - val_loss: 2.8035 - val_out_c_loss: 6.8833 - val_out_f_loss: 2.8035 - val_out_c_accuracy: 0.0574 - val_out_f_accuracy: 0.3264\n",
            "Epoch 6/20\n",
            "391/391 [==============================] - 16s 40ms/step - loss: 2.4809 - out_c_loss: 7.4520 - out_f_loss: 2.4809 - out_c_accuracy: 0.0575 - out_f_accuracy: 0.3955 - val_loss: 2.5367 - val_out_c_loss: 7.8278 - val_out_f_loss: 2.5367 - val_out_c_accuracy: 0.0544 - val_out_f_accuracy: 0.3814\n",
            "Epoch 7/20\n",
            "391/391 [==============================] - 16s 40ms/step - loss: 2.2091 - out_c_loss: 8.3411 - out_f_loss: 2.2091 - out_c_accuracy: 0.0503 - out_f_accuracy: 0.4442 - val_loss: 2.3894 - val_out_c_loss: 8.6791 - val_out_f_loss: 2.3894 - val_out_c_accuracy: 0.0522 - val_out_f_accuracy: 0.4026\n",
            "Epoch 8/20\n",
            "391/391 [==============================] - 16s 40ms/step - loss: 1.9850 - out_c_loss: 9.1015 - out_f_loss: 1.9850 - out_c_accuracy: 0.0494 - out_f_accuracy: 0.4908 - val_loss: 2.2491 - val_out_c_loss: 9.4885 - val_out_f_loss: 2.2491 - val_out_c_accuracy: 0.0546 - val_out_f_accuracy: 0.4454\n",
            "Epoch 9/20\n",
            "391/391 [==============================] - 16s 40ms/step - loss: 1.8059 - out_c_loss: 9.8216 - out_f_loss: 1.8059 - out_c_accuracy: 0.0484 - out_f_accuracy: 0.5296 - val_loss: 2.1914 - val_out_c_loss: 9.6834 - val_out_f_loss: 2.1914 - val_out_c_accuracy: 0.0500 - val_out_f_accuracy: 0.4602\n",
            "Epoch 10/20\n",
            "391/391 [==============================] - 16s 41ms/step - loss: 1.6444 - out_c_loss: 10.4131 - out_f_loss: 1.6444 - out_c_accuracy: 0.0491 - out_f_accuracy: 0.5667 - val_loss: 2.1420 - val_out_c_loss: 10.0958 - val_out_f_loss: 2.1420 - val_out_c_accuracy: 0.0474 - val_out_f_accuracy: 0.4686\n",
            "Epoch 11/20\n",
            "391/391 [==============================] - 16s 40ms/step - loss: 1.4961 - out_c_loss: 11.0286 - out_f_loss: 1.4961 - out_c_accuracy: 0.0482 - out_f_accuracy: 0.5994 - val_loss: 2.0971 - val_out_c_loss: 10.4565 - val_out_f_loss: 2.0971 - val_out_c_accuracy: 0.0510 - val_out_f_accuracy: 0.4732\n",
            "Epoch 12/20\n",
            "391/391 [==============================] - 16s 40ms/step - loss: 1.3536 - out_c_loss: 11.6926 - out_f_loss: 1.3536 - out_c_accuracy: 0.0474 - out_f_accuracy: 0.6347 - val_loss: 2.0981 - val_out_c_loss: 11.2686 - val_out_f_loss: 2.0981 - val_out_c_accuracy: 0.0526 - val_out_f_accuracy: 0.4842\n",
            "Epoch 13/20\n",
            "391/391 [==============================] - 16s 40ms/step - loss: 1.2194 - out_c_loss: 12.2689 - out_f_loss: 1.2194 - out_c_accuracy: 0.0474 - out_f_accuracy: 0.6681 - val_loss: 2.0926 - val_out_c_loss: 11.8510 - val_out_f_loss: 2.0926 - val_out_c_accuracy: 0.0486 - val_out_f_accuracy: 0.4928\n",
            "Epoch 14/20\n",
            "391/391 [==============================] - 16s 41ms/step - loss: 1.0905 - out_c_loss: 13.1530 - out_f_loss: 1.0905 - out_c_accuracy: 0.0465 - out_f_accuracy: 0.7020 - val_loss: 2.1604 - val_out_c_loss: 13.2985 - val_out_f_loss: 2.1604 - val_out_c_accuracy: 0.0476 - val_out_f_accuracy: 0.4934\n",
            "Epoch 15/20\n",
            "391/391 [==============================] - 16s 41ms/step - loss: 0.9618 - out_c_loss: 14.0513 - out_f_loss: 0.9618 - out_c_accuracy: 0.0469 - out_f_accuracy: 0.7354 - val_loss: 2.1810 - val_out_c_loss: 15.0748 - val_out_f_loss: 2.1810 - val_out_c_accuracy: 0.0534 - val_out_f_accuracy: 0.4978\n",
            "Epoch 16/20\n",
            "391/391 [==============================] - 16s 41ms/step - loss: 0.8418 - out_c_loss: 15.0929 - out_f_loss: 0.8418 - out_c_accuracy: 0.0472 - out_f_accuracy: 0.7676 - val_loss: 2.2992 - val_out_c_loss: 15.6866 - val_out_f_loss: 2.2992 - val_out_c_accuracy: 0.0546 - val_out_f_accuracy: 0.4968\n",
            "Epoch 17/20\n",
            "391/391 [==============================] - 16s 41ms/step - loss: 0.7216 - out_c_loss: 16.0980 - out_f_loss: 0.7216 - out_c_accuracy: 0.0460 - out_f_accuracy: 0.8006 - val_loss: 2.3508 - val_out_c_loss: 16.1447 - val_out_f_loss: 2.3508 - val_out_c_accuracy: 0.0490 - val_out_f_accuracy: 0.4992\n",
            "Epoch 18/20\n",
            "391/391 [==============================] - 16s 40ms/step - loss: 0.6151 - out_c_loss: 17.3461 - out_f_loss: 0.6151 - out_c_accuracy: 0.0474 - out_f_accuracy: 0.8308 - val_loss: 2.4517 - val_out_c_loss: 17.3368 - val_out_f_loss: 2.4517 - val_out_c_accuracy: 0.0484 - val_out_f_accuracy: 0.5004\n",
            "Epoch 19/20\n",
            "391/391 [==============================] - 16s 40ms/step - loss: 0.5012 - out_c_loss: 18.7530 - out_f_loss: 0.5012 - out_c_accuracy: 0.0465 - out_f_accuracy: 0.8615 - val_loss: 2.5394 - val_out_c_loss: 18.2820 - val_out_f_loss: 2.5394 - val_out_c_accuracy: 0.0480 - val_out_f_accuracy: 0.5058\n",
            "Epoch 20/20\n",
            "391/391 [==============================] - 16s 40ms/step - loss: 0.4131 - out_c_loss: 20.0949 - out_f_loss: 0.4131 - out_c_accuracy: 0.0473 - out_f_accuracy: 0.8878 - val_loss: 2.7480 - val_out_c_loss: 19.9309 - val_out_f_loss: 2.7480 - val_out_c_accuracy: 0.0470 - val_out_f_accuracy: 0.4990\n"
          ],
          "name": "stdout"
        }
      ]
    },
    {
      "cell_type": "code",
      "metadata": {
        "id": "lMVY75KYiBEZ",
        "outputId": "4ba19d2d-612a-41db-ed2b-f76d985e2f0c",
        "colab": {
          "base_uri": "https://localhost:8080/"
        }
      },
      "source": [
        "# Create the model\n",
        "model = get_model1(0)\n",
        "model.summary()\n",
        "plot_model(model)\n",
        "#train model\n",
        "logdir = os.path.join(\"logs\", datetime.datetime.now().strftime(\"%Y%m%d-%H%M%S\"))\n",
        "tensorboard_callback = tf.keras.callbacks.TensorBoard(logdir, histogram_freq=1)\n",
        "batch = 128\n",
        "history = model.fit(X_train, \n",
        "                    y_train,\n",
        "                    validation_data = (X_val, y_val), \n",
        "                    batch_size=batch, \n",
        "                    epochs=20,\n",
        "                    callbacks=[tensorboard_callback])\n",
        "\n"
      ],
      "execution_count": 31,
      "outputs": [
        {
          "output_type": "stream",
          "text": [
            "Model: \"Model_1\"\n",
            "__________________________________________________________________________________________________\n",
            "Layer (type)                    Output Shape         Param #     Connected to                     \n",
            "==================================================================================================\n",
            "main_input (InputLayer)         [(None, 32, 32, 3)]  0                                            \n",
            "__________________________________________________________________________________________________\n",
            "vgg19 (Functional)              (None, None, None, 5 20024384    main_input[0][0]                 \n",
            "__________________________________________________________________________________________________\n",
            "flatten_25 (Flatten)            (None, 512)          0           vgg19[0][0]                      \n",
            "__________________________________________________________________________________________________\n",
            "out_c (Dense)                   (None, 20)           10260       flatten_25[0][0]                 \n",
            "__________________________________________________________________________________________________\n",
            "out_f (Dense)                   (None, 100)          51300       flatten_25[0][0]                 \n",
            "==================================================================================================\n",
            "Total params: 20,085,944\n",
            "Trainable params: 20,085,944\n",
            "Non-trainable params: 0\n",
            "__________________________________________________________________________________________________\n",
            "Epoch 1/20\n",
            "391/391 [==============================] - 18s 43ms/step - loss: 3.2171 - out_c_loss: 3.2171 - out_f_loss: 5.9071 - out_c_accuracy: 0.1881 - out_f_accuracy: 0.0094 - val_loss: 2.2127 - val_out_c_loss: 2.2127 - val_out_f_loss: 6.3170 - val_out_c_accuracy: 0.3340 - val_out_f_accuracy: 0.0116\n",
            "Epoch 2/20\n",
            "391/391 [==============================] - 16s 40ms/step - loss: 1.9379 - out_c_loss: 1.9379 - out_f_loss: 8.5484 - out_c_accuracy: 0.4044 - out_f_accuracy: 0.0090 - val_loss: 1.7409 - val_out_c_loss: 1.7409 - val_out_f_loss: 10.5223 - val_out_c_accuracy: 0.4550 - val_out_f_accuracy: 0.0104\n",
            "Epoch 3/20\n",
            "391/391 [==============================] - 16s 40ms/step - loss: 1.6062 - out_c_loss: 1.6062 - out_f_loss: 11.4452 - out_c_accuracy: 0.4982 - out_f_accuracy: 0.0096 - val_loss: 1.5602 - val_out_c_loss: 1.5602 - val_out_f_loss: 12.5335 - val_out_c_accuracy: 0.5020 - val_out_f_accuracy: 0.0108\n",
            "Epoch 4/20\n",
            "391/391 [==============================] - 16s 41ms/step - loss: 1.4267 - out_c_loss: 1.4267 - out_f_loss: 12.8676 - out_c_accuracy: 0.5500 - out_f_accuracy: 0.0101 - val_loss: 1.4293 - val_out_c_loss: 1.4293 - val_out_f_loss: 14.1431 - val_out_c_accuracy: 0.5488 - val_out_f_accuracy: 0.0106\n",
            "Epoch 5/20\n",
            "391/391 [==============================] - 16s 40ms/step - loss: 1.2944 - out_c_loss: 1.2944 - out_f_loss: 14.0504 - out_c_accuracy: 0.5897 - out_f_accuracy: 0.0102 - val_loss: 1.3716 - val_out_c_loss: 1.3716 - val_out_f_loss: 15.2703 - val_out_c_accuracy: 0.5738 - val_out_f_accuracy: 0.0116\n",
            "Epoch 6/20\n",
            "391/391 [==============================] - 16s 41ms/step - loss: 1.1850 - out_c_loss: 1.1850 - out_f_loss: 14.8263 - out_c_accuracy: 0.6243 - out_f_accuracy: 0.0103 - val_loss: 1.3134 - val_out_c_loss: 1.3134 - val_out_f_loss: 15.8959 - val_out_c_accuracy: 0.5922 - val_out_f_accuracy: 0.0116\n",
            "Epoch 7/20\n",
            "391/391 [==============================] - 16s 40ms/step - loss: 1.0936 - out_c_loss: 1.0936 - out_f_loss: 15.8099 - out_c_accuracy: 0.6507 - out_f_accuracy: 0.0104 - val_loss: 1.2701 - val_out_c_loss: 1.2701 - val_out_f_loss: 15.4943 - val_out_c_accuracy: 0.6056 - val_out_f_accuracy: 0.0114\n",
            "Epoch 8/20\n",
            "391/391 [==============================] - 16s 40ms/step - loss: 1.0046 - out_c_loss: 1.0046 - out_f_loss: 16.5119 - out_c_accuracy: 0.6789 - out_f_accuracy: 0.0105 - val_loss: 1.2319 - val_out_c_loss: 1.2319 - val_out_f_loss: 16.1265 - val_out_c_accuracy: 0.6152 - val_out_f_accuracy: 0.0110\n",
            "Epoch 9/20\n",
            "391/391 [==============================] - 16s 40ms/step - loss: 0.9264 - out_c_loss: 0.9264 - out_f_loss: 17.2640 - out_c_accuracy: 0.7025 - out_f_accuracy: 0.0103 - val_loss: 1.2166 - val_out_c_loss: 1.2166 - val_out_f_loss: 16.8828 - val_out_c_accuracy: 0.6266 - val_out_f_accuracy: 0.0104\n",
            "Epoch 10/20\n",
            "391/391 [==============================] - 16s 40ms/step - loss: 0.8498 - out_c_loss: 0.8498 - out_f_loss: 17.9785 - out_c_accuracy: 0.7292 - out_f_accuracy: 0.0101 - val_loss: 1.2052 - val_out_c_loss: 1.2052 - val_out_f_loss: 18.6752 - val_out_c_accuracy: 0.6332 - val_out_f_accuracy: 0.0100\n",
            "Epoch 11/20\n",
            "391/391 [==============================] - 16s 40ms/step - loss: 0.7723 - out_c_loss: 0.7723 - out_f_loss: 18.9981 - out_c_accuracy: 0.7524 - out_f_accuracy: 0.0099 - val_loss: 1.1822 - val_out_c_loss: 1.1822 - val_out_f_loss: 17.9578 - val_out_c_accuracy: 0.6416 - val_out_f_accuracy: 0.0106\n",
            "Epoch 12/20\n",
            "391/391 [==============================] - 16s 40ms/step - loss: 0.7034 - out_c_loss: 0.7034 - out_f_loss: 19.7190 - out_c_accuracy: 0.7753 - out_f_accuracy: 0.0095 - val_loss: 1.2161 - val_out_c_loss: 1.2161 - val_out_f_loss: 19.5032 - val_out_c_accuracy: 0.6422 - val_out_f_accuracy: 0.0102\n",
            "Epoch 13/20\n",
            "391/391 [==============================] - 16s 40ms/step - loss: 0.6274 - out_c_loss: 0.6274 - out_f_loss: 20.8647 - out_c_accuracy: 0.7981 - out_f_accuracy: 0.0095 - val_loss: 1.2467 - val_out_c_loss: 1.2467 - val_out_f_loss: 20.7146 - val_out_c_accuracy: 0.6494 - val_out_f_accuracy: 0.0092\n",
            "Epoch 14/20\n",
            "391/391 [==============================] - 16s 40ms/step - loss: 0.5569 - out_c_loss: 0.5569 - out_f_loss: 22.1994 - out_c_accuracy: 0.8212 - out_f_accuracy: 0.0093 - val_loss: 1.2678 - val_out_c_loss: 1.2678 - val_out_f_loss: 21.8237 - val_out_c_accuracy: 0.6488 - val_out_f_accuracy: 0.0092\n",
            "Epoch 15/20\n",
            "391/391 [==============================] - 16s 40ms/step - loss: 0.4860 - out_c_loss: 0.4860 - out_f_loss: 23.8124 - out_c_accuracy: 0.8444 - out_f_accuracy: 0.0096 - val_loss: 1.3097 - val_out_c_loss: 1.3097 - val_out_f_loss: 23.7917 - val_out_c_accuracy: 0.6530 - val_out_f_accuracy: 0.0098\n",
            "Epoch 16/20\n",
            "391/391 [==============================] - 16s 40ms/step - loss: 0.4189 - out_c_loss: 0.4189 - out_f_loss: 25.2808 - out_c_accuracy: 0.8649 - out_f_accuracy: 0.0091 - val_loss: 1.4100 - val_out_c_loss: 1.4100 - val_out_f_loss: 25.4505 - val_out_c_accuracy: 0.6460 - val_out_f_accuracy: 0.0100\n",
            "Epoch 17/20\n",
            "391/391 [==============================] - 16s 40ms/step - loss: 0.3567 - out_c_loss: 0.3567 - out_f_loss: 26.8335 - out_c_accuracy: 0.8870 - out_f_accuracy: 0.0089 - val_loss: 1.3784 - val_out_c_loss: 1.3784 - val_out_f_loss: 26.9005 - val_out_c_accuracy: 0.6580 - val_out_f_accuracy: 0.0102\n",
            "Epoch 18/20\n",
            "391/391 [==============================] - 16s 40ms/step - loss: 0.2968 - out_c_loss: 0.2968 - out_f_loss: 28.9558 - out_c_accuracy: 0.9088 - out_f_accuracy: 0.0090 - val_loss: 1.5527 - val_out_c_loss: 1.5527 - val_out_f_loss: 29.5226 - val_out_c_accuracy: 0.6524 - val_out_f_accuracy: 0.0092\n",
            "Epoch 19/20\n",
            "391/391 [==============================] - 16s 40ms/step - loss: 0.2430 - out_c_loss: 0.2430 - out_f_loss: 30.7843 - out_c_accuracy: 0.9256 - out_f_accuracy: 0.0089 - val_loss: 1.5932 - val_out_c_loss: 1.5932 - val_out_f_loss: 31.5011 - val_out_c_accuracy: 0.6506 - val_out_f_accuracy: 0.0086\n",
            "Epoch 20/20\n",
            "391/391 [==============================] - 16s 40ms/step - loss: 0.1919 - out_c_loss: 0.1919 - out_f_loss: 33.3702 - out_c_accuracy: 0.9430 - out_f_accuracy: 0.0086 - val_loss: 1.6638 - val_out_c_loss: 1.6638 - val_out_f_loss: 32.8123 - val_out_c_accuracy: 0.6540 - val_out_f_accuracy: 0.0098\n"
          ],
          "name": "stdout"
        }
      ]
    },
    {
      "cell_type": "code",
      "metadata": {
        "id": "5SE6IpP90EKU",
        "outputId": "a9711e3b-5f93-47f6-aee2-2dfd159a071d",
        "colab": {
          "base_uri": "https://localhost:8080/"
        }
      },
      "source": [
        "# Create the model\n",
        "model = get_model1(0.5)\n",
        "model.summary()\n",
        "plot_model(model)\n",
        "#train model\n",
        "logdir = os.path.join(\"logs\", datetime.datetime.now().strftime(\"%Y%m%d-%H%M%S\"))\n",
        "tensorboard_callback = tf.keras.callbacks.TensorBoard(logdir, histogram_freq=1)\n",
        "batch = 128\n",
        "history = model.fit(X_train, \n",
        "                    y_train,\n",
        "                    validation_data = (X_val, y_val), \n",
        "                    batch_size=batch, \n",
        "                    epochs=20,\n",
        "                    callbacks=[tensorboard_callback])\n",
        "\n"
      ],
      "execution_count": 32,
      "outputs": [
        {
          "output_type": "stream",
          "text": [
            "Model: \"Model_1\"\n",
            "__________________________________________________________________________________________________\n",
            "Layer (type)                    Output Shape         Param #     Connected to                     \n",
            "==================================================================================================\n",
            "main_input (InputLayer)         [(None, 32, 32, 3)]  0                                            \n",
            "__________________________________________________________________________________________________\n",
            "vgg19 (Functional)              (None, None, None, 5 20024384    main_input[0][0]                 \n",
            "__________________________________________________________________________________________________\n",
            "flatten_26 (Flatten)            (None, 512)          0           vgg19[0][0]                      \n",
            "__________________________________________________________________________________________________\n",
            "out_c (Dense)                   (None, 20)           10260       flatten_26[0][0]                 \n",
            "__________________________________________________________________________________________________\n",
            "out_f (Dense)                   (None, 100)          51300       flatten_26[0][0]                 \n",
            "==================================================================================================\n",
            "Total params: 20,085,944\n",
            "Trainable params: 20,085,944\n",
            "Non-trainable params: 0\n",
            "__________________________________________________________________________________________________\n",
            "Epoch 1/20\n",
            "391/391 [==============================] - 18s 43ms/step - loss: 4.3867 - out_c_loss: 3.4744 - out_f_loss: 5.2989 - out_c_accuracy: 0.0886 - out_f_accuracy: 0.0127 - val_loss: 3.6789 - val_out_c_loss: 2.7844 - val_out_f_loss: 4.5734 - val_out_c_accuracy: 0.1624 - val_out_f_accuracy: 0.0216\n",
            "Epoch 2/20\n",
            "391/391 [==============================] - 16s 40ms/step - loss: 3.5168 - out_c_loss: 2.5650 - out_f_loss: 4.4686 - out_c_accuracy: 0.2321 - out_f_accuracy: 0.0369 - val_loss: 3.3435 - val_out_c_loss: 2.3697 - val_out_f_loss: 4.3173 - val_out_c_accuracy: 0.2914 - val_out_f_accuracy: 0.0562\n",
            "Epoch 3/20\n",
            "391/391 [==============================] - 16s 40ms/step - loss: 3.1473 - out_c_loss: 2.1878 - out_f_loss: 4.1067 - out_c_accuracy: 0.3541 - out_f_accuracy: 0.1021 - val_loss: 3.0046 - val_out_c_loss: 2.0794 - val_out_f_loss: 3.9297 - val_out_c_accuracy: 0.3774 - val_out_f_accuracy: 0.1380\n",
            "Epoch 4/20\n",
            "391/391 [==============================] - 16s 40ms/step - loss: 2.8047 - out_c_loss: 1.9181 - out_f_loss: 3.6912 - out_c_accuracy: 0.4334 - out_f_accuracy: 0.1820 - val_loss: 2.7008 - val_out_c_loss: 1.8547 - val_out_f_loss: 3.5469 - val_out_c_accuracy: 0.4454 - val_out_f_accuracy: 0.2172\n",
            "Epoch 5/20\n",
            "391/391 [==============================] - 16s 40ms/step - loss: 2.4802 - out_c_loss: 1.6790 - out_f_loss: 3.2815 - out_c_accuracy: 0.4981 - out_f_accuracy: 0.2603 - val_loss: 2.4130 - val_out_c_loss: 1.6311 - val_out_f_loss: 3.1949 - val_out_c_accuracy: 0.5166 - val_out_f_accuracy: 0.2662\n",
            "Epoch 6/20\n",
            "391/391 [==============================] - 16s 40ms/step - loss: 2.1746 - out_c_loss: 1.4593 - out_f_loss: 2.8898 - out_c_accuracy: 0.5538 - out_f_accuracy: 0.3257 - val_loss: 2.1733 - val_out_c_loss: 1.4806 - val_out_f_loss: 2.8659 - val_out_c_accuracy: 0.5460 - val_out_f_accuracy: 0.3294\n",
            "Epoch 7/20\n",
            "391/391 [==============================] - 16s 40ms/step - loss: 1.9206 - out_c_loss: 1.3046 - out_f_loss: 2.5366 - out_c_accuracy: 0.5970 - out_f_accuracy: 0.3832 - val_loss: 2.0278 - val_out_c_loss: 1.4177 - val_out_f_loss: 2.6380 - val_out_c_accuracy: 0.5658 - val_out_f_accuracy: 0.3572\n",
            "Epoch 8/20\n",
            "391/391 [==============================] - 16s 40ms/step - loss: 1.7178 - out_c_loss: 1.1827 - out_f_loss: 2.2529 - out_c_accuracy: 0.6318 - out_f_accuracy: 0.4342 - val_loss: 1.8791 - val_out_c_loss: 1.3348 - val_out_f_loss: 2.4235 - val_out_c_accuracy: 0.6004 - val_out_f_accuracy: 0.3944\n",
            "Epoch 9/20\n",
            "391/391 [==============================] - 16s 40ms/step - loss: 1.5602 - out_c_loss: 1.0813 - out_f_loss: 2.0391 - out_c_accuracy: 0.6617 - out_f_accuracy: 0.4765 - val_loss: 1.8460 - val_out_c_loss: 1.3338 - val_out_f_loss: 2.3583 - val_out_c_accuracy: 0.5990 - val_out_f_accuracy: 0.4184\n",
            "Epoch 10/20\n",
            "391/391 [==============================] - 16s 40ms/step - loss: 1.4252 - out_c_loss: 0.9917 - out_f_loss: 1.8588 - out_c_accuracy: 0.6877 - out_f_accuracy: 0.5123 - val_loss: 1.7397 - val_out_c_loss: 1.2597 - val_out_f_loss: 2.2196 - val_out_c_accuracy: 0.6240 - val_out_f_accuracy: 0.4512\n",
            "Epoch 11/20\n",
            "391/391 [==============================] - 16s 40ms/step - loss: 1.3021 - out_c_loss: 0.9037 - out_f_loss: 1.7004 - out_c_accuracy: 0.7135 - out_f_accuracy: 0.5477 - val_loss: 1.6955 - val_out_c_loss: 1.2395 - val_out_f_loss: 2.1515 - val_out_c_accuracy: 0.6312 - val_out_f_accuracy: 0.4646\n",
            "Epoch 12/20\n",
            "391/391 [==============================] - 16s 40ms/step - loss: 1.1932 - out_c_loss: 0.8275 - out_f_loss: 1.5589 - out_c_accuracy: 0.7383 - out_f_accuracy: 0.5835 - val_loss: 1.7100 - val_out_c_loss: 1.2526 - val_out_f_loss: 2.1674 - val_out_c_accuracy: 0.6450 - val_out_f_accuracy: 0.4658\n",
            "Epoch 13/20\n",
            "391/391 [==============================] - 16s 40ms/step - loss: 1.0886 - out_c_loss: 0.7488 - out_f_loss: 1.4284 - out_c_accuracy: 0.7634 - out_f_accuracy: 0.6116 - val_loss: 1.6945 - val_out_c_loss: 1.2503 - val_out_f_loss: 2.1386 - val_out_c_accuracy: 0.6394 - val_out_f_accuracy: 0.4782\n",
            "Epoch 14/20\n",
            "391/391 [==============================] - 16s 40ms/step - loss: 0.9864 - out_c_loss: 0.6727 - out_f_loss: 1.3001 - out_c_accuracy: 0.7850 - out_f_accuracy: 0.6449 - val_loss: 1.7070 - val_out_c_loss: 1.2807 - val_out_f_loss: 2.1333 - val_out_c_accuracy: 0.6454 - val_out_f_accuracy: 0.4842\n",
            "Epoch 15/20\n",
            "391/391 [==============================] - 16s 40ms/step - loss: 0.8918 - out_c_loss: 0.6031 - out_f_loss: 1.1805 - out_c_accuracy: 0.8074 - out_f_accuracy: 0.6747 - val_loss: 1.7115 - val_out_c_loss: 1.2826 - val_out_f_loss: 2.1403 - val_out_c_accuracy: 0.6432 - val_out_f_accuracy: 0.4850\n",
            "Epoch 16/20\n",
            "391/391 [==============================] - 16s 40ms/step - loss: 0.7933 - out_c_loss: 0.5295 - out_f_loss: 1.0571 - out_c_accuracy: 0.8304 - out_f_accuracy: 0.7042 - val_loss: 1.7859 - val_out_c_loss: 1.3618 - val_out_f_loss: 2.2099 - val_out_c_accuracy: 0.6366 - val_out_f_accuracy: 0.4830\n",
            "Epoch 17/20\n",
            "391/391 [==============================] - 16s 40ms/step - loss: 0.7045 - out_c_loss: 0.4621 - out_f_loss: 0.9469 - out_c_accuracy: 0.8528 - out_f_accuracy: 0.7343 - val_loss: 1.8256 - val_out_c_loss: 1.4030 - val_out_f_loss: 2.2481 - val_out_c_accuracy: 0.6492 - val_out_f_accuracy: 0.4930\n",
            "Epoch 18/20\n",
            "391/391 [==============================] - 16s 40ms/step - loss: 0.6154 - out_c_loss: 0.3951 - out_f_loss: 0.8357 - out_c_accuracy: 0.8747 - out_f_accuracy: 0.7633 - val_loss: 1.8716 - val_out_c_loss: 1.4395 - val_out_f_loss: 2.3036 - val_out_c_accuracy: 0.6454 - val_out_f_accuracy: 0.4952\n",
            "Epoch 19/20\n",
            "391/391 [==============================] - 16s 40ms/step - loss: 0.5357 - out_c_loss: 0.3387 - out_f_loss: 0.7328 - out_c_accuracy: 0.8936 - out_f_accuracy: 0.7922 - val_loss: 1.9745 - val_out_c_loss: 1.5557 - val_out_f_loss: 2.3933 - val_out_c_accuracy: 0.6442 - val_out_f_accuracy: 0.4938\n",
            "Epoch 20/20\n",
            "391/391 [==============================] - 16s 40ms/step - loss: 0.4549 - out_c_loss: 0.2827 - out_f_loss: 0.6272 - out_c_accuracy: 0.9121 - out_f_accuracy: 0.8217 - val_loss: 1.9971 - val_out_c_loss: 1.5687 - val_out_f_loss: 2.4254 - val_out_c_accuracy: 0.6516 - val_out_f_accuracy: 0.4964\n"
          ],
          "name": "stdout"
        }
      ]
    },
    {
      "cell_type": "code",
      "metadata": {
        "id": "qvGw5Sz311X0",
        "outputId": "b74ede0c-63de-4502-840a-e280fc507609",
        "colab": {
          "base_uri": "https://localhost:8080/"
        }
      },
      "source": [
        "# Create the model\n",
        "model = get_model2(0.5)\n",
        "model.summary()\n",
        "plot_model(model)\n",
        "#train model\n",
        "logdir = os.path.join(\"logs\", datetime.datetime.now().strftime(\"%Y%m%d-%H%M%S\"))\n",
        "tensorboard_callback = tf.keras.callbacks.TensorBoard(logdir, histogram_freq=1)\n",
        "batch = 128\n",
        "history = model.fit(X_train, \n",
        "                    y_train,\n",
        "                    validation_data = (X_val, y_val), \n",
        "                    batch_size=batch, \n",
        "                    epochs=20,\n",
        "                    callbacks=[tensorboard_callback])\n",
        "\n"
      ],
      "execution_count": 33,
      "outputs": [
        {
          "output_type": "stream",
          "text": [
            "Model: \"Model_2\"\n",
            "_________________________________________________________________\n",
            "Layer (type)                 Output Shape              Param #   \n",
            "=================================================================\n",
            "main_input (InputLayer)      [(None, 32, 32, 3)]       0         \n",
            "_________________________________________________________________\n",
            "vgg19 (Functional)           (None, None, None, 512)   20024384  \n",
            "_________________________________________________________________\n",
            "flatten_27 (Flatten)         (None, 512)               0         \n",
            "_________________________________________________________________\n",
            "out_c (Dense)                (None, 20)                10260     \n",
            "_________________________________________________________________\n",
            "out_f (Dense)                (None, 100)               2100      \n",
            "=================================================================\n",
            "Total params: 20,036,744\n",
            "Trainable params: 20,036,744\n",
            "Non-trainable params: 0\n",
            "_________________________________________________________________\n",
            "Epoch 1/20\n",
            "391/391 [==============================] - 18s 43ms/step - loss: 3.8899 - out_c_loss: 3.1713 - out_f_loss: 4.6084 - out_c_accuracy: 0.2052 - out_f_accuracy: 0.0101 - val_loss: 3.3585 - val_out_c_loss: 2.1098 - val_out_f_loss: 4.6071 - val_out_c_accuracy: 0.3496 - val_out_f_accuracy: 0.0154\n",
            "Epoch 2/20\n",
            "391/391 [==============================] - 16s 41ms/step - loss: 3.2144 - out_c_loss: 1.8224 - out_f_loss: 4.6064 - out_c_accuracy: 0.4312 - out_f_accuracy: 0.0208 - val_loss: 3.1524 - val_out_c_loss: 1.7006 - val_out_f_loss: 4.6041 - val_out_c_accuracy: 0.4672 - val_out_f_accuracy: 0.0256\n",
            "Epoch 3/20\n",
            "391/391 [==============================] - 16s 40ms/step - loss: 3.0769 - out_c_loss: 1.5501 - out_f_loss: 4.6038 - out_c_accuracy: 0.5079 - out_f_accuracy: 0.0279 - val_loss: 3.0609 - val_out_c_loss: 1.5185 - val_out_f_loss: 4.6034 - val_out_c_accuracy: 0.5254 - val_out_f_accuracy: 0.0310\n",
            "Epoch 4/20\n",
            "391/391 [==============================] - 16s 40ms/step - loss: 2.9943 - out_c_loss: 1.3873 - out_f_loss: 4.6012 - out_c_accuracy: 0.5609 - out_f_accuracy: 0.0335 - val_loss: 3.0025 - val_out_c_loss: 1.4067 - val_out_f_loss: 4.5984 - val_out_c_accuracy: 0.5582 - val_out_f_accuracy: 0.0368\n",
            "Epoch 5/20\n",
            "391/391 [==============================] - 16s 40ms/step - loss: 2.9317 - out_c_loss: 1.2650 - out_f_loss: 4.5983 - out_c_accuracy: 0.5938 - out_f_accuracy: 0.0382 - val_loss: 2.9796 - val_out_c_loss: 1.3629 - val_out_f_loss: 4.5963 - val_out_c_accuracy: 0.5750 - val_out_f_accuracy: 0.0382\n",
            "Epoch 6/20\n",
            "391/391 [==============================] - 16s 40ms/step - loss: 2.8806 - out_c_loss: 1.1662 - out_f_loss: 4.5949 - out_c_accuracy: 0.6268 - out_f_accuracy: 0.0439 - val_loss: 2.9522 - val_out_c_loss: 1.3096 - val_out_f_loss: 4.5947 - val_out_c_accuracy: 0.5926 - val_out_f_accuracy: 0.0420\n",
            "Epoch 7/20\n",
            "391/391 [==============================] - 16s 40ms/step - loss: 2.8351 - out_c_loss: 1.0789 - out_f_loss: 4.5914 - out_c_accuracy: 0.6519 - out_f_accuracy: 0.0498 - val_loss: 2.9330 - val_out_c_loss: 1.2768 - val_out_f_loss: 4.5893 - val_out_c_accuracy: 0.6052 - val_out_f_accuracy: 0.0496\n",
            "Epoch 8/20\n",
            "391/391 [==============================] - 16s 41ms/step - loss: 2.7891 - out_c_loss: 0.9905 - out_f_loss: 4.5877 - out_c_accuracy: 0.6801 - out_f_accuracy: 0.0586 - val_loss: 2.9128 - val_out_c_loss: 1.2394 - val_out_f_loss: 4.5863 - val_out_c_accuracy: 0.6146 - val_out_f_accuracy: 0.0536\n",
            "Epoch 9/20\n",
            "391/391 [==============================] - 16s 40ms/step - loss: 2.7489 - out_c_loss: 0.9143 - out_f_loss: 4.5835 - out_c_accuracy: 0.7035 - out_f_accuracy: 0.0617 - val_loss: 2.8954 - val_out_c_loss: 1.2075 - val_out_f_loss: 4.5832 - val_out_c_accuracy: 0.6252 - val_out_f_accuracy: 0.0556\n",
            "Epoch 10/20\n",
            "391/391 [==============================] - 16s 40ms/step - loss: 2.7069 - out_c_loss: 0.8344 - out_f_loss: 4.5793 - out_c_accuracy: 0.7294 - out_f_accuracy: 0.0662 - val_loss: 2.8921 - val_out_c_loss: 1.2043 - val_out_f_loss: 4.5799 - val_out_c_accuracy: 0.6326 - val_out_f_accuracy: 0.0576\n",
            "Epoch 11/20\n",
            "391/391 [==============================] - 16s 40ms/step - loss: 2.6652 - out_c_loss: 0.7555 - out_f_loss: 4.5749 - out_c_accuracy: 0.7568 - out_f_accuracy: 0.0709 - val_loss: 2.8997 - val_out_c_loss: 1.2228 - val_out_f_loss: 4.5766 - val_out_c_accuracy: 0.6336 - val_out_f_accuracy: 0.0624\n",
            "Epoch 12/20\n",
            "391/391 [==============================] - 16s 40ms/step - loss: 2.6270 - out_c_loss: 0.6836 - out_f_loss: 4.5703 - out_c_accuracy: 0.7782 - out_f_accuracy: 0.0770 - val_loss: 2.8943 - val_out_c_loss: 1.2170 - val_out_f_loss: 4.5716 - val_out_c_accuracy: 0.6490 - val_out_f_accuracy: 0.0684\n",
            "Epoch 13/20\n",
            "391/391 [==============================] - 16s 40ms/step - loss: 2.5870 - out_c_loss: 0.6086 - out_f_loss: 4.5654 - out_c_accuracy: 0.8030 - out_f_accuracy: 0.0832 - val_loss: 2.9055 - val_out_c_loss: 1.2428 - val_out_f_loss: 4.5681 - val_out_c_accuracy: 0.6458 - val_out_f_accuracy: 0.0684\n",
            "Epoch 14/20\n",
            "391/391 [==============================] - 16s 40ms/step - loss: 2.5457 - out_c_loss: 0.5313 - out_f_loss: 4.5601 - out_c_accuracy: 0.8279 - out_f_accuracy: 0.0938 - val_loss: 2.9474 - val_out_c_loss: 1.3282 - val_out_f_loss: 4.5665 - val_out_c_accuracy: 0.6482 - val_out_f_accuracy: 0.0752\n",
            "Epoch 15/20\n",
            "391/391 [==============================] - 16s 40ms/step - loss: 2.5125 - out_c_loss: 0.4701 - out_f_loss: 4.5549 - out_c_accuracy: 0.8485 - out_f_accuracy: 0.1016 - val_loss: 2.9418 - val_out_c_loss: 1.3238 - val_out_f_loss: 4.5597 - val_out_c_accuracy: 0.6468 - val_out_f_accuracy: 0.0828\n",
            "Epoch 16/20\n",
            "391/391 [==============================] - 16s 40ms/step - loss: 2.4731 - out_c_loss: 0.3970 - out_f_loss: 4.5493 - out_c_accuracy: 0.8735 - out_f_accuracy: 0.1065 - val_loss: 2.9855 - val_out_c_loss: 1.4150 - val_out_f_loss: 4.5559 - val_out_c_accuracy: 0.6404 - val_out_f_accuracy: 0.0822\n",
            "Epoch 17/20\n",
            "391/391 [==============================] - 16s 40ms/step - loss: 2.4367 - out_c_loss: 0.3303 - out_f_loss: 4.5431 - out_c_accuracy: 0.8956 - out_f_accuracy: 0.1091 - val_loss: 3.0270 - val_out_c_loss: 1.5005 - val_out_f_loss: 4.5535 - val_out_c_accuracy: 0.6414 - val_out_f_accuracy: 0.0796\n",
            "Epoch 18/20\n",
            "391/391 [==============================] - 16s 40ms/step - loss: 2.4051 - out_c_loss: 0.2728 - out_f_loss: 4.5373 - out_c_accuracy: 0.9153 - out_f_accuracy: 0.1121 - val_loss: 3.0744 - val_out_c_loss: 1.5998 - val_out_f_loss: 4.5490 - val_out_c_accuracy: 0.6442 - val_out_f_accuracy: 0.0802\n",
            "Epoch 19/20\n",
            "391/391 [==============================] - 16s 40ms/step - loss: 2.3803 - out_c_loss: 0.2292 - out_f_loss: 4.5314 - out_c_accuracy: 0.9293 - out_f_accuracy: 0.1137 - val_loss: 3.0979 - val_out_c_loss: 1.6510 - val_out_f_loss: 4.5448 - val_out_c_accuracy: 0.6486 - val_out_f_accuracy: 0.0846\n",
            "Epoch 20/20\n",
            "391/391 [==============================] - 16s 40ms/step - loss: 2.3472 - out_c_loss: 0.1695 - out_f_loss: 4.5249 - out_c_accuracy: 0.9506 - out_f_accuracy: 0.1171 - val_loss: 3.1739 - val_out_c_loss: 1.8059 - val_out_f_loss: 4.5419 - val_out_c_accuracy: 0.6428 - val_out_f_accuracy: 0.0828\n"
          ],
          "name": "stdout"
        }
      ]
    },
    {
      "cell_type": "code",
      "metadata": {
        "id": "PSIEZZAj11jf",
        "outputId": "9b4a55ad-ea49-4ebd-d138-0f50a3dcf7ee",
        "colab": {
          "base_uri": "https://localhost:8080/"
        }
      },
      "source": [
        "# Create the model\n",
        "model = get_model3(0.5)\n",
        "model.summary()\n",
        "plot_model(model)\n",
        "#train model\n",
        "logdir = os.path.join(\"logs\", datetime.datetime.now().strftime(\"%Y%m%d-%H%M%S\"))\n",
        "tensorboard_callback = tf.keras.callbacks.TensorBoard(logdir, histogram_freq=1)\n",
        "batch = 128\n",
        "history = model.fit(X_train, \n",
        "                    y_train,\n",
        "                    validation_data = (X_val, y_val), \n",
        "                    batch_size=batch, \n",
        "                    epochs=20,\n",
        "                    callbacks=[tensorboard_callback])\n",
        "\n"
      ],
      "execution_count": 34,
      "outputs": [
        {
          "output_type": "stream",
          "text": [
            "Model: \"Model_3\"\n",
            "__________________________________________________________________________________________________\n",
            "Layer (type)                    Output Shape         Param #     Connected to                     \n",
            "==================================================================================================\n",
            "main_input (InputLayer)         [(None, 32, 32, 3)]  0                                            \n",
            "__________________________________________________________________________________________________\n",
            "vgg19 (Functional)              (None, None, None, 5 20024384    main_input[0][0]                 \n",
            "__________________________________________________________________________________________________\n",
            "flatten_28 (Flatten)            (None, 512)          0           vgg19[0][0]                      \n",
            "__________________________________________________________________________________________________\n",
            "logits_c (Dense)                (None, 20)           10260       flatten_28[0][0]                 \n",
            "__________________________________________________________________________________________________\n",
            "relu_c (Activation)             (None, 20)           0           logits_c[0][0]                   \n",
            "__________________________________________________________________________________________________\n",
            "out_c (Activation)              (None, 20)           0           logits_c[0][0]                   \n",
            "__________________________________________________________________________________________________\n",
            "out_f (Dense)                   (None, 100)          2100        relu_c[0][0]                     \n",
            "==================================================================================================\n",
            "Total params: 20,036,744\n",
            "Trainable params: 20,036,744\n",
            "Non-trainable params: 0\n",
            "__________________________________________________________________________________________________\n",
            "Epoch 1/20\n",
            "391/391 [==============================] - 18s 43ms/step - loss: 3.9929 - out_c_loss: 3.1933 - out_f_loss: 4.7925 - out_c_accuracy: 0.1962 - out_f_accuracy: 0.0096 - val_loss: 3.4025 - val_out_c_loss: 2.1644 - val_out_f_loss: 4.6405 - val_out_c_accuracy: 0.3418 - val_out_f_accuracy: 0.0086\n",
            "Epoch 2/20\n",
            "391/391 [==============================] - 16s 40ms/step - loss: 3.2713 - out_c_loss: 1.9209 - out_f_loss: 4.6216 - out_c_accuracy: 0.4011 - out_f_accuracy: 0.0116 - val_loss: 3.1929 - val_out_c_loss: 1.7753 - val_out_f_loss: 4.6105 - val_out_c_accuracy: 0.4508 - val_out_f_accuracy: 0.0122\n",
            "Epoch 3/20\n",
            "391/391 [==============================] - 16s 40ms/step - loss: 3.1016 - out_c_loss: 1.6181 - out_f_loss: 4.5852 - out_c_accuracy: 0.4910 - out_f_accuracy: 0.0147 - val_loss: 3.0685 - val_out_c_loss: 1.5720 - val_out_f_loss: 4.5650 - val_out_c_accuracy: 0.5038 - val_out_f_accuracy: 0.0168\n",
            "Epoch 4/20\n",
            "391/391 [==============================] - 16s 40ms/step - loss: 2.9935 - out_c_loss: 1.4464 - out_f_loss: 4.5405 - out_c_accuracy: 0.5447 - out_f_accuracy: 0.0223 - val_loss: 3.0107 - val_out_c_loss: 1.4982 - val_out_f_loss: 4.5232 - val_out_c_accuracy: 0.5340 - val_out_f_accuracy: 0.0252\n",
            "Epoch 5/20\n",
            "391/391 [==============================] - 16s 40ms/step - loss: 2.9078 - out_c_loss: 1.3147 - out_f_loss: 4.5009 - out_c_accuracy: 0.5839 - out_f_accuracy: 0.0325 - val_loss: 2.9383 - val_out_c_loss: 1.3973 - val_out_f_loss: 4.4792 - val_out_c_accuracy: 0.5690 - val_out_f_accuracy: 0.0394\n",
            "Epoch 6/20\n",
            "391/391 [==============================] - 16s 40ms/step - loss: 2.8310 - out_c_loss: 1.2108 - out_f_loss: 4.4511 - out_c_accuracy: 0.6158 - out_f_accuracy: 0.0426 - val_loss: 2.8977 - val_out_c_loss: 1.3453 - val_out_f_loss: 4.4501 - val_out_c_accuracy: 0.5778 - val_out_f_accuracy: 0.0430\n",
            "Epoch 7/20\n",
            "391/391 [==============================] - 16s 40ms/step - loss: 2.7650 - out_c_loss: 1.1219 - out_f_loss: 4.4082 - out_c_accuracy: 0.6425 - out_f_accuracy: 0.0536 - val_loss: 2.8638 - val_out_c_loss: 1.3161 - val_out_f_loss: 4.4115 - val_out_c_accuracy: 0.5966 - val_out_f_accuracy: 0.0508\n",
            "Epoch 8/20\n",
            "391/391 [==============================] - 16s 40ms/step - loss: 2.7052 - out_c_loss: 1.0426 - out_f_loss: 4.3677 - out_c_accuracy: 0.6689 - out_f_accuracy: 0.0622 - val_loss: 2.8428 - val_out_c_loss: 1.3037 - val_out_f_loss: 4.3819 - val_out_c_accuracy: 0.6024 - val_out_f_accuracy: 0.0590\n",
            "Epoch 9/20\n",
            "391/391 [==============================] - 16s 40ms/step - loss: 2.6434 - out_c_loss: 0.9622 - out_f_loss: 4.3247 - out_c_accuracy: 0.6933 - out_f_accuracy: 0.0706 - val_loss: 2.8030 - val_out_c_loss: 1.2673 - val_out_f_loss: 4.3387 - val_out_c_accuracy: 0.6170 - val_out_f_accuracy: 0.0718\n",
            "Epoch 10/20\n",
            "391/391 [==============================] - 16s 40ms/step - loss: 2.5836 - out_c_loss: 0.8981 - out_f_loss: 4.2691 - out_c_accuracy: 0.7144 - out_f_accuracy: 0.0865 - val_loss: 2.7832 - val_out_c_loss: 1.2610 - val_out_f_loss: 4.3053 - val_out_c_accuracy: 0.6258 - val_out_f_accuracy: 0.0852\n",
            "Epoch 11/20\n",
            "391/391 [==============================] - 16s 40ms/step - loss: 2.5172 - out_c_loss: 0.8203 - out_f_loss: 4.2141 - out_c_accuracy: 0.7378 - out_f_accuracy: 0.1067 - val_loss: 2.8014 - val_out_c_loss: 1.3255 - val_out_f_loss: 4.2772 - val_out_c_accuracy: 0.6170 - val_out_f_accuracy: 0.0976\n",
            "Epoch 12/20\n",
            "391/391 [==============================] - 16s 40ms/step - loss: 2.4507 - out_c_loss: 0.7494 - out_f_loss: 4.1520 - out_c_accuracy: 0.7623 - out_f_accuracy: 0.1202 - val_loss: 2.7968 - val_out_c_loss: 1.3501 - val_out_f_loss: 4.2435 - val_out_c_accuracy: 0.6256 - val_out_f_accuracy: 0.1080\n",
            "Epoch 13/20\n",
            "391/391 [==============================] - 16s 40ms/step - loss: 2.3848 - out_c_loss: 0.6865 - out_f_loss: 4.0832 - out_c_accuracy: 0.7807 - out_f_accuracy: 0.1334 - val_loss: 2.7369 - val_out_c_loss: 1.2852 - val_out_f_loss: 4.1885 - val_out_c_accuracy: 0.6382 - val_out_f_accuracy: 0.1168\n",
            "Epoch 14/20\n",
            "391/391 [==============================] - 16s 40ms/step - loss: 2.3144 - out_c_loss: 0.6130 - out_f_loss: 4.0158 - out_c_accuracy: 0.8038 - out_f_accuracy: 0.1462 - val_loss: 2.7362 - val_out_c_loss: 1.3173 - val_out_f_loss: 4.1550 - val_out_c_accuracy: 0.6344 - val_out_f_accuracy: 0.1218\n",
            "Epoch 15/20\n",
            "391/391 [==============================] - 16s 40ms/step - loss: 2.2470 - out_c_loss: 0.5457 - out_f_loss: 3.9482 - out_c_accuracy: 0.8270 - out_f_accuracy: 0.1558 - val_loss: 2.7621 - val_out_c_loss: 1.4086 - val_out_f_loss: 4.1156 - val_out_c_accuracy: 0.6322 - val_out_f_accuracy: 0.1278\n",
            "Epoch 16/20\n",
            "391/391 [==============================] - 16s 40ms/step - loss: 2.1834 - out_c_loss: 0.4927 - out_f_loss: 3.8741 - out_c_accuracy: 0.8422 - out_f_accuracy: 0.1666 - val_loss: 2.7645 - val_out_c_loss: 1.4479 - val_out_f_loss: 4.0810 - val_out_c_accuracy: 0.6374 - val_out_f_accuracy: 0.1352\n",
            "Epoch 17/20\n",
            "391/391 [==============================] - 16s 40ms/step - loss: 2.1154 - out_c_loss: 0.4356 - out_f_loss: 3.7951 - out_c_accuracy: 0.8598 - out_f_accuracy: 0.1822 - val_loss: 2.7854 - val_out_c_loss: 1.5202 - val_out_f_loss: 4.0506 - val_out_c_accuracy: 0.6316 - val_out_f_accuracy: 0.1470\n",
            "Epoch 18/20\n",
            "391/391 [==============================] - 16s 40ms/step - loss: 2.0399 - out_c_loss: 0.3713 - out_f_loss: 3.7085 - out_c_accuracy: 0.8842 - out_f_accuracy: 0.1989 - val_loss: 2.8449 - val_out_c_loss: 1.6469 - val_out_f_loss: 4.0428 - val_out_c_accuracy: 0.6278 - val_out_f_accuracy: 0.1560\n",
            "Epoch 19/20\n",
            "391/391 [==============================] - 16s 40ms/step - loss: 1.9788 - out_c_loss: 0.3339 - out_f_loss: 3.6236 - out_c_accuracy: 0.8957 - out_f_accuracy: 0.2140 - val_loss: 2.8301 - val_out_c_loss: 1.6794 - val_out_f_loss: 3.9808 - val_out_c_accuracy: 0.6342 - val_out_f_accuracy: 0.1576\n",
            "Epoch 20/20\n",
            "391/391 [==============================] - 16s 40ms/step - loss: 1.9099 - out_c_loss: 0.2888 - out_f_loss: 3.5311 - out_c_accuracy: 0.9093 - out_f_accuracy: 0.2290 - val_loss: 2.8862 - val_out_c_loss: 1.8096 - val_out_f_loss: 3.9628 - val_out_c_accuracy: 0.6200 - val_out_f_accuracy: 0.1696\n"
          ],
          "name": "stdout"
        }
      ]
    },
    {
      "cell_type": "code",
      "metadata": {
        "id": "LfejO7hZ139a",
        "outputId": "35b3f55e-bfb7-4607-9a1a-3a732b4a2ec9",
        "colab": {
          "base_uri": "https://localhost:8080/"
        }
      },
      "source": [
        "# Create the model\n",
        "model = get_model4(0.5)\n",
        "model.summary()\n",
        "plot_model(model)\n",
        "#train model\n",
        "logdir = os.path.join(\"logs\", datetime.datetime.now().strftime(\"%Y%m%d-%H%M%S\"))\n",
        "tensorboard_callback = tf.keras.callbacks.TensorBoard(logdir, histogram_freq=1)\n",
        "batch = 128\n",
        "history = model.fit(X_train, \n",
        "                    y_train,\n",
        "                    validation_data = (X_val, y_val), \n",
        "                    batch_size=batch, \n",
        "                    epochs=20,\n",
        "                    callbacks=[tensorboard_callback])\n",
        "\n"
      ],
      "execution_count": 37,
      "outputs": [
        {
          "output_type": "stream",
          "text": [
            "Model: \"Model_4\"\n",
            "__________________________________________________________________________________________________\n",
            "Layer (type)                    Output Shape         Param #     Connected to                     \n",
            "==================================================================================================\n",
            "main_input (InputLayer)         [(None, 32, 32, 3)]  0                                            \n",
            "__________________________________________________________________________________________________\n",
            "vgg19 (Functional)              (None, None, None, 5 20024384    main_input[0][0]                 \n",
            "__________________________________________________________________________________________________\n",
            "flatten_29 (Flatten)            (None, 512)          0           vgg19[0][0]                      \n",
            "__________________________________________________________________________________________________\n",
            "logits_f (Dense)                (None, 100)          51300       flatten_29[0][0]                 \n",
            "__________________________________________________________________________________________________\n",
            "relu_f (Activation)             (None, 100)          0           logits_f[0][0]                   \n",
            "__________________________________________________________________________________________________\n",
            "out_c (Dense)                   (None, 20)           2020        relu_f[0][0]                     \n",
            "__________________________________________________________________________________________________\n",
            "out_f (Activation)              (None, 100)          0           logits_f[0][0]                   \n",
            "==================================================================================================\n",
            "Total params: 20,077,704\n",
            "Trainable params: 20,077,704\n",
            "Non-trainable params: 0\n",
            "__________________________________________________________________________________________________\n",
            "Epoch 1/20\n",
            "391/391 [==============================] - 16s 42ms/step - loss: 0.4961 - out_c_loss: 0.3222 - out_f_loss: 0.6700 - out_c_accuracy: 0.9006 - out_f_accuracy: 0.8139 - val_loss: 1.9792 - val_out_c_loss: 1.5511 - val_out_f_loss: 2.4073 - val_out_c_accuracy: 0.6526 - val_out_f_accuracy: 0.4950\n",
            "Epoch 2/20\n",
            "391/391 [==============================] - 16s 40ms/step - loss: 0.4239 - out_c_loss: 0.2693 - out_f_loss: 0.5786 - out_c_accuracy: 0.9167 - out_f_accuracy: 0.8393 - val_loss: 2.1287 - val_out_c_loss: 1.6771 - val_out_f_loss: 2.5804 - val_out_c_accuracy: 0.6536 - val_out_f_accuracy: 0.4966\n",
            "Epoch 3/20\n",
            "391/391 [==============================] - 16s 40ms/step - loss: 0.3647 - out_c_loss: 0.2289 - out_f_loss: 0.5005 - out_c_accuracy: 0.9303 - out_f_accuracy: 0.8621 - val_loss: 2.2069 - val_out_c_loss: 1.7531 - val_out_f_loss: 2.6607 - val_out_c_accuracy: 0.6594 - val_out_f_accuracy: 0.4976\n",
            "Epoch 4/20\n",
            "391/391 [==============================] - 16s 40ms/step - loss: 0.3010 - out_c_loss: 0.1842 - out_f_loss: 0.4178 - out_c_accuracy: 0.9441 - out_f_accuracy: 0.8864 - val_loss: 2.3394 - val_out_c_loss: 1.8779 - val_out_f_loss: 2.8010 - val_out_c_accuracy: 0.6554 - val_out_f_accuracy: 0.4982\n",
            "Epoch 5/20\n",
            "391/391 [==============================] - 16s 40ms/step - loss: 0.2522 - out_c_loss: 0.1535 - out_f_loss: 0.3510 - out_c_accuracy: 0.9530 - out_f_accuracy: 0.9039 - val_loss: 2.4668 - val_out_c_loss: 1.9845 - val_out_f_loss: 2.9491 - val_out_c_accuracy: 0.6544 - val_out_f_accuracy: 0.4930\n",
            "Epoch 6/20\n",
            "391/391 [==============================] - 16s 40ms/step - loss: 0.2102 - out_c_loss: 0.1273 - out_f_loss: 0.2932 - out_c_accuracy: 0.9627 - out_f_accuracy: 0.9206 - val_loss: 2.6119 - val_out_c_loss: 2.1087 - val_out_f_loss: 3.1151 - val_out_c_accuracy: 0.6602 - val_out_f_accuracy: 0.4972\n",
            "Epoch 7/20\n",
            "391/391 [==============================] - 16s 40ms/step - loss: 0.1644 - out_c_loss: 0.0969 - out_f_loss: 0.2319 - out_c_accuracy: 0.9719 - out_f_accuracy: 0.9380 - val_loss: 2.7576 - val_out_c_loss: 2.2296 - val_out_f_loss: 3.2856 - val_out_c_accuracy: 0.6510 - val_out_f_accuracy: 0.4960\n",
            "Epoch 8/20\n",
            "391/391 [==============================] - 16s 40ms/step - loss: 0.1348 - out_c_loss: 0.0801 - out_f_loss: 0.1895 - out_c_accuracy: 0.9770 - out_f_accuracy: 0.9503 - val_loss: 2.8837 - val_out_c_loss: 2.3506 - val_out_f_loss: 3.4167 - val_out_c_accuracy: 0.6490 - val_out_f_accuracy: 0.4932\n",
            "Epoch 9/20\n",
            "391/391 [==============================] - 16s 40ms/step - loss: 0.1129 - out_c_loss: 0.0686 - out_f_loss: 0.1571 - out_c_accuracy: 0.9812 - out_f_accuracy: 0.9590 - val_loss: 2.9488 - val_out_c_loss: 2.4426 - val_out_f_loss: 3.4551 - val_out_c_accuracy: 0.6498 - val_out_f_accuracy: 0.4950\n",
            "Epoch 10/20\n",
            "391/391 [==============================] - 16s 40ms/step - loss: 0.1045 - out_c_loss: 0.0642 - out_f_loss: 0.1448 - out_c_accuracy: 0.9818 - out_f_accuracy: 0.9603 - val_loss: 3.1045 - val_out_c_loss: 2.5881 - val_out_f_loss: 3.6210 - val_out_c_accuracy: 0.6420 - val_out_f_accuracy: 0.4956\n",
            "Epoch 11/20\n",
            "391/391 [==============================] - 16s 40ms/step - loss: 0.0826 - out_c_loss: 0.0526 - out_f_loss: 0.1125 - out_c_accuracy: 0.9850 - out_f_accuracy: 0.9716 - val_loss: 3.3258 - val_out_c_loss: 2.7533 - val_out_f_loss: 3.8982 - val_out_c_accuracy: 0.6524 - val_out_f_accuracy: 0.4908\n",
            "Epoch 12/20\n",
            "391/391 [==============================] - 16s 40ms/step - loss: 0.0693 - out_c_loss: 0.0441 - out_f_loss: 0.0945 - out_c_accuracy: 0.9882 - out_f_accuracy: 0.9764 - val_loss: 3.5029 - val_out_c_loss: 2.9081 - val_out_f_loss: 4.0977 - val_out_c_accuracy: 0.6516 - val_out_f_accuracy: 0.4908\n",
            "Epoch 13/20\n",
            "391/391 [==============================] - 16s 40ms/step - loss: 0.0657 - out_c_loss: 0.0421 - out_f_loss: 0.0893 - out_c_accuracy: 0.9885 - out_f_accuracy: 0.9772 - val_loss: 3.5631 - val_out_c_loss: 2.9854 - val_out_f_loss: 4.1407 - val_out_c_accuracy: 0.6490 - val_out_f_accuracy: 0.5008\n",
            "Epoch 14/20\n",
            "391/391 [==============================] - 16s 40ms/step - loss: 0.0593 - out_c_loss: 0.0411 - out_f_loss: 0.0774 - out_c_accuracy: 0.9880 - out_f_accuracy: 0.9796 - val_loss: 3.5039 - val_out_c_loss: 2.9132 - val_out_f_loss: 4.0947 - val_out_c_accuracy: 0.6472 - val_out_f_accuracy: 0.4932\n",
            "Epoch 15/20\n",
            "391/391 [==============================] - 16s 40ms/step - loss: 0.0473 - out_c_loss: 0.0313 - out_f_loss: 0.0633 - out_c_accuracy: 0.9911 - out_f_accuracy: 0.9855 - val_loss: 3.7875 - val_out_c_loss: 3.2448 - val_out_f_loss: 4.3302 - val_out_c_accuracy: 0.6498 - val_out_f_accuracy: 0.4986\n",
            "Epoch 16/20\n",
            "391/391 [==============================] - 16s 40ms/step - loss: 0.0443 - out_c_loss: 0.0324 - out_f_loss: 0.0561 - out_c_accuracy: 0.9908 - out_f_accuracy: 0.9868 - val_loss: 3.8428 - val_out_c_loss: 3.2502 - val_out_f_loss: 4.4354 - val_out_c_accuracy: 0.6482 - val_out_f_accuracy: 0.4958\n",
            "Epoch 17/20\n",
            "391/391 [==============================] - 16s 40ms/step - loss: 0.0543 - out_c_loss: 0.0384 - out_f_loss: 0.0702 - out_c_accuracy: 0.9881 - out_f_accuracy: 0.9818 - val_loss: 3.6107 - val_out_c_loss: 3.0443 - val_out_f_loss: 4.1772 - val_out_c_accuracy: 0.6556 - val_out_f_accuracy: 0.5020\n",
            "Epoch 18/20\n",
            "391/391 [==============================] - 16s 40ms/step - loss: 0.0518 - out_c_loss: 0.0383 - out_f_loss: 0.0653 - out_c_accuracy: 0.9880 - out_f_accuracy: 0.9841 - val_loss: 3.6149 - val_out_c_loss: 3.0802 - val_out_f_loss: 4.1495 - val_out_c_accuracy: 0.6534 - val_out_f_accuracy: 0.5016\n",
            "Epoch 19/20\n",
            "391/391 [==============================] - 16s 40ms/step - loss: 0.0364 - out_c_loss: 0.0269 - out_f_loss: 0.0458 - out_c_accuracy: 0.9927 - out_f_accuracy: 0.9898 - val_loss: 3.7839 - val_out_c_loss: 3.1885 - val_out_f_loss: 4.3792 - val_out_c_accuracy: 0.6592 - val_out_f_accuracy: 0.5008\n",
            "Epoch 20/20\n",
            "391/391 [==============================] - 16s 40ms/step - loss: 0.0238 - out_c_loss: 0.0168 - out_f_loss: 0.0308 - out_c_accuracy: 0.9954 - out_f_accuracy: 0.9936 - val_loss: 3.8619 - val_out_c_loss: 3.2506 - val_out_f_loss: 4.4732 - val_out_c_accuracy: 0.6546 - val_out_f_accuracy: 0.5014\n"
          ],
          "name": "stdout"
        }
      ]
    },
    {
      "cell_type": "code",
      "metadata": {
        "id": "XopvCXaNevYD",
        "outputId": "c9b28e35-427e-4c82-b742-9db89f96e70e",
        "colab": {
          "base_uri": "https://localhost:8080/",
          "height": 295
        }
      },
      "source": [
        "out_f_accuracy = history.history['out_f_accuracy']\n",
        "out_c_accuracy = history.history['out_c_accuracy']\n",
        "val_out_f_accuracy = history.history['val_out_f_accuracy']\n",
        "val_out_c_accuracy = history.history['val_out_c_accuracy']\n",
        "loss = history.history['loss']\n",
        "val_loss = history.history['val_loss']\n",
        "epochs = range(1, len(loss) + 1)\n",
        "\n",
        "plt.figure(figsize=(15,4))\n",
        "\n",
        "ax1 = plt.subplot(1, 2, 1)\n",
        "plt.plot(epochs, loss, label='Training loss')\n",
        "plt.plot(epochs, val_loss, label='Validation loss')\n",
        "plt.fill_between(epochs, loss,val_loss,color='g',alpha=.1)\n",
        "\n",
        "plt.title('Training and validation loss')\n",
        "plt.xlabel('Epochs')\n",
        "plt.ylabel('Loss')\n",
        "plt.legend()\n",
        "\n",
        "ax2 = plt.subplot(1, 2, 2)\n",
        "plt.plot(epochs, out_f_accuracy, label='Training f accuracy')\n",
        "plt.plot(epochs, out_c_accuracy, label='Training c accuracy')\n",
        "plt.plot(epochs, val_out_f_accuracy, label='Validation f accuracy')\n",
        "plt.plot(epochs, val_out_c_accuracy, label='Validation c accuracy')\n",
        "# plt.fill_between(epochs, acc,val_acc,color='g',alpha=.1)\n",
        "plt.title('Training and validation accuracy')\n",
        "plt.xlabel('Epochs')\n",
        "plt.ylabel('Accuracy')\n",
        "plt.legend()\n",
        "plt.show()"
      ],
      "execution_count": 38,
      "outputs": [
        {
          "output_type": "display_data",
          "data": {
            "image/png": "[encoded data removed]",
            "text/plain": [
              "<Figure size 1080x288 with 2 Axes>"
            ]
          },
          "metadata": {
            "tags": [],
            "needs_background": "light"
          }
        }
      ]
    }
  ]
}