{
 "cells": [
  {
   "cell_type": "code",
   "execution_count": null,
   "metadata": {},
   "outputs": [],
   "source": [
    "import tensorflow as tf\n",
    "from keras.datasets import cifar100\n",
    "from tensorflow.keras.layers import Input, Conv2D, Dropout, MaxPooling2D, Flatten, Dense,AveragePooling2D\n",
    "from tensorflow.keras.models import Model\n",
    "from tensorflow import keras\n",
    "import numpy as np\n",
    "import matplotlib.pyplot as plt\n"
   ]
  },
  {
   "cell_type": "code",
   "execution_count": null,
   "metadata": {},
   "outputs": [],
   "source": [
    "#Load dataset\n",
    "(X_c_train, y_c_train), (X_c_test, y_c_test) = cifar100.load_data(label_mode='coarse')\n",
    "(X_f_train, y_f_train), (X_f_test, y_f_test) = cifar100.load_data(label_mode='fine')\n",
    "\n",
    "X_train = X_c_train\n",
    "X_test = X_c_test\n",
    "y_train = [y_c_train, y_f_train]\n",
    "y_test = [y_c_test, y_f_test]\n",
    "\n",
    "num_classes_c = len(set([v[0] for v in y_c_train]))\n",
    "num_classes_f = len(set([v[0] for v in y_f_train]))\n",
    "\n"
   ]
  },
  {
   "cell_type": "code",
   "execution_count": null,
   "metadata": {},
   "outputs": [],
   "source": [
    "def get_model1():\n",
    "    # Conv base\n",
    "    in_layer = Input(shape=(32, 32, 3), dtype='float32', name='main_input')\n",
    "    conv_base = keras.applications.VGG19(\n",
    "        include_top=False,\n",
    "        weights=\"imagenet\")(in_layer)\n",
    "    # coarse output\n",
    "    out_c = Dense(num_classes_c, activation=\"softmax\", name='out_c')(conv_base)\n",
    "    # fine output \n",
    "    out_f = Dense(num_classes_f, activation=\"softmax\", name='out_f')(conv_base)\n",
    "    # Build the model\n",
    "    model = Model(\n",
    "            inputs=in_layer,\n",
    "            outputs=[out_c, out_f])\n",
    "    loss = keras.losses.SparseCategoricalCrossentropy()\n",
    "    optimizer = keras.optimizers.Adam(lr=0.001)\n",
    "    model.compile(optimizer=optimizer, \n",
    "                  loss=[loss, loss],\n",
    "                  loss_weights=[0.5, 0.5],\n",
    "                  metrics=['accuracy'])\n",
    "    return model\n"
   ]
  },
  {
   "cell_type": "code",
   "execution_count": null,
   "metadata": {},
   "outputs": [],
   "source": [
    "batch = 64\n",
    "model = get_model1()\n",
    "model.summary()\n"
   ]
  },
  {
   "cell_type": "code",
   "execution_count": null,
   "metadata": {},
   "outputs": [],
   "source": [
    "#train model\n",
    "history = model.fit(X_train, \n",
    "                    y_train,\n",
    "                    validation_data = (X_test, y_test), \n",
    "                    batch_size=batch, \n",
    "                    epochs=15)\n"
   ]
  },
  {
   "cell_type": "code",
   "execution_count": null,
   "metadata": {},
   "outputs": [],
   "source": [
    "out_f_accuracy = history.history['out_f_accuracy']\n",
    "out_c_accuracy = history.history['out_c_accuracy']\n",
    "val_out_f_accuracy = history.history['val_out_f_accuracy']\n",
    "val_out_c_accuracy = history.history['val_out_c_accuracy']\n",
    "loss = history.history['loss']\n",
    "val_loss = history.history['val_loss']\n",
    "epochs = range(1, len(loss) + 1)\n",
    "\n",
    "plt.figure(figsize=(15,4))\n",
    "\n",
    "ax1 = plt.subplot(1, 2, 1)\n",
    "plt.plot(epochs, loss, label='Training loss')\n",
    "plt.plot(epochs, val_loss, label='Validation loss')\n",
    "plt.fill_between(epochs, loss,val_loss,color='g',alpha=.1)\n",
    "\n",
    "plt.title('Training and validation loss')\n",
    "plt.xlabel('Epochs')\n",
    "plt.ylabel('Loss')\n",
    "plt.legend()\n",
    "\n",
    "ax2 = plt.subplot(1, 2, 2)\n",
    "plt.plot(epochs, out_f_accuracy, label='Training f accuracy')\n",
    "plt.plot(epochs, out_c_accuracy, label='Training c accuracy')\n",
    "plt.plot(epochs, val_out_f_accuracy, label='Validation f accuracy')\n",
    "plt.plot(epochs, val_out_c_accuracy, label='Validation c accuracy')\n",
    "# plt.fill_between(epochs, acc,val_acc,color='g',alpha=.1)\n",
    "plt.title('Training and validation accuracy')\n",
    "plt.xlabel('Epochs')\n",
    "plt.ylabel('Accuracy')\n",
    "plt.legend()\n",
    "plt.show()"
   ]
  },
  {
   "cell_type": "code",
   "execution_count": null,
   "metadata": {},
   "outputs": [],
   "source": []
  }
 ],
 "metadata": {
  "kernelspec": {
   "display_name": "Python 3",
   "language": "python",
   "name": "python3"
  },
  "language_info": {
   "codemirror_mode": {
    "name": "ipython",
    "version": 3
   },
   "file_extension": ".py",
   "mimetype": "text/x-python",
   "name": "python",
   "nbconvert_exporter": "python",
   "pygments_lexer": "ipython3",
   "version": "3.8.5"
  },
  "latex_envs": {
   "LaTeX_envs_menu_present": true,
   "autoclose": false,
   "autocomplete": true,
   "bibliofile": "biblio.bib",
   "cite_by": "apalike",
   "current_citInitial": 1,
   "eqLabelWithNumbers": true,
   "eqNumInitial": 1,
   "hotkeys": {
    "equation": "Ctrl-E",
    "itemize": "Ctrl-I"
   },
   "labels_anchors": false,
   "latex_user_defs": false,
   "report_style_numbering": false,
   "user_envs_cfg": false
  }
 },
 "nbformat": 4,
 "nbformat_minor": 2
}
